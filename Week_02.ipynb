{
  "nbformat": 4,
  "nbformat_minor": 0,
  "metadata": {
    "colab": {
      "provenance": [],
      "authorship_tag": "ABX9TyPqOngoSo1+m/NXCI7apOgM",
      "include_colab_link": true
    },
    "kernelspec": {
      "name": "python3",
      "display_name": "Python 3"
    },
    "language_info": {
      "name": "python"
    }
  },
  "cells": [
    {
      "cell_type": "markdown",
      "metadata": {
        "id": "view-in-github",
        "colab_type": "text"
      },
      "source": [
        "<a href=\"https://colab.research.google.com/github/Umarsmuhammed/Arewa_DeepLearning/blob/main/Week_02.ipynb\" target=\"_parent\"><img src=\"https://colab.research.google.com/assets/colab-badge.svg\" alt=\"Open In Colab\"/></a>"
      ]
    },
    {
      "cell_type": "markdown",
      "source": [
        "# **PyTorch Workflow: Week two Assignment**"
      ],
      "metadata": {
        "id": "82LFg2oE9sQM"
      }
    },
    {
      "cell_type": "code",
      "source": [
        "# First we import required libraries\n",
        "import torch\n",
        "import matplotlib.pyplot as plt\n",
        "from torch import nn"
      ],
      "metadata": {
        "id": "YF_GJ_5g98rA"
      },
      "execution_count": 3,
      "outputs": []
    },
    {
      "cell_type": "markdown",
      "source": [
        "# We then Set up device-agnostic code"
      ],
      "metadata": {
        "id": "i5joHO_b_h1f"
      }
    },
    {
      "cell_type": "code",
      "source": [
        "device = \"cuda\" if torch.cuda.is_available() else \"cpu\"\n",
        "device"
      ],
      "metadata": {
        "id": "nQpvVZCa_2uq",
        "outputId": "d6185be1-e7a9-4039-875a-186c05483c08",
        "colab": {
          "base_uri": "https://localhost:8080/",
          "height": 36
        }
      },
      "execution_count": 4,
      "outputs": [
        {
          "output_type": "execute_result",
          "data": {
            "text/plain": [
              "'cpu'"
            ],
            "application/vnd.google.colaboratory.intrinsic+json": {
              "type": "string"
            }
          },
          "metadata": {},
          "execution_count": 4
        }
      ]
    },
    {
      "cell_type": "markdown",
      "source": [
        "1.\n",
        "\n",
        "**Step 1:** We create a straight line dataset using the linear regression formula (weight * X + bias), by setting weight=0.3 and bias=0.9"
      ],
      "metadata": {
        "id": "cFntoQSCB48z"
      }
    },
    {
      "cell_type": "code",
      "source": [
        "# Create *known* parameters\n",
        "weight = 0.3\n",
        "bias = 0.9\n",
        "\n",
        "# Create data\n",
        "start = 0\n",
        "end = 1\n",
        "step = 0.02\n",
        "X = torch.arange(0, 1, 0.01).unsqueeze(dim=1)\n",
        "y = weight * X + bias\n",
        "\n",
        "print(f\"Number of X samples: {len(X)}\")\n",
        "print(f\"Number of y samples: {len(y)}\")\n",
        "print(f\"First 10 X & y samples:\\nX: {X[:10]}\\ny: {y[:10]}\")"
      ],
      "metadata": {
        "id": "BhsjVT1KCsUA",
        "outputId": "831b5df7-52a8-480f-becf-0cf67454825d",
        "colab": {
          "base_uri": "https://localhost:8080/"
        }
      },
      "execution_count": 5,
      "outputs": [
        {
          "output_type": "stream",
          "name": "stdout",
          "text": [
            "Number of X samples: 100\n",
            "Number of y samples: 100\n",
            "First 10 X & y samples:\n",
            "X: tensor([[0.0000],\n",
            "        [0.0100],\n",
            "        [0.0200],\n",
            "        [0.0300],\n",
            "        [0.0400],\n",
            "        [0.0500],\n",
            "        [0.0600],\n",
            "        [0.0700],\n",
            "        [0.0800],\n",
            "        [0.0900]])\n",
            "y: tensor([[0.9000],\n",
            "        [0.9030],\n",
            "        [0.9060],\n",
            "        [0.9090],\n",
            "        [0.9120],\n",
            "        [0.9150],\n",
            "        [0.9180],\n",
            "        [0.9210],\n",
            "        [0.9240],\n",
            "        [0.9270]])\n"
          ]
        }
      ]
    },
    {
      "cell_type": "markdown",
      "source": [
        "**Step 2:** Split the data into 80% training, 20% testing.\n",
        "Plot the training and testing data so it becomes visual."
      ],
      "metadata": {
        "id": "Q77v5pENDKW0"
      }
    },
    {
      "cell_type": "code",
      "source": [
        "# Split the data into training and testing\n",
        "train_split = int(len(X) * 0.8) # Out total 100 datapoints, we split the data into 80% training, 20% testing.\n",
        "X_train = X[:train_split]\n",
        "y_train = y[:train_split]\n",
        "X_test = X[train_split:]\n",
        "y_test = y[train_split:]\n",
        "len(X_train),len(y_train),len(X_test),len(y_test)"
      ],
      "metadata": {
        "id": "8LZIC0f1FXOd",
        "outputId": "b964352e-09de-4a76-e5b9-67e49e7ffdaa",
        "colab": {
          "base_uri": "https://localhost:8080/"
        }
      },
      "execution_count": 6,
      "outputs": [
        {
          "output_type": "execute_result",
          "data": {
            "text/plain": [
              "(80, 80, 20, 20)"
            ]
          },
          "metadata": {},
          "execution_count": 6
        }
      ]
    },
    {
      "cell_type": "markdown",
      "source": [
        "**Step 3:** Plot the training and testing data"
      ],
      "metadata": {
        "id": "TpEhdHOiGkbl"
      }
    },
    {
      "cell_type": "code",
      "source": [
        "def plot_predictions(train_data=X_train,\n",
        "                     train_labels=y_train,\n",
        "                     test_data=X_test,\n",
        "                     test_labels=y_test,\n",
        "                     predictions=None):\n",
        "  \"\"\"\n",
        "  Plots training data, test data and compares predictions.\n",
        "  \"\"\"\n",
        "  plt.figure(figsize=(10, 7))\n",
        "\n",
        "  # Plot training data in blue\n",
        "  plt.scatter(train_data, train_labels, c=\"b\", s=4, label=\"Training data\")\n",
        "\n",
        "  # Plot test data in green\n",
        "  plt.scatter(test_data, test_labels, c=\"g\", s=4, label=\"Testing data\")\n",
        "\n",
        "  if predictions is not None:\n",
        "    # Plot the predictions in red (predictions were made on the test data)\n",
        "    plt.scatter(test_data, predictions, c=\"r\", s=4, label=\"Predictions\")\n",
        "\n",
        "  # Show the legend\n",
        "  plt.legend(prop={\"size\": 14});\n",
        "plot_predictions()"
      ],
      "metadata": {
        "id": "o_gcj3phGuGm",
        "outputId": "3c655159-3d08-4084-95cc-c38b26ee0af4",
        "colab": {
          "base_uri": "https://localhost:8080/",
          "height": 599
        }
      },
      "execution_count": 7,
      "outputs": [
        {
          "output_type": "display_data",
          "data": {
            "text/plain": [
              "<Figure size 1000x700 with 1 Axes>"
            ],
            "image/png": "[encoded data removed]"
          },
          "metadata": {}
        }
      ]
    },
    {
      "cell_type": "markdown",
      "source": [
        "2. Build a PyTorch model by subclassing nn.Module.\n",
        "Let's replicate a standard linear regression model using pure PyTorch."
      ],
      "metadata": {
        "id": "cyML_FBGNj-y"
      }
    },
    {
      "cell_type": "code",
      "source": [
        "# Create PyTorch linear regression model by subclassing nn.Module\n",
        "## Option 1\n",
        "#class LinearRegressionModel(nn.Module):\n",
        " # def __init__(self):\n",
        "  #  super().__init__()\n",
        "   # self.weight = nn.Parameter(data=torch.randn(1,\n",
        "    ##                                         dtype=torch.float\n",
        "      #                                        ))\n",
        "    #f.bias = nn.Parameter(data=torch.randn(1,\n",
        "     #                                         requires_grad=True,\n",
        "      #                                        dtype=torch.float\n",
        "       #                                       ))\n",
        "\n",
        "  #def forward(self, x):\n",
        "   # return self.weight * x + self.bias\n",
        "\n",
        "# ## Option 2\n",
        "class LinearRegressionModel(nn.Module):\n",
        "   def __init__(self):\n",
        "     super().__init__()\n",
        "     self.linear_layer = nn.Linear(in_features = 1,\n",
        "                                   out_features = 1)\n",
        "   def forward(self,x : torch.Tensor) -> torch.Tensor:  # <- \"x\" is the input data (e.g. training/testing features)\n",
        "     return self.linear_layer(x)  # <- this is the linear regression formula (y = m*x + b)"
      ],
      "metadata": {
        "id": "WjU1tjydN1HI"
      },
      "execution_count": 9,
      "outputs": []
    },
    {
      "cell_type": "markdown",
      "source": [
        "Checking the contents of a PyTorch model"
      ],
      "metadata": {
        "id": "85RTOAv6RitJ"
      }
    },
    {
      "cell_type": "code",
      "source": [
        "# Set manual seed since nn.Parameter are randomly initialzied\n",
        "torch.manual_seed(40)\n",
        "\n",
        "# Create an instance of the model (this is a subclass of nn.Module that contains nn.Parameter(s))\n",
        "model_1 = LinearRegressionModel()\n",
        "\n",
        "# Check the nn.Parameter(s) within the nn.Module subclass we created\n",
        "list(model_1.parameters())\n",
        "\n",
        "torch.manual_seed(40)\n",
        "model_1 = LinearRegressionModel()\n",
        "model_1,model_1.state_dict()"
      ],
      "metadata": {
        "id": "fHos8olMRkk9",
        "outputId": "12c0e37d-8b7d-4b81-db83-e631a76b2bfa",
        "colab": {
          "base_uri": "https://localhost:8080/"
        }
      },
      "execution_count": 11,
      "outputs": [
        {
          "output_type": "execute_result",
          "data": {
            "text/plain": [
              "(LinearRegressionModel(\n",
              "   (linear_layer): Linear(in_features=1, out_features=1, bias=True)\n",
              " ),\n",
              " OrderedDict([('linear_layer.weight', tensor([[-0.2642]])),\n",
              "              ('linear_layer.bias', tensor([0.7322]))]))"
            ]
          },
          "metadata": {},
          "execution_count": 11
        }
      ]
    },
    {
      "cell_type": "markdown",
      "source": [
        "#3. Create a loss function and optimizer using nn.L1Loss() and torch.optim.SGD(params, lr) respectively."
      ],
      "metadata": {
        "id": "gs9xn4ETSIo9"
      }
    },
    {
      "cell_type": "code",
      "source": [
        "# Create the loss function\n",
        "loss_fn = nn.L1Loss() # MAE loss is same as L1Loss\n",
        "\n",
        "# Create the optimizer\n",
        "optimizer = torch.optim.SGD(params=model_1.parameters(), # parameters of target model to optimize\n",
        "                            lr=0.01) # learning rate"
      ],
      "metadata": {
        "id": "RHYxqH1BVyKj"
      },
      "execution_count": 13,
      "outputs": []
    },
    {
      "cell_type": "markdown",
      "source": [
        "Let's put all of the above together and train our model for 100 epochs (forward passes through the data) and we'll evaluate it every 10 epochs."
      ],
      "metadata": {
        "id": "-3ktZ7QgXMKL"
      }
    },
    {
      "cell_type": "code",
      "source": [
        "torch.manual_seed(40)\n",
        "\n",
        "# Set the number of epochs (how many times the model will pass over the training data)\n",
        "epochs = 300\n",
        "\n",
        "# Create empty loss lists to track values\n",
        "train_loss_values = []\n",
        "test_loss_values = []\n",
        "epoch_count = []\n",
        "\n",
        "for epoch in range(epochs):\n",
        "    ### Training\n",
        "\n",
        "    # Put model in training mode (this is the default state of a model)\n",
        "    model_1.train()\n",
        "\n",
        "    # 1. Forward pass on train data using the forward() method inside\n",
        "    y_pred = model_1(X_train)\n",
        "    # print(y_pred)\n",
        "\n",
        "    # 2. Calculate the loss (how different are our models predictions to the ground truth)\n",
        "    loss = loss_fn(y_pred, y_train)\n",
        "\n",
        "    # 3. Zero grad of the optimizer\n",
        "    optimizer.zero_grad()\n",
        "\n",
        "    # 4. Loss backwards\n",
        "    loss.backward()\n",
        "\n",
        "    # 5. Progress the optimizer\n",
        "    optimizer.step()\n",
        "\n",
        "    ### Testing\n",
        "\n",
        "    # Put the model in evaluation mode\n",
        "    model_1.eval()\n",
        "\n",
        "    with torch.inference_mode():\n",
        "      # 1. Forward pass on test data\n",
        "      test_pred = model_1(X_test)\n",
        "\n",
        "      # 2. Caculate loss on test data\n",
        "      test_loss = loss_fn(test_pred, y_test.type(torch.float)) # predictions come in torch.float datatype, so comparisons need to be done with tensors of the same type\n",
        "\n",
        "      # Print out what's happening\n",
        "      if epoch % 20 == 0:\n",
        "            epoch_count.append(epoch)\n",
        "            train_loss_values.append(loss.detach().numpy())\n",
        "            test_loss_values.append(test_loss.detach().numpy())\n",
        "            print(f\"Epoch: {epoch} | MAE Train Loss: {loss} | MAE Test Loss: {test_loss} \")"
      ],
      "metadata": {
        "id": "ll8SkekXXPIQ",
        "outputId": "bdff776f-7a0a-456c-fd31-87beb04b4924",
        "colab": {
          "base_uri": "https://localhost:8080/"
        }
      },
      "execution_count": 14,
      "outputs": [
        {
          "output_type": "stream",
          "name": "stdout",
          "text": [
            "Epoch: 0 | MAE Train Loss: 0.3906722664833069 | MAE Test Loss: 0.6592587232589722 \n",
            "Epoch: 20 | MAE Train Loss: 0.16442446410655975 | MAE Test Loss: 0.3926299214363098 \n",
            "Epoch: 40 | MAE Train Loss: 0.08731291443109512 | MAE Test Loss: 0.23980149626731873 \n",
            "Epoch: 60 | MAE Train Loss: 0.07414168119430542 | MAE Test Loss: 0.1830405443906784 \n",
            "Epoch: 80 | MAE Train Loss: 0.06695624440908432 | MAE Test Loss: 0.15779133141040802 \n",
            "Epoch: 100 | MAE Train Loss: 0.060096271336078644 | MAE Test Loss: 0.14111869037151337 \n",
            "Epoch: 120 | MAE Train Loss: 0.053244449198246 | MAE Test Loss: 0.1251339167356491 \n",
            "Epoch: 140 | MAE Train Loss: 0.04639333486557007 | MAE Test Loss: 0.1088055819272995 \n",
            "Epoch: 160 | MAE Train Loss: 0.039541762322187424 | MAE Test Loss: 0.09247813373804092 \n",
            "Epoch: 180 | MAE Train Loss: 0.03268999233841896 | MAE Test Loss: 0.07649458944797516 \n",
            "Epoch: 200 | MAE Train Loss: 0.02583879604935646 | MAE Test Loss: 0.06016702204942703 \n",
            "Epoch: 220 | MAE Train Loss: 0.01898711919784546 | MAE Test Loss: 0.043839454650878906 \n",
            "Epoch: 240 | MAE Train Loss: 0.012135421857237816 | MAE Test Loss: 0.02785583771765232 \n",
            "Epoch: 260 | MAE Train Loss: 0.00528422836214304 | MAE Test Loss: 0.01152829546481371 \n",
            "Epoch: 280 | MAE Train Loss: 0.0024133524857461452 | MAE Test Loss: 0.013707268051803112 \n"
          ]
        }
      ]
    },
    {
      "cell_type": "markdown",
      "source": [
        "# 4. Make predictions with the trained model on the test data.\n",
        "  - Making predictions using torch.inference_mode()"
      ],
      "metadata": {
        "id": "aVT-N61pYpZq"
      }
    },
    {
      "cell_type": "code",
      "source": [
        "# Make predictions with the model\n",
        "model_1.eval()\n",
        "\n",
        "with torch.inference_mode():\n",
        "  y_preds = model_1(X_test)\n",
        "y_preds"
      ],
      "metadata": {
        "id": "vEVW6RCVYuBS",
        "outputId": "2500defb-9ad2-4341-bbe2-6507b0ab1fed",
        "colab": {
          "base_uri": "https://localhost:8080/"
        }
      },
      "execution_count": 15,
      "outputs": [
        {
          "output_type": "execute_result",
          "data": {
            "text/plain": [
              "tensor([[1.1403],\n",
              "        [1.1433],\n",
              "        [1.1462],\n",
              "        [1.1492],\n",
              "        [1.1521],\n",
              "        [1.1551],\n",
              "        [1.1580],\n",
              "        [1.1610],\n",
              "        [1.1639],\n",
              "        [1.1669],\n",
              "        [1.1698],\n",
              "        [1.1728],\n",
              "        [1.1757],\n",
              "        [1.1786],\n",
              "        [1.1816],\n",
              "        [1.1845],\n",
              "        [1.1875],\n",
              "        [1.1904],\n",
              "        [1.1934],\n",
              "        [1.1963]])"
            ]
          },
          "metadata": {},
          "execution_count": 15
        }
      ]
    },
    {
      "cell_type": "code",
      "source": [
        "# Plot predictions\n",
        "plot_predictions(predictions=y_preds)"
      ],
      "metadata": {
        "id": "vEBUOj6oa0RQ",
        "outputId": "e2ac514e-5ef7-438b-eb53-6e5dac63d186",
        "colab": {
          "base_uri": "https://localhost:8080/",
          "height": 599
        }
      },
      "execution_count": 16,
      "outputs": [
        {
          "output_type": "display_data",
          "data": {
            "text/plain": [
              "<Figure size 1000x700 with 1 Axes>"
            ],
            "image/png": "[encoded data removed]"
          },
          "metadata": {}
        }
      ]
    },
    {
      "cell_type": "markdown",
      "source": [
        "#5. Save your trained model's state_dict() to file.\n",
        "- Create a new instance of your model class you made in 2. and load in the state_dict() you just saved to it.\n",
        "- Perform predictions on your test data with the loaded model and confirm they match the original model predictions from 4."
      ],
      "metadata": {
        "id": "U2W5JMOhbVgm"
      }
    },
    {
      "cell_type": "code",
      "source": [
        "from pathlib import Path\n",
        "\n",
        "# 1. Create models directory\n",
        "MODEL_PATH = Path(\"models\")\n",
        "MODEL_PATH.mkdir(parents = True,exist_ok = True)\n",
        "# 2. Create model save path\n",
        "MODEL_NAME = \"pytorch_fundamental\"\n",
        "MODEL_SAVE_PATH = MODEL_PATH / MODEL_NAME\n",
        "# 3. Save the model state dict\n",
        "print(f\"Saving model to {MODEL_SAVE_PATH}\")\n",
        "torch.save(obj = model_1.state_dict(),f = MODEL_SAVE_PATH)"
      ],
      "metadata": {
        "id": "WiUrlboUbdV2",
        "outputId": "b3675058-a55f-41c7-97d8-9a91b45e6401",
        "colab": {
          "base_uri": "https://localhost:8080/"
        }
      },
      "execution_count": 17,
      "outputs": [
        {
          "output_type": "stream",
          "name": "stdout",
          "text": [
            "Saving model to models/pytorch_fundamental\n"
          ]
        }
      ]
    },
    {
      "cell_type": "code",
      "source": [
        "# Create new instance of model and load saved state dict (make sure to put it on the target device)\n",
        "loaded_model = LinearRegressionModel()\n",
        "loaded_model.load_state_dict(torch.load(f = MODEL_SAVE_PATH))\n",
        "loaded_model.to(device)\n"
      ],
      "metadata": {
        "id": "hQCyvIN1b5lf",
        "outputId": "048dbf3d-d104-4e1d-c8fd-ab37f91db77a",
        "colab": {
          "base_uri": "https://localhost:8080/"
        }
      },
      "execution_count": 18,
      "outputs": [
        {
          "output_type": "execute_result",
          "data": {
            "text/plain": [
              "LinearRegressionModel(\n",
              "  (linear_layer): Linear(in_features=1, out_features=1, bias=True)\n",
              ")"
            ]
          },
          "metadata": {},
          "execution_count": 18
        }
      ]
    },
    {
      "cell_type": "code",
      "source": [
        "# Make predictions with loaded model and compare them to the previous\n",
        "y_preds_new = loaded_model(X_test)\n",
        "y_preds == y_preds_new\n"
      ],
      "metadata": {
        "id": "f2LVfvQScApO",
        "outputId": "70ec4c82-9724-441d-a1e5-6b16779bd5de",
        "colab": {
          "base_uri": "https://localhost:8080/"
        }
      },
      "execution_count": 19,
      "outputs": [
        {
          "output_type": "execute_result",
          "data": {
            "text/plain": [
              "tensor([[True],\n",
              "        [True],\n",
              "        [True],\n",
              "        [True],\n",
              "        [True],\n",
              "        [True],\n",
              "        [True],\n",
              "        [True],\n",
              "        [True],\n",
              "        [True],\n",
              "        [True],\n",
              "        [True],\n",
              "        [True],\n",
              "        [True],\n",
              "        [True],\n",
              "        [True],\n",
              "        [True],\n",
              "        [True],\n",
              "        [True],\n",
              "        [True]])"
            ]
          },
          "metadata": {},
          "execution_count": 19
        }
      ]
    },
    {
      "cell_type": "code",
      "source": [
        "loaded_model.state_dict()"
      ],
      "metadata": {
        "id": "i6ztnrKncCyb",
        "outputId": "957ccbf9-5b56-4f6f-929b-fc3bd6bfe83a",
        "colab": {
          "base_uri": "https://localhost:8080/"
        }
      },
      "execution_count": 20,
      "outputs": [
        {
          "output_type": "execute_result",
          "data": {
            "text/plain": [
              "OrderedDict([('linear_layer.weight', tensor([[0.2948]])),\n",
              "             ('linear_layer.bias', tensor([0.9045]))])"
            ]
          },
          "metadata": {},
          "execution_count": 20
        }
      ]
    }
  ]
}