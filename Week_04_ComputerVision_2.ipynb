{
  "nbformat": 4,
  "nbformat_minor": 0,
  "metadata": {
    "colab": {
      "provenance": [],
      "gpuType": "T4",
      "authorship_tag": "ABX9TyMUCUl9KIpjIpIhJ9P4PjOK",
      "include_colab_link": true
    },
    "kernelspec": {
      "name": "python3",
      "display_name": "Python 3"
    },
    "language_info": {
      "name": "python"
    },
    "accelerator": "GPU",
    "widgets": {
      "application/vnd.jupyter.widget-state+json": {
        "174d56fe612243edafbe103072fa7dc0": {
          "model_module": "@jupyter-widgets/controls",
          "model_name": "HBoxModel",
          "model_module_version": "1.5.0",
          "state": {
            "_dom_classes": [],
            "_model_module": "@jupyter-widgets/controls",
            "_model_module_version": "1.5.0",
            "_model_name": "HBoxModel",
            "_view_count": null,
            "_view_module": "@jupyter-widgets/controls",
            "_view_module_version": "1.5.0",
            "_view_name": "HBoxView",
            "box_style": "",
            "children": [
              "IPY_MODEL_b9de4857560241bc998cdca08c64fcaf",
              "IPY_MODEL_d5cd5b09354f4a138b92ce62e8729e18",
              "IPY_MODEL_c7816e9ba16a464ca151632c7ccb358c"
            ],
            "layout": "IPY_MODEL_bce7bc960ba94cca8fdec371292d7bce"
          }
        },
        "b9de4857560241bc998cdca08c64fcaf": {
          "model_module": "@jupyter-widgets/controls",
          "model_name": "HTMLModel",
          "model_module_version": "1.5.0",
          "state": {
            "_dom_classes": [],
            "_model_module": "@jupyter-widgets/controls",
            "_model_module_version": "1.5.0",
            "_model_name": "HTMLModel",
            "_view_count": null,
            "_view_module": "@jupyter-widgets/controls",
            "_view_module_version": "1.5.0",
            "_view_name": "HTMLView",
            "description": "",
            "description_tooltip": null,
            "layout": "IPY_MODEL_cbe088774ce84321b143f5af99b7d555",
            "placeholder": "​",
            "style": "IPY_MODEL_db0d3cb048624f19af4f766ea8079dfb",
            "value": "100%"
          }
        },
        "d5cd5b09354f4a138b92ce62e8729e18": {
          "model_module": "@jupyter-widgets/controls",
          "model_name": "FloatProgressModel",
          "model_module_version": "1.5.0",
          "state": {
            "_dom_classes": [],
            "_model_module": "@jupyter-widgets/controls",
            "_model_module_version": "1.5.0",
            "_model_name": "FloatProgressModel",
            "_view_count": null,
            "_view_module": "@jupyter-widgets/controls",
            "_view_module_version": "1.5.0",
            "_view_name": "ProgressView",
            "bar_style": "success",
            "description": "",
            "description_tooltip": null,
            "layout": "IPY_MODEL_0495f64ae0114b0c94ac155401102174",
            "max": 5,
            "min": 0,
            "orientation": "horizontal",
            "style": "IPY_MODEL_a1ba4fc1ecda4f479344a18c1eef9979",
            "value": 5
          }
        },
        "c7816e9ba16a464ca151632c7ccb358c": {
          "model_module": "@jupyter-widgets/controls",
          "model_name": "HTMLModel",
          "model_module_version": "1.5.0",
          "state": {
            "_dom_classes": [],
            "_model_module": "@jupyter-widgets/controls",
            "_model_module_version": "1.5.0",
            "_model_name": "HTMLModel",
            "_view_count": null,
            "_view_module": "@jupyter-widgets/controls",
            "_view_module_version": "1.5.0",
            "_view_name": "HTMLView",
            "description": "",
            "description_tooltip": null,
            "layout": "IPY_MODEL_e79db0aee2d9491ba5164c21046f34d0",
            "placeholder": "​",
            "style": "IPY_MODEL_5b8baf68d9694f5eade117bcccc320f5",
            "value": " 5/5 [03:33&lt;00:00, 42.74s/it]"
          }
        },
        "bce7bc960ba94cca8fdec371292d7bce": {
          "model_module": "@jupyter-widgets/base",
          "model_name": "LayoutModel",
          "model_module_version": "1.2.0",
          "state": {
            "_model_module": "@jupyter-widgets/base",
            "_model_module_version": "1.2.0",
            "_model_name": "LayoutModel",
            "_view_count": null,
            "_view_module": "@jupyter-widgets/base",
            "_view_module_version": "1.2.0",
            "_view_name": "LayoutView",
            "align_content": null,
            "align_items": null,
            "align_self": null,
            "border": null,
            "bottom": null,
            "display": null,
            "flex": null,
            "flex_flow": null,
            "grid_area": null,
            "grid_auto_columns": null,
            "grid_auto_flow": null,
            "grid_auto_rows": null,
            "grid_column": null,
            "grid_gap": null,
            "grid_row": null,
            "grid_template_areas": null,
            "grid_template_columns": null,
            "grid_template_rows": null,
            "height": null,
            "justify_content": null,
            "justify_items": null,
            "left": null,
            "margin": null,
            "max_height": null,
            "max_width": null,
            "min_height": null,
            "min_width": null,
            "object_fit": null,
            "object_position": null,
            "order": null,
            "overflow": null,
            "overflow_x": null,
            "overflow_y": null,
            "padding": null,
            "right": null,
            "top": null,
            "visibility": null,
            "width": null
          }
        },
        "cbe088774ce84321b143f5af99b7d555": {
          "model_module": "@jupyter-widgets/base",
          "model_name": "LayoutModel",
          "model_module_version": "1.2.0",
          "state": {
            "_model_module": "@jupyter-widgets/base",
            "_model_module_version": "1.2.0",
            "_model_name": "LayoutModel",
            "_view_count": null,
            "_view_module": "@jupyter-widgets/base",
            "_view_module_version": "1.2.0",
            "_view_name": "LayoutView",
            "align_content": null,
            "align_items": null,
            "align_self": null,
            "border": null,
            "bottom": null,
            "display": null,
            "flex": null,
            "flex_flow": null,
            "grid_area": null,
            "grid_auto_columns": null,
            "grid_auto_flow": null,
            "grid_auto_rows": null,
            "grid_column": null,
            "grid_gap": null,
            "grid_row": null,
            "grid_template_areas": null,
            "grid_template_columns": null,
            "grid_template_rows": null,
            "height": null,
            "justify_content": null,
            "justify_items": null,
            "left": null,
            "margin": null,
            "max_height": null,
            "max_width": null,
            "min_height": null,
            "min_width": null,
            "object_fit": null,
            "object_position": null,
            "order": null,
            "overflow": null,
            "overflow_x": null,
            "overflow_y": null,
            "padding": null,
            "right": null,
            "top": null,
            "visibility": null,
            "width": null
          }
        },
        "db0d3cb048624f19af4f766ea8079dfb": {
          "model_module": "@jupyter-widgets/controls",
          "model_name": "DescriptionStyleModel",
          "model_module_version": "1.5.0",
          "state": {
            "_model_module": "@jupyter-widgets/controls",
            "_model_module_version": "1.5.0",
            "_model_name": "DescriptionStyleModel",
            "_view_count": null,
            "_view_module": "@jupyter-widgets/base",
            "_view_module_version": "1.2.0",
            "_view_name": "StyleView",
            "description_width": ""
          }
        },
        "0495f64ae0114b0c94ac155401102174": {
          "model_module": "@jupyter-widgets/base",
          "model_name": "LayoutModel",
          "model_module_version": "1.2.0",
          "state": {
            "_model_module": "@jupyter-widgets/base",
            "_model_module_version": "1.2.0",
            "_model_name": "LayoutModel",
            "_view_count": null,
            "_view_module": "@jupyter-widgets/base",
            "_view_module_version": "1.2.0",
            "_view_name": "LayoutView",
            "align_content": null,
            "align_items": null,
            "align_self": null,
            "border": null,
            "bottom": null,
            "display": null,
            "flex": null,
            "flex_flow": null,
            "grid_area": null,
            "grid_auto_columns": null,
            "grid_auto_flow": null,
            "grid_auto_rows": null,
            "grid_column": null,
            "grid_gap": null,
            "grid_row": null,
            "grid_template_areas": null,
            "grid_template_columns": null,
            "grid_template_rows": null,
            "height": null,
            "justify_content": null,
            "justify_items": null,
            "left": null,
            "margin": null,
            "max_height": null,
            "max_width": null,
            "min_height": null,
            "min_width": null,
            "object_fit": null,
            "object_position": null,
            "order": null,
            "overflow": null,
            "overflow_x": null,
            "overflow_y": null,
            "padding": null,
            "right": null,
            "top": null,
            "visibility": null,
            "width": null
          }
        },
        "a1ba4fc1ecda4f479344a18c1eef9979": {
          "model_module": "@jupyter-widgets/controls",
          "model_name": "ProgressStyleModel",
          "model_module_version": "1.5.0",
          "state": {
            "_model_module": "@jupyter-widgets/controls",
            "_model_module_version": "1.5.0",
            "_model_name": "ProgressStyleModel",
            "_view_count": null,
            "_view_module": "@jupyter-widgets/base",
            "_view_module_version": "1.2.0",
            "_view_name": "StyleView",
            "bar_color": null,
            "description_width": ""
          }
        },
        "e79db0aee2d9491ba5164c21046f34d0": {
          "model_module": "@jupyter-widgets/base",
          "model_name": "LayoutModel",
          "model_module_version": "1.2.0",
          "state": {
            "_model_module": "@jupyter-widgets/base",
            "_model_module_version": "1.2.0",
            "_model_name": "LayoutModel",
            "_view_count": null,
            "_view_module": "@jupyter-widgets/base",
            "_view_module_version": "1.2.0",
            "_view_name": "LayoutView",
            "align_content": null,
            "align_items": null,
            "align_self": null,
            "border": null,
            "bottom": null,
            "display": null,
            "flex": null,
            "flex_flow": null,
            "grid_area": null,
            "grid_auto_columns": null,
            "grid_auto_flow": null,
            "grid_auto_rows": null,
            "grid_column": null,
            "grid_gap": null,
            "grid_row": null,
            "grid_template_areas": null,
            "grid_template_columns": null,
            "grid_template_rows": null,
            "height": null,
            "justify_content": null,
            "justify_items": null,
            "left": null,
            "margin": null,
            "max_height": null,
            "max_width": null,
            "min_height": null,
            "min_width": null,
            "object_fit": null,
            "object_position": null,
            "order": null,
            "overflow": null,
            "overflow_x": null,
            "overflow_y": null,
            "padding": null,
            "right": null,
            "top": null,
            "visibility": null,
            "width": null
          }
        },
        "5b8baf68d9694f5eade117bcccc320f5": {
          "model_module": "@jupyter-widgets/controls",
          "model_name": "DescriptionStyleModel",
          "model_module_version": "1.5.0",
          "state": {
            "_model_module": "@jupyter-widgets/controls",
            "_model_module_version": "1.5.0",
            "_model_name": "DescriptionStyleModel",
            "_view_count": null,
            "_view_module": "@jupyter-widgets/base",
            "_view_module_version": "1.2.0",
            "_view_name": "StyleView",
            "description_width": ""
          }
        },
        "2ea08e25254249589cca0e79d009780a": {
          "model_module": "@jupyter-widgets/controls",
          "model_name": "HBoxModel",
          "model_module_version": "1.5.0",
          "state": {
            "_dom_classes": [],
            "_model_module": "@jupyter-widgets/controls",
            "_model_module_version": "1.5.0",
            "_model_name": "HBoxModel",
            "_view_count": null,
            "_view_module": "@jupyter-widgets/controls",
            "_view_module_version": "1.5.0",
            "_view_name": "HBoxView",
            "box_style": "",
            "children": [
              "IPY_MODEL_6b9b33fdfa3e4cba810494a7cb083a01",
              "IPY_MODEL_f2fda23e889f44c89e22391d298c6d4c",
              "IPY_MODEL_332586aae0684b04a5449e500fdb12c2"
            ],
            "layout": "IPY_MODEL_35d9873407fb42b6b77924b46734666e"
          }
        },
        "6b9b33fdfa3e4cba810494a7cb083a01": {
          "model_module": "@jupyter-widgets/controls",
          "model_name": "HTMLModel",
          "model_module_version": "1.5.0",
          "state": {
            "_dom_classes": [],
            "_model_module": "@jupyter-widgets/controls",
            "_model_module_version": "1.5.0",
            "_model_name": "HTMLModel",
            "_view_count": null,
            "_view_module": "@jupyter-widgets/controls",
            "_view_module_version": "1.5.0",
            "_view_name": "HTMLView",
            "description": "",
            "description_tooltip": null,
            "layout": "IPY_MODEL_2cfeacf50d164589b63e63efebbe5db9",
            "placeholder": "​",
            "style": "IPY_MODEL_75dbc20761cc47a5ae7d1887ac8897c4",
            "value": "100%"
          }
        },
        "f2fda23e889f44c89e22391d298c6d4c": {
          "model_module": "@jupyter-widgets/controls",
          "model_name": "FloatProgressModel",
          "model_module_version": "1.5.0",
          "state": {
            "_dom_classes": [],
            "_model_module": "@jupyter-widgets/controls",
            "_model_module_version": "1.5.0",
            "_model_name": "FloatProgressModel",
            "_view_count": null,
            "_view_module": "@jupyter-widgets/controls",
            "_view_module_version": "1.5.0",
            "_view_name": "ProgressView",
            "bar_style": "success",
            "description": "",
            "description_tooltip": null,
            "layout": "IPY_MODEL_520b20fd112c480fb2902ae329cd2395",
            "max": 5,
            "min": 0,
            "orientation": "horizontal",
            "style": "IPY_MODEL_9b61dca0c3ee4551a96aaaf68a6ed9f5",
            "value": 5
          }
        },
        "332586aae0684b04a5449e500fdb12c2": {
          "model_module": "@jupyter-widgets/controls",
          "model_name": "HTMLModel",
          "model_module_version": "1.5.0",
          "state": {
            "_dom_classes": [],
            "_model_module": "@jupyter-widgets/controls",
            "_model_module_version": "1.5.0",
            "_model_name": "HTMLModel",
            "_view_count": null,
            "_view_module": "@jupyter-widgets/controls",
            "_view_module_version": "1.5.0",
            "_view_name": "HTMLView",
            "description": "",
            "description_tooltip": null,
            "layout": "IPY_MODEL_eeec5c250d6e496cb939865bfb1a2dad",
            "placeholder": "​",
            "style": "IPY_MODEL_5abaeb99c9c9411e8ca7dcf02b10cad7",
            "value": " 5/5 [00:58&lt;00:00, 11.73s/it]"
          }
        },
        "35d9873407fb42b6b77924b46734666e": {
          "model_module": "@jupyter-widgets/base",
          "model_name": "LayoutModel",
          "model_module_version": "1.2.0",
          "state": {
            "_model_module": "@jupyter-widgets/base",
            "_model_module_version": "1.2.0",
            "_model_name": "LayoutModel",
            "_view_count": null,
            "_view_module": "@jupyter-widgets/base",
            "_view_module_version": "1.2.0",
            "_view_name": "LayoutView",
            "align_content": null,
            "align_items": null,
            "align_self": null,
            "border": null,
            "bottom": null,
            "display": null,
            "flex": null,
            "flex_flow": null,
            "grid_area": null,
            "grid_auto_columns": null,
            "grid_auto_flow": null,
            "grid_auto_rows": null,
            "grid_column": null,
            "grid_gap": null,
            "grid_row": null,
            "grid_template_areas": null,
            "grid_template_columns": null,
            "grid_template_rows": null,
            "height": null,
            "justify_content": null,
            "justify_items": null,
            "left": null,
            "margin": null,
            "max_height": null,
            "max_width": null,
            "min_height": null,
            "min_width": null,
            "object_fit": null,
            "object_position": null,
            "order": null,
            "overflow": null,
            "overflow_x": null,
            "overflow_y": null,
            "padding": null,
            "right": null,
            "top": null,
            "visibility": null,
            "width": null
          }
        },
        "2cfeacf50d164589b63e63efebbe5db9": {
          "model_module": "@jupyter-widgets/base",
          "model_name": "LayoutModel",
          "model_module_version": "1.2.0",
          "state": {
            "_model_module": "@jupyter-widgets/base",
            "_model_module_version": "1.2.0",
            "_model_name": "LayoutModel",
            "_view_count": null,
            "_view_module": "@jupyter-widgets/base",
            "_view_module_version": "1.2.0",
            "_view_name": "LayoutView",
            "align_content": null,
            "align_items": null,
            "align_self": null,
            "border": null,
            "bottom": null,
            "display": null,
            "flex": null,
            "flex_flow": null,
            "grid_area": null,
            "grid_auto_columns": null,
            "grid_auto_flow": null,
            "grid_auto_rows": null,
            "grid_column": null,
            "grid_gap": null,
            "grid_row": null,
            "grid_template_areas": null,
            "grid_template_columns": null,
            "grid_template_rows": null,
            "height": null,
            "justify_content": null,
            "justify_items": null,
            "left": null,
            "margin": null,
            "max_height": null,
            "max_width": null,
            "min_height": null,
            "min_width": null,
            "object_fit": null,
            "object_position": null,
            "order": null,
            "overflow": null,
            "overflow_x": null,
            "overflow_y": null,
            "padding": null,
            "right": null,
            "top": null,
            "visibility": null,
            "width": null
          }
        },
        "75dbc20761cc47a5ae7d1887ac8897c4": {
          "model_module": "@jupyter-widgets/controls",
          "model_name": "DescriptionStyleModel",
          "model_module_version": "1.5.0",
          "state": {
            "_model_module": "@jupyter-widgets/controls",
            "_model_module_version": "1.5.0",
            "_model_name": "DescriptionStyleModel",
            "_view_count": null,
            "_view_module": "@jupyter-widgets/base",
            "_view_module_version": "1.2.0",
            "_view_name": "StyleView",
            "description_width": ""
          }
        },
        "520b20fd112c480fb2902ae329cd2395": {
          "model_module": "@jupyter-widgets/base",
          "model_name": "LayoutModel",
          "model_module_version": "1.2.0",
          "state": {
            "_model_module": "@jupyter-widgets/base",
            "_model_module_version": "1.2.0",
            "_model_name": "LayoutModel",
            "_view_count": null,
            "_view_module": "@jupyter-widgets/base",
            "_view_module_version": "1.2.0",
            "_view_name": "LayoutView",
            "align_content": null,
            "align_items": null,
            "align_self": null,
            "border": null,
            "bottom": null,
            "display": null,
            "flex": null,
            "flex_flow": null,
            "grid_area": null,
            "grid_auto_columns": null,
            "grid_auto_flow": null,
            "grid_auto_rows": null,
            "grid_column": null,
            "grid_gap": null,
            "grid_row": null,
            "grid_template_areas": null,
            "grid_template_columns": null,
            "grid_template_rows": null,
            "height": null,
            "justify_content": null,
            "justify_items": null,
            "left": null,
            "margin": null,
            "max_height": null,
            "max_width": null,
            "min_height": null,
            "min_width": null,
            "object_fit": null,
            "object_position": null,
            "order": null,
            "overflow": null,
            "overflow_x": null,
            "overflow_y": null,
            "padding": null,
            "right": null,
            "top": null,
            "visibility": null,
            "width": null
          }
        },
        "9b61dca0c3ee4551a96aaaf68a6ed9f5": {
          "model_module": "@jupyter-widgets/controls",
          "model_name": "ProgressStyleModel",
          "model_module_version": "1.5.0",
          "state": {
            "_model_module": "@jupyter-widgets/controls",
            "_model_module_version": "1.5.0",
            "_model_name": "ProgressStyleModel",
            "_view_count": null,
            "_view_module": "@jupyter-widgets/base",
            "_view_module_version": "1.2.0",
            "_view_name": "StyleView",
            "bar_color": null,
            "description_width": ""
          }
        },
        "eeec5c250d6e496cb939865bfb1a2dad": {
          "model_module": "@jupyter-widgets/base",
          "model_name": "LayoutModel",
          "model_module_version": "1.2.0",
          "state": {
            "_model_module": "@jupyter-widgets/base",
            "_model_module_version": "1.2.0",
            "_model_name": "LayoutModel",
            "_view_count": null,
            "_view_module": "@jupyter-widgets/base",
            "_view_module_version": "1.2.0",
            "_view_name": "LayoutView",
            "align_content": null,
            "align_items": null,
            "align_self": null,
            "border": null,
            "bottom": null,
            "display": null,
            "flex": null,
            "flex_flow": null,
            "grid_area": null,
            "grid_auto_columns": null,
            "grid_auto_flow": null,
            "grid_auto_rows": null,
            "grid_column": null,
            "grid_gap": null,
            "grid_row": null,
            "grid_template_areas": null,
            "grid_template_columns": null,
            "grid_template_rows": null,
            "height": null,
            "justify_content": null,
            "justify_items": null,
            "left": null,
            "margin": null,
            "max_height": null,
            "max_width": null,
            "min_height": null,
            "min_width": null,
            "object_fit": null,
            "object_position": null,
            "order": null,
            "overflow": null,
            "overflow_x": null,
            "overflow_y": null,
            "padding": null,
            "right": null,
            "top": null,
            "visibility": null,
            "width": null
          }
        },
        "5abaeb99c9c9411e8ca7dcf02b10cad7": {
          "model_module": "@jupyter-widgets/controls",
          "model_name": "DescriptionStyleModel",
          "model_module_version": "1.5.0",
          "state": {
            "_model_module": "@jupyter-widgets/controls",
            "_model_module_version": "1.5.0",
            "_model_name": "DescriptionStyleModel",
            "_view_count": null,
            "_view_module": "@jupyter-widgets/base",
            "_view_module_version": "1.2.0",
            "_view_name": "StyleView",
            "description_width": ""
          }
        },
        "fb973cb313ed414288f58bd0002e7512": {
          "model_module": "@jupyter-widgets/controls",
          "model_name": "HBoxModel",
          "model_module_version": "1.5.0",
          "state": {
            "_dom_classes": [],
            "_model_module": "@jupyter-widgets/controls",
            "_model_module_version": "1.5.0",
            "_model_name": "HBoxModel",
            "_view_count": null,
            "_view_module": "@jupyter-widgets/controls",
            "_view_module_version": "1.5.0",
            "_view_name": "HBoxView",
            "box_style": "",
            "children": [
              "IPY_MODEL_639cf39bfc9d4fd7ad5f098635de84e7",
              "IPY_MODEL_37d4e27d7a184e6683a52894523d3409",
              "IPY_MODEL_d42af150465c407bb2a5e0c0c12717bf"
            ],
            "layout": "IPY_MODEL_69c4df29151f41509375333966b7cdd4"
          }
        },
        "639cf39bfc9d4fd7ad5f098635de84e7": {
          "model_module": "@jupyter-widgets/controls",
          "model_name": "HTMLModel",
          "model_module_version": "1.5.0",
          "state": {
            "_dom_classes": [],
            "_model_module": "@jupyter-widgets/controls",
            "_model_module_version": "1.5.0",
            "_model_name": "HTMLModel",
            "_view_count": null,
            "_view_module": "@jupyter-widgets/controls",
            "_view_module_version": "1.5.0",
            "_view_name": "HTMLView",
            "description": "",
            "description_tooltip": null,
            "layout": "IPY_MODEL_33365745d2c5474586e3e33bcc5f3eab",
            "placeholder": "​",
            "style": "IPY_MODEL_5991477cd5c04c5b9a6de7e12cafe564",
            "value": ""
          }
        },
        "37d4e27d7a184e6683a52894523d3409": {
          "model_module": "@jupyter-widgets/controls",
          "model_name": "FloatProgressModel",
          "model_module_version": "1.5.0",
          "state": {
            "_dom_classes": [],
            "_model_module": "@jupyter-widgets/controls",
            "_model_module_version": "1.5.0",
            "_model_name": "FloatProgressModel",
            "_view_count": null,
            "_view_module": "@jupyter-widgets/controls",
            "_view_module_version": "1.5.0",
            "_view_name": "ProgressView",
            "bar_style": "success",
            "description": "",
            "description_tooltip": null,
            "layout": "IPY_MODEL_d36a077c0dcd469c928844a27bbdb38e",
            "max": 1,
            "min": 0,
            "orientation": "horizontal",
            "style": "IPY_MODEL_de0e00fd4d8749e391d24ba68ca42a47",
            "value": 1
          }
        },
        "d42af150465c407bb2a5e0c0c12717bf": {
          "model_module": "@jupyter-widgets/controls",
          "model_name": "HTMLModel",
          "model_module_version": "1.5.0",
          "state": {
            "_dom_classes": [],
            "_model_module": "@jupyter-widgets/controls",
            "_model_module_version": "1.5.0",
            "_model_name": "HTMLModel",
            "_view_count": null,
            "_view_module": "@jupyter-widgets/controls",
            "_view_module_version": "1.5.0",
            "_view_name": "HTMLView",
            "description": "",
            "description_tooltip": null,
            "layout": "IPY_MODEL_f028d5b351b4443bb548fed56d50cbee",
            "placeholder": "​",
            "style": "IPY_MODEL_2930dc8ca9204ab18dcc2926e27ca6ad",
            "value": " 313/? [00:01&lt;00:00, 221.84it/s]"
          }
        },
        "69c4df29151f41509375333966b7cdd4": {
          "model_module": "@jupyter-widgets/base",
          "model_name": "LayoutModel",
          "model_module_version": "1.2.0",
          "state": {
            "_model_module": "@jupyter-widgets/base",
            "_model_module_version": "1.2.0",
            "_model_name": "LayoutModel",
            "_view_count": null,
            "_view_module": "@jupyter-widgets/base",
            "_view_module_version": "1.2.0",
            "_view_name": "LayoutView",
            "align_content": null,
            "align_items": null,
            "align_self": null,
            "border": null,
            "bottom": null,
            "display": null,
            "flex": null,
            "flex_flow": null,
            "grid_area": null,
            "grid_auto_columns": null,
            "grid_auto_flow": null,
            "grid_auto_rows": null,
            "grid_column": null,
            "grid_gap": null,
            "grid_row": null,
            "grid_template_areas": null,
            "grid_template_columns": null,
            "grid_template_rows": null,
            "height": null,
            "justify_content": null,
            "justify_items": null,
            "left": null,
            "margin": null,
            "max_height": null,
            "max_width": null,
            "min_height": null,
            "min_width": null,
            "object_fit": null,
            "object_position": null,
            "order": null,
            "overflow": null,
            "overflow_x": null,
            "overflow_y": null,
            "padding": null,
            "right": null,
            "top": null,
            "visibility": null,
            "width": null
          }
        },
        "33365745d2c5474586e3e33bcc5f3eab": {
          "model_module": "@jupyter-widgets/base",
          "model_name": "LayoutModel",
          "model_module_version": "1.2.0",
          "state": {
            "_model_module": "@jupyter-widgets/base",
            "_model_module_version": "1.2.0",
            "_model_name": "LayoutModel",
            "_view_count": null,
            "_view_module": "@jupyter-widgets/base",
            "_view_module_version": "1.2.0",
            "_view_name": "LayoutView",
            "align_content": null,
            "align_items": null,
            "align_self": null,
            "border": null,
            "bottom": null,
            "display": null,
            "flex": null,
            "flex_flow": null,
            "grid_area": null,
            "grid_auto_columns": null,
            "grid_auto_flow": null,
            "grid_auto_rows": null,
            "grid_column": null,
            "grid_gap": null,
            "grid_row": null,
            "grid_template_areas": null,
            "grid_template_columns": null,
            "grid_template_rows": null,
            "height": null,
            "justify_content": null,
            "justify_items": null,
            "left": null,
            "margin": null,
            "max_height": null,
            "max_width": null,
            "min_height": null,
            "min_width": null,
            "object_fit": null,
            "object_position": null,
            "order": null,
            "overflow": null,
            "overflow_x": null,
            "overflow_y": null,
            "padding": null,
            "right": null,
            "top": null,
            "visibility": null,
            "width": null
          }
        },
        "5991477cd5c04c5b9a6de7e12cafe564": {
          "model_module": "@jupyter-widgets/controls",
          "model_name": "DescriptionStyleModel",
          "model_module_version": "1.5.0",
          "state": {
            "_model_module": "@jupyter-widgets/controls",
            "_model_module_version": "1.5.0",
            "_model_name": "DescriptionStyleModel",
            "_view_count": null,
            "_view_module": "@jupyter-widgets/base",
            "_view_module_version": "1.2.0",
            "_view_name": "StyleView",
            "description_width": ""
          }
        },
        "d36a077c0dcd469c928844a27bbdb38e": {
          "model_module": "@jupyter-widgets/base",
          "model_name": "LayoutModel",
          "model_module_version": "1.2.0",
          "state": {
            "_model_module": "@jupyter-widgets/base",
            "_model_module_version": "1.2.0",
            "_model_name": "LayoutModel",
            "_view_count": null,
            "_view_module": "@jupyter-widgets/base",
            "_view_module_version": "1.2.0",
            "_view_name": "LayoutView",
            "align_content": null,
            "align_items": null,
            "align_self": null,
            "border": null,
            "bottom": null,
            "display": null,
            "flex": null,
            "flex_flow": null,
            "grid_area": null,
            "grid_auto_columns": null,
            "grid_auto_flow": null,
            "grid_auto_rows": null,
            "grid_column": null,
            "grid_gap": null,
            "grid_row": null,
            "grid_template_areas": null,
            "grid_template_columns": null,
            "grid_template_rows": null,
            "height": null,
            "justify_content": null,
            "justify_items": null,
            "left": null,
            "margin": null,
            "max_height": null,
            "max_width": null,
            "min_height": null,
            "min_width": null,
            "object_fit": null,
            "object_position": null,
            "order": null,
            "overflow": null,
            "overflow_x": null,
            "overflow_y": null,
            "padding": null,
            "right": null,
            "top": null,
            "visibility": null,
            "width": "20px"
          }
        },
        "de0e00fd4d8749e391d24ba68ca42a47": {
          "model_module": "@jupyter-widgets/controls",
          "model_name": "ProgressStyleModel",
          "model_module_version": "1.5.0",
          "state": {
            "_model_module": "@jupyter-widgets/controls",
            "_model_module_version": "1.5.0",
            "_model_name": "ProgressStyleModel",
            "_view_count": null,
            "_view_module": "@jupyter-widgets/base",
            "_view_module_version": "1.2.0",
            "_view_name": "StyleView",
            "bar_color": null,
            "description_width": ""
          }
        },
        "f028d5b351b4443bb548fed56d50cbee": {
          "model_module": "@jupyter-widgets/base",
          "model_name": "LayoutModel",
          "model_module_version": "1.2.0",
          "state": {
            "_model_module": "@jupyter-widgets/base",
            "_model_module_version": "1.2.0",
            "_model_name": "LayoutModel",
            "_view_count": null,
            "_view_module": "@jupyter-widgets/base",
            "_view_module_version": "1.2.0",
            "_view_name": "LayoutView",
            "align_content": null,
            "align_items": null,
            "align_self": null,
            "border": null,
            "bottom": null,
            "display": null,
            "flex": null,
            "flex_flow": null,
            "grid_area": null,
            "grid_auto_columns": null,
            "grid_auto_flow": null,
            "grid_auto_rows": null,
            "grid_column": null,
            "grid_gap": null,
            "grid_row": null,
            "grid_template_areas": null,
            "grid_template_columns": null,
            "grid_template_rows": null,
            "height": null,
            "justify_content": null,
            "justify_items": null,
            "left": null,
            "margin": null,
            "max_height": null,
            "max_width": null,
            "min_height": null,
            "min_width": null,
            "object_fit": null,
            "object_position": null,
            "order": null,
            "overflow": null,
            "overflow_x": null,
            "overflow_y": null,
            "padding": null,
            "right": null,
            "top": null,
            "visibility": null,
            "width": null
          }
        },
        "2930dc8ca9204ab18dcc2926e27ca6ad": {
          "model_module": "@jupyter-widgets/controls",
          "model_name": "DescriptionStyleModel",
          "model_module_version": "1.5.0",
          "state": {
            "_model_module": "@jupyter-widgets/controls",
            "_model_module_version": "1.5.0",
            "_model_name": "DescriptionStyleModel",
            "_view_count": null,
            "_view_module": "@jupyter-widgets/base",
            "_view_module_version": "1.2.0",
            "_view_name": "StyleView",
            "description_width": ""
          }
        }
      }
    }
  },
  "cells": [
    {
      "cell_type": "markdown",
      "metadata": {
        "id": "view-in-github",
        "colab_type": "text"
      },
      "source": [
        "<a href=\"https://colab.research.google.com/github/Umarsmuhammed/Arewa_DeepLearning/blob/main/Week_04_ComputerVision_2.ipynb\" target=\"_parent\"><img src=\"https://colab.research.google.com/assets/colab-badge.svg\" alt=\"Open In Colab\"/></a>"
      ]
    },
    {
      "cell_type": "markdown",
      "source": [
        "**PyTorch Computer Vision Assignment**"
      ],
      "metadata": {
        "id": "BzAkjsY5ET_g"
      }
    },
    {
      "cell_type": "code",
      "source": [
        "# Check for GPU\n",
        "!nvidia-smi"
      ],
      "metadata": {
        "colab": {
          "base_uri": "https://localhost:8080/"
        },
        "id": "iIiNEEoxFBBR",
        "outputId": "69d94182-15e5-4b23-cecd-a4da58e18d50"
      },
      "execution_count": 4,
      "outputs": [
        {
          "output_type": "stream",
          "name": "stdout",
          "text": [
            "Tue Jan 23 16:13:31 2024       \n",
            "+---------------------------------------------------------------------------------------+\n",
            "| NVIDIA-SMI 535.104.05             Driver Version: 535.104.05   CUDA Version: 12.2     |\n",
            "|-----------------------------------------+----------------------+----------------------+\n",
            "| GPU  Name                 Persistence-M | Bus-Id        Disp.A | Volatile Uncorr. ECC |\n",
            "| Fan  Temp   Perf          Pwr:Usage/Cap |         Memory-Usage | GPU-Util  Compute M. |\n",
            "|                                         |                      |               MIG M. |\n",
            "|=========================================+======================+======================|\n",
            "|   0  Tesla T4                       Off | 00000000:00:04.0 Off |                    0 |\n",
            "| N/A   39C    P8               9W /  70W |      0MiB / 15360MiB |      0%      Default |\n",
            "|                                         |                      |                  N/A |\n",
            "+-----------------------------------------+----------------------+----------------------+\n",
            "                                                                                         \n",
            "+---------------------------------------------------------------------------------------+\n",
            "| Processes:                                                                            |\n",
            "|  GPU   GI   CI        PID   Type   Process name                            GPU Memory |\n",
            "|        ID   ID                                                             Usage      |\n",
            "|=======================================================================================|\n",
            "|  No running processes found                                                           |\n",
            "+---------------------------------------------------------------------------------------+\n"
          ]
        }
      ]
    },
    {
      "cell_type": "code",
      "source": [
        "# Import torch\n",
        "import torch\n",
        "\n",
        "# Exercises require PyTorch > 1.10.0\n",
        "print(torch.__version__)\n",
        "\n",
        "# TODO: Setup device agnostic code\n",
        "device = \"cuda\" if torch.cuda.is_available() else \"cpu\"\n",
        "device"
      ],
      "metadata": {
        "colab": {
          "base_uri": "https://localhost:8080/",
          "height": 53
        },
        "id": "-siH1aZBHfgv",
        "outputId": "e443d8b7-c1f8-4046-f4e6-9ef7cc7fee59"
      },
      "execution_count": 5,
      "outputs": [
        {
          "output_type": "stream",
          "name": "stdout",
          "text": [
            "2.1.0+cu121\n"
          ]
        },
        {
          "output_type": "execute_result",
          "data": {
            "text/plain": [
              "'cuda'"
            ],
            "application/vnd.google.colaboratory.intrinsic+json": {
              "type": "string"
            }
          },
          "metadata": {},
          "execution_count": 5
        }
      ]
    },
    {
      "cell_type": "markdown",
      "source": [
        "## 1. What are 3 areas in industry where computer vision is currently being used?\n",
        "\n",
        "###Answer:\n",
        "Computer vision is a field of artificial intelligence that enables computers to interpret and understand the visual world. It has numerous applications across various industries. Here are three areas where computer vision is currently being used:\n",
        "- Retail: Computer vision is used in retail to improve customer experience, optimize inventory management, and enhance security.\n",
        "\n",
        "- Healthcare: Computer vision is used in healthcare to improve patient outcomes, assist in diagnosis, and enhance medical imaging.  For example, computer vision can be used to detect early signs of diseases, analyze medical images, and assist in surgical procedures.\n",
        "\n",
        "- Manufacturing: Computer vision is used in manufacturing to improve quality control, optimize production processes, and enhance worker safety. For example, computer vision can be used to detect defects in products, monitor production lines, and ensure compliance with safety regulations."
      ],
      "metadata": {
        "id": "q0EIB8spHxYb"
      }
    },
    {
      "cell_type": "markdown",
      "source": [
        "## 2. Search \"what is overfitting in machine learning\" and write down a sentence about what you find.\n",
        "\n",
        "### Answer:\n",
        "Overfitting in machine learning is a situation where a model fits too closely to the training data and fails to generalize well to new data. This can happen when the model is too complex or the training data is too noisy. Overfitting can lead to high variance and low bias in the model's predictions, resulting in poor performance on unseen data. One way to detect overfitting is to use cross-validation, which splits the data into k subsets and evaluates the model on each subset after training on the rest. Another way to prevent overfitting is to use regularization, which adds a penalty term to the model's complexity or reduces the number of features."
      ],
      "metadata": {
        "id": "WxhdYZh0LuQv"
      }
    },
    {
      "cell_type": "markdown",
      "source": [
        "## 3. Search \"ways to prevent overfitting in machine learning\", write down 3 of the things you find and a sentence about each.\n",
        "\n",
        "###Answer:\n",
        "One of the challenges in machine learning is to prevent overfitting, which occurs when a model learns the training data too well and fails to generalize to new data. Here are three ways to prevent overfitting in machine learning:\n",
        "\n",
        "- Cross-validation: This technique involves splitting the data into multiple subsets, training the model on different combinations of subsets, and evaluating its performance on the remaining subsets. This helps to reduce the variance of the model and avoid overfitting to a specific subset of data.\n",
        "- Regularization: This technique involves adding a penalty term to the model's loss function, which reduces the complexity of the model and prevents it from learning irrelevant or noisy features. There are different types of regularization, such as L1 (lasso), L2 (ridge), and dropout.\n",
        "- Increasing training data: This technique involves adding more data to the training set, which helps to improve the model's ability to capture the underlying patterns and reduce the effect of noise. More data also reduces the chance of overfitting to a specific subset of data."
      ],
      "metadata": {
        "id": "4Orlt-2hMNzM"
      }
    },
    {
      "cell_type": "markdown",
      "source": [
        "## 4. Spend 20-minutes reading and clicking through the [CNN Explainer website](https://poloclub.github.io/cnn-explainer/).\n",
        "\n",
        "##Answer:\n",
        " I uploaded my own picture using the \"upload\" button on the website and utilise different features to see what happens in each layer of a CNN as my image passes through it."
      ],
      "metadata": {
        "id": "-6g8IrG1Ju91"
      }
    },
    {
      "cell_type": "markdown",
      "source": [
        "## 5. Load the [`torchvision.datasets.MNIST()`](https://pytorch.org/vision/stable/generated/torchvision.datasets.MNIST.html#torchvision.datasets.MNIST) train and test datasets."
      ],
      "metadata": {
        "id": "eNhBRyzqSz5a"
      }
    },
    {
      "cell_type": "code",
      "source": [
        "import torchvision\n",
        "from torchvision import datasets\n",
        "\n",
        "from torchvision import transforms\n",
        "\n",
        "# Get the FashionMNIST train dataset\n",
        "train_data = datasets.FashionMNIST(root=\".\",\n",
        "                            train=True,\n",
        "                            download=True,\n",
        "                            transform=transforms.ToTensor()) # do we want to transform the data as we download it?\n",
        "\n",
        "# Get the MNIST test dataset\n",
        "test_data = datasets.FashionMNIST(root=\".\",\n",
        "                           train=False,\n",
        "                           download=True,\n",
        "                           transform=transforms.ToTensor())\n",
        "\n",
        "train_data, test_data"
      ],
      "metadata": {
        "colab": {
          "base_uri": "https://localhost:8080/"
        },
        "id": "VJfDhg-iTORv",
        "outputId": "c8c35b32-a9c4-46d8-af82-6dd56b5893b3"
      },
      "execution_count": 6,
      "outputs": [
        {
          "output_type": "stream",
          "name": "stdout",
          "text": [
            "Downloading http://fashion-mnist.s3-website.eu-central-1.amazonaws.com/train-images-idx3-ubyte.gz\n",
            "Downloading http://fashion-mnist.s3-website.eu-central-1.amazonaws.com/train-images-idx3-ubyte.gz to ./FashionMNIST/raw/train-images-idx3-ubyte.gz\n"
          ]
        },
        {
          "output_type": "stream",
          "name": "stderr",
          "text": [
            "100%|██████████| 26421880/26421880 [00:01<00:00, 15868317.96it/s]\n"
          ]
        },
        {
          "output_type": "stream",
          "name": "stdout",
          "text": [
            "Extracting ./FashionMNIST/raw/train-images-idx3-ubyte.gz to ./FashionMNIST/raw\n",
            "\n",
            "Downloading http://fashion-mnist.s3-website.eu-central-1.amazonaws.com/train-labels-idx1-ubyte.gz\n",
            "Downloading http://fashion-mnist.s3-website.eu-central-1.amazonaws.com/train-labels-idx1-ubyte.gz to ./FashionMNIST/raw/train-labels-idx1-ubyte.gz\n"
          ]
        },
        {
          "output_type": "stream",
          "name": "stderr",
          "text": [
            "100%|██████████| 29515/29515 [00:00<00:00, 262059.10it/s]\n"
          ]
        },
        {
          "output_type": "stream",
          "name": "stdout",
          "text": [
            "Extracting ./FashionMNIST/raw/train-labels-idx1-ubyte.gz to ./FashionMNIST/raw\n",
            "\n",
            "Downloading http://fashion-mnist.s3-website.eu-central-1.amazonaws.com/t10k-images-idx3-ubyte.gz\n",
            "Downloading http://fashion-mnist.s3-website.eu-central-1.amazonaws.com/t10k-images-idx3-ubyte.gz to ./FashionMNIST/raw/t10k-images-idx3-ubyte.gz\n"
          ]
        },
        {
          "output_type": "stream",
          "name": "stderr",
          "text": [
            "100%|██████████| 4422102/4422102 [00:00<00:00, 4977508.49it/s]\n"
          ]
        },
        {
          "output_type": "stream",
          "name": "stdout",
          "text": [
            "Extracting ./FashionMNIST/raw/t10k-images-idx3-ubyte.gz to ./FashionMNIST/raw\n",
            "\n",
            "Downloading http://fashion-mnist.s3-website.eu-central-1.amazonaws.com/t10k-labels-idx1-ubyte.gz\n",
            "Downloading http://fashion-mnist.s3-website.eu-central-1.amazonaws.com/t10k-labels-idx1-ubyte.gz to ./FashionMNIST/raw/t10k-labels-idx1-ubyte.gz\n"
          ]
        },
        {
          "output_type": "stream",
          "name": "stderr",
          "text": [
            "100%|██████████| 5148/5148 [00:00<00:00, 6311685.76it/s]"
          ]
        },
        {
          "output_type": "stream",
          "name": "stdout",
          "text": [
            "Extracting ./FashionMNIST/raw/t10k-labels-idx1-ubyte.gz to ./FashionMNIST/raw\n",
            "\n"
          ]
        },
        {
          "output_type": "stream",
          "name": "stderr",
          "text": [
            "\n"
          ]
        },
        {
          "output_type": "execute_result",
          "data": {
            "text/plain": [
              "(Dataset FashionMNIST\n",
              "     Number of datapoints: 60000\n",
              "     Root location: .\n",
              "     Split: Train\n",
              "     StandardTransform\n",
              " Transform: ToTensor(),\n",
              " Dataset FashionMNIST\n",
              "     Number of datapoints: 10000\n",
              "     Root location: .\n",
              "     Split: Test\n",
              "     StandardTransform\n",
              " Transform: ToTensor())"
            ]
          },
          "metadata": {},
          "execution_count": 6
        }
      ]
    },
    {
      "cell_type": "code",
      "source": [
        "# Data is in tuple form (image, label)\n",
        "img = train_data[0][0]\n",
        "label = train_data[0][1]\n",
        "print(f\"Image:\\n {img}\")\n",
        "print(f\"Label:\\n {label}\")"
      ],
      "metadata": {
        "colab": {
          "base_uri": "https://localhost:8080/"
        },
        "id": "MaoJGqXhT97p",
        "outputId": "e7bd4457-00d6-403c-be00-4395747e2663"
      },
      "execution_count": 7,
      "outputs": [
        {
          "output_type": "stream",
          "name": "stdout",
          "text": [
            "Image:\n",
            " tensor([[[0.0000, 0.0000, 0.0000, 0.0000, 0.0000, 0.0000, 0.0000, 0.0000,\n",
            "          0.0000, 0.0000, 0.0000, 0.0000, 0.0000, 0.0000, 0.0000, 0.0000,\n",
            "          0.0000, 0.0000, 0.0000, 0.0000, 0.0000, 0.0000, 0.0000, 0.0000,\n",
            "          0.0000, 0.0000, 0.0000, 0.0000],\n",
            "         [0.0000, 0.0000, 0.0000, 0.0000, 0.0000, 0.0000, 0.0000, 0.0000,\n",
            "          0.0000, 0.0000, 0.0000, 0.0000, 0.0000, 0.0000, 0.0000, 0.0000,\n",
            "          0.0000, 0.0000, 0.0000, 0.0000, 0.0000, 0.0000, 0.0000, 0.0000,\n",
            "          0.0000, 0.0000, 0.0000, 0.0000],\n",
            "         [0.0000, 0.0000, 0.0000, 0.0000, 0.0000, 0.0000, 0.0000, 0.0000,\n",
            "          0.0000, 0.0000, 0.0000, 0.0000, 0.0000, 0.0000, 0.0000, 0.0000,\n",
            "          0.0000, 0.0000, 0.0000, 0.0000, 0.0000, 0.0000, 0.0000, 0.0000,\n",
            "          0.0000, 0.0000, 0.0000, 0.0000],\n",
            "         [0.0000, 0.0000, 0.0000, 0.0000, 0.0000, 0.0000, 0.0000, 0.0000,\n",
            "          0.0000, 0.0000, 0.0000, 0.0000, 0.0039, 0.0000, 0.0000, 0.0510,\n",
            "          0.2863, 0.0000, 0.0000, 0.0039, 0.0157, 0.0000, 0.0000, 0.0000,\n",
            "          0.0000, 0.0039, 0.0039, 0.0000],\n",
            "         [0.0000, 0.0000, 0.0000, 0.0000, 0.0000, 0.0000, 0.0000, 0.0000,\n",
            "          0.0000, 0.0000, 0.0000, 0.0000, 0.0118, 0.0000, 0.1412, 0.5333,\n",
            "          0.4980, 0.2431, 0.2118, 0.0000, 0.0000, 0.0000, 0.0039, 0.0118,\n",
            "          0.0157, 0.0000, 0.0000, 0.0118],\n",
            "         [0.0000, 0.0000, 0.0000, 0.0000, 0.0000, 0.0000, 0.0000, 0.0000,\n",
            "          0.0000, 0.0000, 0.0000, 0.0000, 0.0235, 0.0000, 0.4000, 0.8000,\n",
            "          0.6902, 0.5255, 0.5647, 0.4824, 0.0902, 0.0000, 0.0000, 0.0000,\n",
            "          0.0000, 0.0471, 0.0392, 0.0000],\n",
            "         [0.0000, 0.0000, 0.0000, 0.0000, 0.0000, 0.0000, 0.0000, 0.0000,\n",
            "          0.0000, 0.0000, 0.0000, 0.0000, 0.0000, 0.0000, 0.6078, 0.9255,\n",
            "          0.8118, 0.6980, 0.4196, 0.6118, 0.6314, 0.4275, 0.2510, 0.0902,\n",
            "          0.3020, 0.5098, 0.2824, 0.0588],\n",
            "         [0.0000, 0.0000, 0.0000, 0.0000, 0.0000, 0.0000, 0.0000, 0.0000,\n",
            "          0.0000, 0.0000, 0.0000, 0.0039, 0.0000, 0.2706, 0.8118, 0.8745,\n",
            "          0.8549, 0.8471, 0.8471, 0.6392, 0.4980, 0.4745, 0.4784, 0.5725,\n",
            "          0.5529, 0.3451, 0.6745, 0.2588],\n",
            "         [0.0000, 0.0000, 0.0000, 0.0000, 0.0000, 0.0000, 0.0000, 0.0000,\n",
            "          0.0000, 0.0039, 0.0039, 0.0039, 0.0000, 0.7843, 0.9098, 0.9098,\n",
            "          0.9137, 0.8980, 0.8745, 0.8745, 0.8431, 0.8353, 0.6431, 0.4980,\n",
            "          0.4824, 0.7686, 0.8980, 0.0000],\n",
            "         [0.0000, 0.0000, 0.0000, 0.0000, 0.0000, 0.0000, 0.0000, 0.0000,\n",
            "          0.0000, 0.0000, 0.0000, 0.0000, 0.0000, 0.7176, 0.8824, 0.8471,\n",
            "          0.8745, 0.8941, 0.9216, 0.8902, 0.8784, 0.8706, 0.8784, 0.8667,\n",
            "          0.8745, 0.9608, 0.6784, 0.0000],\n",
            "         [0.0000, 0.0000, 0.0000, 0.0000, 0.0000, 0.0000, 0.0000, 0.0000,\n",
            "          0.0000, 0.0000, 0.0000, 0.0000, 0.0000, 0.7569, 0.8941, 0.8549,\n",
            "          0.8353, 0.7765, 0.7059, 0.8314, 0.8235, 0.8275, 0.8353, 0.8745,\n",
            "          0.8627, 0.9529, 0.7922, 0.0000],\n",
            "         [0.0000, 0.0000, 0.0000, 0.0000, 0.0000, 0.0000, 0.0000, 0.0000,\n",
            "          0.0000, 0.0039, 0.0118, 0.0000, 0.0471, 0.8588, 0.8627, 0.8314,\n",
            "          0.8549, 0.7529, 0.6627, 0.8902, 0.8157, 0.8549, 0.8784, 0.8314,\n",
            "          0.8863, 0.7725, 0.8196, 0.2039],\n",
            "         [0.0000, 0.0000, 0.0000, 0.0000, 0.0000, 0.0000, 0.0000, 0.0000,\n",
            "          0.0000, 0.0000, 0.0235, 0.0000, 0.3882, 0.9569, 0.8706, 0.8627,\n",
            "          0.8549, 0.7961, 0.7765, 0.8667, 0.8431, 0.8353, 0.8706, 0.8627,\n",
            "          0.9608, 0.4667, 0.6549, 0.2196],\n",
            "         [0.0000, 0.0000, 0.0000, 0.0000, 0.0000, 0.0000, 0.0000, 0.0000,\n",
            "          0.0000, 0.0157, 0.0000, 0.0000, 0.2157, 0.9255, 0.8941, 0.9020,\n",
            "          0.8941, 0.9412, 0.9098, 0.8353, 0.8549, 0.8745, 0.9176, 0.8510,\n",
            "          0.8510, 0.8196, 0.3608, 0.0000],\n",
            "         [0.0000, 0.0000, 0.0039, 0.0157, 0.0235, 0.0275, 0.0078, 0.0000,\n",
            "          0.0000, 0.0000, 0.0000, 0.0000, 0.9294, 0.8863, 0.8510, 0.8745,\n",
            "          0.8706, 0.8588, 0.8706, 0.8667, 0.8471, 0.8745, 0.8980, 0.8431,\n",
            "          0.8549, 1.0000, 0.3020, 0.0000],\n",
            "         [0.0000, 0.0118, 0.0000, 0.0000, 0.0000, 0.0000, 0.0000, 0.0000,\n",
            "          0.0000, 0.2431, 0.5686, 0.8000, 0.8941, 0.8118, 0.8353, 0.8667,\n",
            "          0.8549, 0.8157, 0.8275, 0.8549, 0.8784, 0.8745, 0.8588, 0.8431,\n",
            "          0.8784, 0.9569, 0.6235, 0.0000],\n",
            "         [0.0000, 0.0000, 0.0000, 0.0000, 0.0706, 0.1725, 0.3216, 0.4196,\n",
            "          0.7412, 0.8941, 0.8627, 0.8706, 0.8510, 0.8863, 0.7843, 0.8039,\n",
            "          0.8275, 0.9020, 0.8784, 0.9176, 0.6902, 0.7373, 0.9804, 0.9725,\n",
            "          0.9137, 0.9333, 0.8431, 0.0000],\n",
            "         [0.0000, 0.2235, 0.7333, 0.8157, 0.8784, 0.8667, 0.8784, 0.8157,\n",
            "          0.8000, 0.8392, 0.8157, 0.8196, 0.7843, 0.6235, 0.9608, 0.7569,\n",
            "          0.8078, 0.8745, 1.0000, 1.0000, 0.8667, 0.9176, 0.8667, 0.8275,\n",
            "          0.8627, 0.9098, 0.9647, 0.0000],\n",
            "         [0.0118, 0.7922, 0.8941, 0.8784, 0.8667, 0.8275, 0.8275, 0.8392,\n",
            "          0.8039, 0.8039, 0.8039, 0.8627, 0.9412, 0.3137, 0.5882, 1.0000,\n",
            "          0.8980, 0.8667, 0.7373, 0.6039, 0.7490, 0.8235, 0.8000, 0.8196,\n",
            "          0.8706, 0.8941, 0.8824, 0.0000],\n",
            "         [0.3843, 0.9137, 0.7765, 0.8235, 0.8706, 0.8980, 0.8980, 0.9176,\n",
            "          0.9765, 0.8627, 0.7608, 0.8431, 0.8510, 0.9451, 0.2549, 0.2863,\n",
            "          0.4157, 0.4588, 0.6588, 0.8588, 0.8667, 0.8431, 0.8510, 0.8745,\n",
            "          0.8745, 0.8784, 0.8980, 0.1137],\n",
            "         [0.2941, 0.8000, 0.8314, 0.8000, 0.7569, 0.8039, 0.8275, 0.8824,\n",
            "          0.8471, 0.7255, 0.7725, 0.8078, 0.7765, 0.8353, 0.9412, 0.7647,\n",
            "          0.8902, 0.9608, 0.9373, 0.8745, 0.8549, 0.8314, 0.8196, 0.8706,\n",
            "          0.8627, 0.8667, 0.9020, 0.2627],\n",
            "         [0.1882, 0.7961, 0.7176, 0.7608, 0.8353, 0.7725, 0.7255, 0.7451,\n",
            "          0.7608, 0.7529, 0.7922, 0.8392, 0.8588, 0.8667, 0.8627, 0.9255,\n",
            "          0.8824, 0.8471, 0.7804, 0.8078, 0.7294, 0.7098, 0.6941, 0.6745,\n",
            "          0.7098, 0.8039, 0.8078, 0.4510],\n",
            "         [0.0000, 0.4784, 0.8588, 0.7569, 0.7020, 0.6706, 0.7176, 0.7686,\n",
            "          0.8000, 0.8235, 0.8353, 0.8118, 0.8275, 0.8235, 0.7843, 0.7686,\n",
            "          0.7608, 0.7490, 0.7647, 0.7490, 0.7765, 0.7529, 0.6902, 0.6118,\n",
            "          0.6549, 0.6941, 0.8235, 0.3608],\n",
            "         [0.0000, 0.0000, 0.2902, 0.7412, 0.8314, 0.7490, 0.6863, 0.6745,\n",
            "          0.6863, 0.7098, 0.7255, 0.7373, 0.7412, 0.7373, 0.7569, 0.7765,\n",
            "          0.8000, 0.8196, 0.8235, 0.8235, 0.8275, 0.7373, 0.7373, 0.7608,\n",
            "          0.7529, 0.8471, 0.6667, 0.0000],\n",
            "         [0.0078, 0.0000, 0.0000, 0.0000, 0.2588, 0.7843, 0.8706, 0.9294,\n",
            "          0.9373, 0.9490, 0.9647, 0.9529, 0.9569, 0.8667, 0.8627, 0.7569,\n",
            "          0.7490, 0.7020, 0.7137, 0.7137, 0.7098, 0.6902, 0.6510, 0.6588,\n",
            "          0.3882, 0.2275, 0.0000, 0.0000],\n",
            "         [0.0000, 0.0000, 0.0000, 0.0000, 0.0000, 0.0000, 0.0000, 0.1569,\n",
            "          0.2392, 0.1725, 0.2824, 0.1608, 0.1373, 0.0000, 0.0000, 0.0000,\n",
            "          0.0000, 0.0000, 0.0000, 0.0000, 0.0000, 0.0000, 0.0000, 0.0000,\n",
            "          0.0000, 0.0000, 0.0000, 0.0000],\n",
            "         [0.0000, 0.0000, 0.0000, 0.0000, 0.0000, 0.0000, 0.0000, 0.0000,\n",
            "          0.0000, 0.0000, 0.0000, 0.0000, 0.0000, 0.0000, 0.0000, 0.0000,\n",
            "          0.0000, 0.0000, 0.0000, 0.0000, 0.0000, 0.0000, 0.0000, 0.0000,\n",
            "          0.0000, 0.0000, 0.0000, 0.0000],\n",
            "         [0.0000, 0.0000, 0.0000, 0.0000, 0.0000, 0.0000, 0.0000, 0.0000,\n",
            "          0.0000, 0.0000, 0.0000, 0.0000, 0.0000, 0.0000, 0.0000, 0.0000,\n",
            "          0.0000, 0.0000, 0.0000, 0.0000, 0.0000, 0.0000, 0.0000, 0.0000,\n",
            "          0.0000, 0.0000, 0.0000, 0.0000]]])\n",
            "Label:\n",
            " 9\n"
          ]
        }
      ]
    },
    {
      "cell_type": "code",
      "source": [
        "# Get the class names from the dataset\n",
        "class_names = train_data.classes\n",
        "class_names"
      ],
      "metadata": {
        "colab": {
          "base_uri": "https://localhost:8080/"
        },
        "id": "uMv6yY9bU0Lq",
        "outputId": "3ed7009f-896d-4b46-9ac2-1d8d05aebbe0"
      },
      "execution_count": 8,
      "outputs": [
        {
          "output_type": "execute_result",
          "data": {
            "text/plain": [
              "['T-shirt/top',\n",
              " 'Trouser',\n",
              " 'Pullover',\n",
              " 'Dress',\n",
              " 'Coat',\n",
              " 'Sandal',\n",
              " 'Shirt',\n",
              " 'Sneaker',\n",
              " 'Bag',\n",
              " 'Ankle boot']"
            ]
          },
          "metadata": {},
          "execution_count": 8
        }
      ]
    },
    {
      "cell_type": "markdown",
      "source": [
        "###6. Visualize at least 5 different samples of the MNIST training dataset."
      ],
      "metadata": {
        "id": "Q2k3EXdIVeOj"
      }
    },
    {
      "cell_type": "code",
      "source": [
        "import matplotlib.pyplot as plt\n",
        "for i in range(5):\n",
        "  img = train_data[i][0]\n",
        "  print(img.shape)\n",
        "  img_squeeze = img.squeeze()\n",
        "  print(img_squeeze.shape)\n",
        "  label = train_data[i][1]\n",
        "  plt.figure(figsize=(3, 3))\n",
        "  plt.imshow(img_squeeze, cmap=\"gray\")\n",
        "  plt.title(label)\n",
        "  plt.axis(False);"
      ],
      "metadata": {
        "colab": {
          "base_uri": "https://localhost:8080/",
          "height": 1000
        },
        "id": "RDsmK1CVVpln",
        "outputId": "2a44cf21-1d56-4dc6-a5fe-81eb1600d4e5"
      },
      "execution_count": 9,
      "outputs": [
        {
          "output_type": "stream",
          "name": "stdout",
          "text": [
            "torch.Size([1, 28, 28])\n",
            "torch.Size([28, 28])\n",
            "torch.Size([1, 28, 28])\n",
            "torch.Size([28, 28])\n",
            "torch.Size([1, 28, 28])\n",
            "torch.Size([28, 28])\n",
            "torch.Size([1, 28, 28])\n",
            "torch.Size([28, 28])\n",
            "torch.Size([1, 28, 28])\n",
            "torch.Size([28, 28])\n"
          ]
        },
        {
          "output_type": "display_data",
          "data": {
            "text/plain": [
              "<Figure size 300x300 with 1 Axes>"
            ],
            "image/png": "[encoded data removed]"
          },
          "metadata": {}
        },
        {
          "output_type": "display_data",
          "data": {
            "text/plain": [
              "<Figure size 300x300 with 1 Axes>"
            ],
            "image/png": "[encoded data removed]"
          },
          "metadata": {}
        },
        {
          "output_type": "display_data",
          "data": {
            "text/plain": [
              "<Figure size 300x300 with 1 Axes>"
            ],
            "image/png": "[encoded data removed]"
          },
          "metadata": {}
        },
        {
          "output_type": "display_data",
          "data": {
            "text/plain": [
              "<Figure size 300x300 with 1 Axes>"
            ],
            "image/png": "[encoded data removed]"
          },
          "metadata": {}
        },
        {
          "output_type": "display_data",
          "data": {
            "text/plain": [
              "<Figure size 300x300 with 1 Axes>"
            ],
            "image/png": "[encoded data removed]"
          },
          "metadata": {}
        }
      ]
    },
    {
      "cell_type": "markdown",
      "source": [
        "###7. Turn the FashionMNIST train and test datasets into dataloaders using torch.utils.data.DataLoader, set the batch_size=32."
      ],
      "metadata": {
        "id": "DnuDwLGoV88i"
      }
    },
    {
      "cell_type": "code",
      "source": [
        "# Create train dataloader\n",
        "from torch.utils.data import DataLoader\n",
        "\n",
        "train_dataloader = DataLoader(dataset=train_data,\n",
        "                              batch_size=32,\n",
        "                              shuffle=True)\n",
        "\n",
        "test_dataloader = DataLoader(dataset=test_data,\n",
        "                             batch_size=32,\n",
        "                             shuffle=False)\n",
        "train_dataloader, test_dataloader"
      ],
      "metadata": {
        "colab": {
          "base_uri": "https://localhost:8080/"
        },
        "id": "SbouLwhAWAPV",
        "outputId": "7fccc370-cd2b-4cf9-d4ff-61ba84e7e8ac"
      },
      "execution_count": 10,
      "outputs": [
        {
          "output_type": "execute_result",
          "data": {
            "text/plain": [
              "(<torch.utils.data.dataloader.DataLoader at 0x7bcf11e9a140>,\n",
              " <torch.utils.data.dataloader.DataLoader at 0x7bcf11e9ab00>)"
            ]
          },
          "metadata": {},
          "execution_count": 10
        }
      ]
    },
    {
      "cell_type": "code",
      "source": [
        "for sample in next(iter(train_dataloader)):\n",
        "  print(sample.shape)"
      ],
      "metadata": {
        "colab": {
          "base_uri": "https://localhost:8080/"
        },
        "id": "dgh1n3BhWdar",
        "outputId": "11692124-be73-4ac5-dacd-97bea084756c"
      },
      "execution_count": 11,
      "outputs": [
        {
          "output_type": "stream",
          "name": "stdout",
          "text": [
            "torch.Size([32, 1, 28, 28])\n",
            "torch.Size([32])\n"
          ]
        }
      ]
    },
    {
      "cell_type": "code",
      "source": [
        "len(train_dataloader), len(test_dataloader)"
      ],
      "metadata": {
        "colab": {
          "base_uri": "https://localhost:8080/"
        },
        "id": "KS5QP1hCWhyb",
        "outputId": "b8b4843e-f8c4-4fa5-e86c-d2d0d9ae2e71"
      },
      "execution_count": 12,
      "outputs": [
        {
          "output_type": "execute_result",
          "data": {
            "text/plain": [
              "(1875, 313)"
            ]
          },
          "metadata": {},
          "execution_count": 12
        }
      ]
    },
    {
      "cell_type": "markdown",
      "source": [
        "## 8. Recreate `model_2` used in notebook 03 (the same model from the [CNN Explainer website](https://poloclub.github.io/cnn-explainer/), also known as TinyVGG) capable of fitting on the MNIST dataset."
      ],
      "metadata": {
        "id": "99x0yQyTWvWy"
      }
    },
    {
      "cell_type": "code",
      "source": [
        "from torch import nn\n",
        "class FashionMNIST_modelV2(nn.Module):\n",
        "  \"\"\"Model capable of predicting on FashionMNIST dataset.\n",
        "  \"\"\"\n",
        "  def __init__(self, input_shape: int, hidden_units: int, output_shape: int):\n",
        "    super().__init__()\n",
        "    self.conv_block_1 = nn.Sequential(\n",
        "      nn.Conv2d(in_channels=input_shape,\n",
        "                out_channels=hidden_units,\n",
        "                kernel_size=3,\n",
        "                stride=1,\n",
        "                padding=1),\n",
        "      nn.ReLU(),\n",
        "      nn.Conv2d(in_channels=hidden_units,\n",
        "                out_channels=hidden_units,\n",
        "                kernel_size=3,\n",
        "                stride=1,\n",
        "                padding=1),\n",
        "      nn.ReLU(),\n",
        "      nn.MaxPool2d(kernel_size=2)\n",
        "    )\n",
        "    self.conv_block_2 = nn.Sequential(\n",
        "      nn.Conv2d(in_channels=hidden_units,\n",
        "                out_channels=hidden_units,\n",
        "                kernel_size=3,\n",
        "                stride=1,\n",
        "                padding=1),\n",
        "      nn.ReLU(),\n",
        "      nn.Conv2d(in_channels=hidden_units,\n",
        "                out_channels=hidden_units,\n",
        "                kernel_size=3,\n",
        "                stride=1,\n",
        "                padding=1),\n",
        "      nn.ReLU(),\n",
        "      nn.MaxPool2d(kernel_size=2)\n",
        "    )\n",
        "    self.classifier = nn.Sequential(\n",
        "      nn.Flatten(),\n",
        "      nn.Linear(in_features=hidden_units*7*7,\n",
        "                out_features=output_shape)\n",
        "    )\n",
        "\n",
        "  def forward(self, x):\n",
        "    x = self.conv_block_1(x)\n",
        "    # print(f\"Output shape of conv block 1: {x.shape}\")\n",
        "    x = self.conv_block_2(x)\n",
        "    # print(f\"Output shape of conv block 2: {x.shape}\")\n",
        "    x = self.classifier(x)\n",
        "    # print(f\"Output shape of classifier: {x.shape}\")\n",
        "    return x"
      ],
      "metadata": {
        "id": "Sqd3o3BOWxHU"
      },
      "execution_count": 13,
      "outputs": []
    },
    {
      "cell_type": "code",
      "source": [
        "# Setup device agnostic code\n",
        "import torch\n",
        "device = \"cuda\" if torch.cuda.is_available() else \"cpu\"\n",
        "device"
      ],
      "metadata": {
        "colab": {
          "base_uri": "https://localhost:8080/",
          "height": 35
        },
        "id": "CMnt_N731OwN",
        "outputId": "cbd6abbc-c656-4c97-a8bd-1d8767c4116b"
      },
      "execution_count": 14,
      "outputs": [
        {
          "output_type": "execute_result",
          "data": {
            "text/plain": [
              "'cuda'"
            ],
            "application/vnd.google.colaboratory.intrinsic+json": {
              "type": "string"
            }
          },
          "metadata": {},
          "execution_count": 14
        }
      ]
    },
    {
      "cell_type": "code",
      "source": [
        "model = FashionMNIST_modelV2(input_shape=1,\n",
        "                    hidden_units=10,\n",
        "                    output_shape=len(train_data.classes)).to(device)\n",
        "model"
      ],
      "metadata": {
        "colab": {
          "base_uri": "https://localhost:8080/"
        },
        "id": "LoRt9YTnXD1p",
        "outputId": "1755b6e7-f91a-4908-9321-6e5bcc668486"
      },
      "execution_count": 15,
      "outputs": [
        {
          "output_type": "execute_result",
          "data": {
            "text/plain": [
              "FashionMNIST_modelV2(\n",
              "  (conv_block_1): Sequential(\n",
              "    (0): Conv2d(1, 10, kernel_size=(3, 3), stride=(1, 1), padding=(1, 1))\n",
              "    (1): ReLU()\n",
              "    (2): Conv2d(10, 10, kernel_size=(3, 3), stride=(1, 1), padding=(1, 1))\n",
              "    (3): ReLU()\n",
              "    (4): MaxPool2d(kernel_size=2, stride=2, padding=0, dilation=1, ceil_mode=False)\n",
              "  )\n",
              "  (conv_block_2): Sequential(\n",
              "    (0): Conv2d(10, 10, kernel_size=(3, 3), stride=(1, 1), padding=(1, 1))\n",
              "    (1): ReLU()\n",
              "    (2): Conv2d(10, 10, kernel_size=(3, 3), stride=(1, 1), padding=(1, 1))\n",
              "    (3): ReLU()\n",
              "    (4): MaxPool2d(kernel_size=2, stride=2, padding=0, dilation=1, ceil_mode=False)\n",
              "  )\n",
              "  (classifier): Sequential(\n",
              "    (0): Flatten(start_dim=1, end_dim=-1)\n",
              "    (1): Linear(in_features=490, out_features=10, bias=True)\n",
              "  )\n",
              ")"
            ]
          },
          "metadata": {},
          "execution_count": 15
        }
      ]
    },
    {
      "cell_type": "code",
      "source": [
        "# Check out the model state dict to find out what patterns our model wants to learn\n",
        "model.state_dict()"
      ],
      "metadata": {
        "colab": {
          "base_uri": "https://localhost:8080/"
        },
        "id": "qN2ZV5OkXP7z",
        "outputId": "71f70576-d8c0-48b3-d0f7-3fa745b3a925"
      },
      "execution_count": 16,
      "outputs": [
        {
          "output_type": "execute_result",
          "data": {
            "text/plain": [
              "OrderedDict([('conv_block_1.0.weight',\n",
              "              tensor([[[[ 1.9518e-01,  3.2211e-01,  2.2936e-01],\n",
              "                        [-5.3060e-02,  9.5736e-02, -1.9858e-01],\n",
              "                        [-1.3983e-01,  1.8866e-01, -2.4663e-01]]],\n",
              "              \n",
              "              \n",
              "                      [[[ 1.7045e-01, -2.6868e-01, -1.2983e-01],\n",
              "                        [-3.0119e-01, -3.3261e-01,  2.5712e-01],\n",
              "                        [-1.6523e-01,  2.8759e-01,  2.5489e-01]]],\n",
              "              \n",
              "              \n",
              "                      [[[ 3.0611e-01, -1.9448e-01,  5.2272e-02],\n",
              "                        [-1.2446e-01, -1.8884e-01, -2.9235e-01],\n",
              "                        [ 2.0525e-01, -1.7872e-01, -7.5572e-02]]],\n",
              "              \n",
              "              \n",
              "                      [[[-2.0067e-01, -2.4941e-01,  5.1531e-02],\n",
              "                        [ 2.5252e-01,  2.5599e-01, -4.9419e-02],\n",
              "                        [-3.2512e-02, -2.1418e-01, -5.8271e-02]]],\n",
              "              \n",
              "              \n",
              "                      [[[-2.6657e-01,  8.5800e-02,  2.6583e-01],\n",
              "                        [-2.2316e-01,  2.7536e-01,  4.6915e-02],\n",
              "                        [ 1.9505e-02, -2.5535e-01,  1.4619e-01]]],\n",
              "              \n",
              "              \n",
              "                      [[[-5.1486e-02,  2.9736e-01,  1.4548e-01],\n",
              "                        [-2.7056e-01,  5.2016e-02,  3.2191e-01],\n",
              "                        [-1.5680e-01,  2.2932e-01, -2.4869e-01]]],\n",
              "              \n",
              "              \n",
              "                      [[[-2.8711e-01,  1.0193e-01,  3.2556e-01],\n",
              "                        [ 2.4119e-01, -1.0117e-01,  2.5463e-01],\n",
              "                        [-2.9174e-01,  2.4682e-02,  7.8561e-02]]],\n",
              "              \n",
              "              \n",
              "                      [[[ 2.9765e-01,  4.8193e-02,  2.1525e-01],\n",
              "                        [ 2.1690e-01, -1.1059e-01,  2.6416e-01],\n",
              "                        [-1.2558e-01,  5.0779e-02,  3.1317e-01]]],\n",
              "              \n",
              "              \n",
              "                      [[[-2.0303e-01, -3.1542e-01, -3.1114e-01],\n",
              "                        [ 2.0239e-02,  3.2794e-01, -1.9751e-01],\n",
              "                        [ 3.3106e-01,  4.8237e-02, -1.3006e-04]]],\n",
              "              \n",
              "              \n",
              "                      [[[ 1.5711e-01,  3.0225e-01,  1.2319e-01],\n",
              "                        [ 4.5620e-02,  2.7194e-01,  3.3785e-02],\n",
              "                        [ 5.6418e-03, -3.3060e-01,  1.0247e-01]]]], device='cuda:0')),\n",
              "             ('conv_block_1.0.bias',\n",
              "              tensor([-0.0504, -0.1345, -0.1875,  0.1261, -0.2817,  0.1426, -0.0261,  0.2845,\n",
              "                       0.1645, -0.0026], device='cuda:0')),\n",
              "             ('conv_block_1.2.weight',\n",
              "              tensor([[[[ 0.0420,  0.0979, -0.0077],\n",
              "                        [-0.0595, -0.0296, -0.0850],\n",
              "                        [-0.1026,  0.0927,  0.0314]],\n",
              "              \n",
              "                       [[-0.0914, -0.0124,  0.0371],\n",
              "                        [ 0.0619, -0.0627, -0.0087],\n",
              "                        [-0.0572,  0.0644, -0.0282]],\n",
              "              \n",
              "                       [[ 0.0331, -0.0203, -0.0091],\n",
              "                        [ 0.0575,  0.0994, -0.1015],\n",
              "                        [-0.0728, -0.0384,  0.0833]],\n",
              "              \n",
              "                       [[-0.0655,  0.0606,  0.0030],\n",
              "                        [-0.0036,  0.0898, -0.0914],\n",
              "                        [ 0.0799, -0.0156,  0.0569]],\n",
              "              \n",
              "                       [[-0.0446, -0.0750, -0.0359],\n",
              "                        [ 0.0492, -0.0618, -0.0834],\n",
              "                        [-0.0502, -0.0628, -0.0833]],\n",
              "              \n",
              "                       [[-0.0100, -0.0157,  0.0596],\n",
              "                        [ 0.0571, -0.1050,  0.0685],\n",
              "                        [ 0.0589, -0.0601, -0.0096]],\n",
              "              \n",
              "                       [[ 0.0847,  0.0266, -0.0321],\n",
              "                        [ 0.0360, -0.0986,  0.0865],\n",
              "                        [ 0.0932,  0.0175,  0.0998]],\n",
              "              \n",
              "                       [[-0.0704,  0.0446, -0.0169],\n",
              "                        [-0.0104,  0.0566,  0.0703],\n",
              "                        [ 0.0567,  0.0641,  0.0267]],\n",
              "              \n",
              "                       [[ 0.0443, -0.0564, -0.0310],\n",
              "                        [ 0.0907,  0.0242, -0.0622],\n",
              "                        [ 0.0707,  0.0582, -0.0287]],\n",
              "              \n",
              "                       [[-0.0801,  0.1006, -0.0146],\n",
              "                        [-0.0981, -0.0146,  0.0849],\n",
              "                        [ 0.0230,  0.1046,  0.0382]]],\n",
              "              \n",
              "              \n",
              "                      [[[-0.0415, -0.0619,  0.0956],\n",
              "                        [ 0.0077,  0.0776,  0.0112],\n",
              "                        [ 0.0737,  0.0784, -0.0279]],\n",
              "              \n",
              "                       [[ 0.0595,  0.0400, -0.0400],\n",
              "                        [-0.0067, -0.0697,  0.0503],\n",
              "                        [ 0.0704,  0.0133,  0.0451]],\n",
              "              \n",
              "                       [[-0.0051,  0.0952,  0.1050],\n",
              "                        [-0.0761, -0.0215,  0.0849],\n",
              "                        [-0.0438, -0.0627, -0.0287]],\n",
              "              \n",
              "                       [[-0.0917,  0.0876, -0.0740],\n",
              "                        [ 0.0419,  0.0585, -0.0178],\n",
              "                        [ 0.0724, -0.0789, -0.0497]],\n",
              "              \n",
              "                       [[ 0.0307,  0.0152,  0.0359],\n",
              "                        [-0.0495, -0.0569, -0.0975],\n",
              "                        [ 0.0306, -0.0180, -0.0293]],\n",
              "              \n",
              "                       [[ 0.0253, -0.0355,  0.0304],\n",
              "                        [ 0.0118,  0.0754,  0.0511],\n",
              "                        [-0.0596,  0.0130,  0.0168]],\n",
              "              \n",
              "                       [[-0.0805,  0.0369,  0.0610],\n",
              "                        [ 0.0435,  0.0323,  0.0559],\n",
              "                        [ 0.0770,  0.0448,  0.0540]],\n",
              "              \n",
              "                       [[ 0.0845, -0.0313,  0.0320],\n",
              "                        [-0.0366, -0.0601, -0.0282],\n",
              "                        [ 0.0334,  0.0314, -0.0555]],\n",
              "              \n",
              "                       [[ 0.0871, -0.0531, -0.1004],\n",
              "                        [ 0.0745,  0.0842, -0.0390],\n",
              "                        [-0.0161, -0.0490,  0.0341]],\n",
              "              \n",
              "                       [[ 0.0297,  0.0709, -0.0254],\n",
              "                        [-0.0006, -0.0105,  0.0889],\n",
              "                        [ 0.0282, -0.0455, -0.0943]]],\n",
              "              \n",
              "              \n",
              "                      [[[-0.1022,  0.0994, -0.0732],\n",
              "                        [ 0.0318,  0.0799, -0.0996],\n",
              "                        [ 0.0846, -0.0734, -0.0737]],\n",
              "              \n",
              "                       [[ 0.0119, -0.0205,  0.0372],\n",
              "                        [-0.0698,  0.0928,  0.0236],\n",
              "                        [-0.0520, -0.0773, -0.0956]],\n",
              "              \n",
              "                       [[ 0.0923,  0.1011, -0.0597],\n",
              "                        [ 0.0250, -0.1037, -0.0238],\n",
              "                        [-0.0338,  0.0119,  0.0459]],\n",
              "              \n",
              "                       [[-0.0515, -0.0728, -0.0442],\n",
              "                        [ 0.0640,  0.0720,  0.0095],\n",
              "                        [ 0.0079,  0.0534, -0.0202]],\n",
              "              \n",
              "                       [[ 0.0150, -0.0642, -0.0077],\n",
              "                        [-0.0075, -0.0140,  0.0534],\n",
              "                        [-0.0521, -0.0734, -0.0111]],\n",
              "              \n",
              "                       [[ 0.0413,  0.0574,  0.0524],\n",
              "                        [ 0.0600,  0.0187, -0.0719],\n",
              "                        [ 0.0086, -0.0839, -0.0527]],\n",
              "              \n",
              "                       [[-0.0791,  0.0065,  0.0094],\n",
              "                        [-0.0581, -0.0658,  0.0097],\n",
              "                        [ 0.0694,  0.0209, -0.0410]],\n",
              "              \n",
              "                       [[-0.0598, -0.0646, -0.0071],\n",
              "                        [ 0.0969, -0.0624,  0.0897],\n",
              "                        [-0.0124, -0.0656, -0.1041]],\n",
              "              \n",
              "                       [[ 0.0500,  0.0932, -0.0481],\n",
              "                        [-0.0732, -0.0715, -0.0136],\n",
              "                        [-0.0534, -0.0762,  0.0497]],\n",
              "              \n",
              "                       [[-0.0440, -0.1039,  0.0823],\n",
              "                        [-0.0672, -0.1006,  0.1013],\n",
              "                        [ 0.1024,  0.0714, -0.0835]]],\n",
              "              \n",
              "              \n",
              "                      [[[-0.0439, -0.0933, -0.0656],\n",
              "                        [-0.0697, -0.0205, -0.0370],\n",
              "                        [ 0.0849, -0.0920,  0.0415]],\n",
              "              \n",
              "                       [[ 0.0049,  0.0313, -0.0796],\n",
              "                        [-0.0525,  0.0345,  0.0710],\n",
              "                        [-0.0820,  0.0319,  0.1019]],\n",
              "              \n",
              "                       [[ 0.0711, -0.0332, -0.0043],\n",
              "                        [ 0.0088,  0.0955, -0.0789],\n",
              "                        [-0.0613, -0.0295, -0.1020]],\n",
              "              \n",
              "                       [[ 0.0185,  0.0464, -0.0450],\n",
              "                        [ 0.0579,  0.0660, -0.0509],\n",
              "                        [ 0.0800, -0.0971,  0.0913]],\n",
              "              \n",
              "                       [[-0.0282,  0.0269,  0.0052],\n",
              "                        [ 0.0648, -0.1028, -0.0385],\n",
              "                        [ 0.0536,  0.0603, -0.0871]],\n",
              "              \n",
              "                       [[ 0.0606, -0.0528, -0.0266],\n",
              "                        [ 0.0654,  0.0170, -0.0603],\n",
              "                        [ 0.0174, -0.0058, -0.0158]],\n",
              "              \n",
              "                       [[ 0.0424,  0.1046,  0.0470],\n",
              "                        [-0.0269,  0.0877, -0.0314],\n",
              "                        [-0.0178,  0.0212,  0.0498]],\n",
              "              \n",
              "                       [[ 0.0145,  0.1012,  0.0516],\n",
              "                        [-0.0928, -0.0041,  0.0312],\n",
              "                        [ 0.0675,  0.0169,  0.0153]],\n",
              "              \n",
              "                       [[-0.0832,  0.0246, -0.0004],\n",
              "                        [ 0.0007, -0.0249,  0.0583],\n",
              "                        [ 0.0349,  0.0226,  0.0662]],\n",
              "              \n",
              "                       [[-0.0726,  0.0944,  0.0007],\n",
              "                        [-0.0624, -0.0660, -0.0193],\n",
              "                        [-0.0066, -0.0523,  0.0283]]],\n",
              "              \n",
              "              \n",
              "                      [[[ 0.0932, -0.0096,  0.0257],\n",
              "                        [ 0.0337, -0.0198,  0.0088],\n",
              "                        [-0.0525, -0.0569,  0.0903]],\n",
              "              \n",
              "                       [[ 0.0304,  0.0257,  0.1026],\n",
              "                        [ 0.0508, -0.0989,  0.0721],\n",
              "                        [-0.0776,  0.0157, -0.0302]],\n",
              "              \n",
              "                       [[ 0.0918,  0.0316,  0.0840],\n",
              "                        [ 0.0638, -0.0693, -0.0544],\n",
              "                        [-0.0270,  0.0201,  0.0472]],\n",
              "              \n",
              "                       [[-0.0409, -0.0644,  0.0388],\n",
              "                        [-0.0559,  0.1046,  0.0085],\n",
              "                        [-0.0053,  0.0787,  0.0781]],\n",
              "              \n",
              "                       [[-0.1044, -0.0077,  0.0831],\n",
              "                        [ 0.0644,  0.0655,  0.0741],\n",
              "                        [ 0.0937,  0.0756, -0.0919]],\n",
              "              \n",
              "                       [[ 0.0581,  0.0282, -0.0020],\n",
              "                        [-0.0563, -0.1012,  0.0123],\n",
              "                        [ 0.0510, -0.0357, -0.0333]],\n",
              "              \n",
              "                       [[ 0.0737, -0.0193, -0.0296],\n",
              "                        [ 0.0979, -0.0112,  0.0673],\n",
              "                        [ 0.0212,  0.0371, -0.0455]],\n",
              "              \n",
              "                       [[ 0.0482,  0.1050,  0.0167],\n",
              "                        [-0.0878, -0.0283,  0.0282],\n",
              "                        [ 0.0198, -0.0575,  0.1046]],\n",
              "              \n",
              "                       [[ 0.0829, -0.0813,  0.0666],\n",
              "                        [ 0.0726,  0.0963, -0.0537],\n",
              "                        [-0.0233,  0.0425, -0.0873]],\n",
              "              \n",
              "                       [[ 0.0475, -0.0949,  0.0347],\n",
              "                        [ 0.0289,  0.0038,  0.0273],\n",
              "                        [-0.0567,  0.0238,  0.1000]]],\n",
              "              \n",
              "              \n",
              "                      [[[-0.0656, -0.0600,  0.0773],\n",
              "                        [-0.0854,  0.0771,  0.0882],\n",
              "                        [ 0.0703, -0.0807,  0.0113]],\n",
              "              \n",
              "                       [[ 0.0883, -0.0557,  0.0156],\n",
              "                        [-0.0226, -0.0117, -0.0952],\n",
              "                        [-0.0521, -0.0612,  0.0369]],\n",
              "              \n",
              "                       [[ 0.0184,  0.0255,  0.0602],\n",
              "                        [-0.0973, -0.0429, -0.0825],\n",
              "                        [ 0.0867, -0.0413,  0.0309]],\n",
              "              \n",
              "                       [[-0.0511,  0.0116, -0.0402],\n",
              "                        [-0.0703, -0.0901,  0.0990],\n",
              "                        [-0.0174,  0.0679,  0.0912]],\n",
              "              \n",
              "                       [[ 0.0475, -0.0015, -0.0025],\n",
              "                        [-0.0944, -0.0999, -0.0184],\n",
              "                        [ 0.0607,  0.0196,  0.0478]],\n",
              "              \n",
              "                       [[-0.0591, -0.0077,  0.0384],\n",
              "                        [-0.0390,  0.1016,  0.0653],\n",
              "                        [-0.0242, -0.0040, -0.0587]],\n",
              "              \n",
              "                       [[ 0.0510, -0.0456, -0.0919],\n",
              "                        [-0.1041, -0.0578,  0.0180],\n",
              "                        [-0.0973,  0.0383,  0.0958]],\n",
              "              \n",
              "                       [[ 0.0522, -0.0033, -0.0449],\n",
              "                        [ 0.0887,  0.0915,  0.0432],\n",
              "                        [ 0.0287, -0.0776,  0.0062]],\n",
              "              \n",
              "                       [[-0.0017, -0.0166, -0.0863],\n",
              "                        [ 0.0442,  0.0904,  0.0442],\n",
              "                        [-0.0973, -0.0293,  0.0411]],\n",
              "              \n",
              "                       [[ 0.0893, -0.0707, -0.0332],\n",
              "                        [ 0.0884, -0.0983, -0.0422],\n",
              "                        [-0.0172, -0.0669, -0.0269]]],\n",
              "              \n",
              "              \n",
              "                      [[[ 0.0848,  0.0447, -0.0041],\n",
              "                        [ 0.0792,  0.0309, -0.0077],\n",
              "                        [-0.0905, -0.0932,  0.1016]],\n",
              "              \n",
              "                       [[-0.0514,  0.0796,  0.0035],\n",
              "                        [ 0.0469,  0.0096,  0.0925],\n",
              "                        [-0.0100,  0.0290, -0.0919]],\n",
              "              \n",
              "                       [[-0.0667,  0.0697,  0.0801],\n",
              "                        [-0.0438,  0.0661, -0.0196],\n",
              "                        [ 0.0494,  0.0512, -0.0065]],\n",
              "              \n",
              "                       [[ 0.0414, -0.0440, -0.0240],\n",
              "                        [-0.0819,  0.0599, -0.0202],\n",
              "                        [ 0.0919,  0.0028,  0.0625]],\n",
              "              \n",
              "                       [[ 0.0276, -0.0281,  0.0798],\n",
              "                        [-0.0973,  0.0977,  0.0956],\n",
              "                        [ 0.0009,  0.0888,  0.0692]],\n",
              "              \n",
              "                       [[-0.0148, -0.0646,  0.0541],\n",
              "                        [-0.0061,  0.0533, -0.0654],\n",
              "                        [-0.0996, -0.0313, -0.0954]],\n",
              "              \n",
              "                       [[ 0.0420,  0.0911, -0.0775],\n",
              "                        [ 0.0138,  0.0209,  0.0832],\n",
              "                        [-0.0546, -0.0831,  0.0429]],\n",
              "              \n",
              "                       [[-0.1026, -0.0550,  0.0965],\n",
              "                        [-0.0519,  0.0960, -0.0698],\n",
              "                        [-0.0906, -0.0234,  0.0241]],\n",
              "              \n",
              "                       [[-0.0772,  0.0111,  0.0889],\n",
              "                        [-0.0308, -0.0892,  0.0992],\n",
              "                        [-0.0400, -0.0483,  0.0672]],\n",
              "              \n",
              "                       [[-0.0806,  0.0008, -0.0998],\n",
              "                        [-0.0145,  0.0423,  0.0724],\n",
              "                        [-0.0362,  0.0222,  0.0329]]],\n",
              "              \n",
              "              \n",
              "                      [[[-0.0617,  0.0427,  0.0349],\n",
              "                        [-0.0085,  0.0547,  0.0221],\n",
              "                        [-0.1034,  0.0261, -0.0291]],\n",
              "              \n",
              "                       [[-0.0403, -0.0313, -0.1011],\n",
              "                        [ 0.0764,  0.0576,  0.1021],\n",
              "                        [ 0.0443,  0.0202, -0.0564]],\n",
              "              \n",
              "                       [[-0.0077,  0.0229, -0.0750],\n",
              "                        [ 0.0423, -0.0188, -0.0917],\n",
              "                        [ 0.0969,  0.0737, -0.0696]],\n",
              "              \n",
              "                       [[-0.0484, -0.0919, -0.0471],\n",
              "                        [ 0.0996, -0.0679, -0.0657],\n",
              "                        [ 0.0575,  0.1010,  0.0204]],\n",
              "              \n",
              "                       [[ 0.0817, -0.1001,  0.0288],\n",
              "                        [-0.0890,  0.0091,  0.0155],\n",
              "                        [ 0.0355,  0.0226,  0.0566]],\n",
              "              \n",
              "                       [[-0.0149,  0.0452, -0.0055],\n",
              "                        [ 0.0265,  0.0763,  0.0934],\n",
              "                        [ 0.0491,  0.0043, -0.0228]],\n",
              "              \n",
              "                       [[-0.0116,  0.0145,  0.0183],\n",
              "                        [ 0.0653, -0.0304, -0.0824],\n",
              "                        [ 0.0636, -0.0252,  0.0860]],\n",
              "              \n",
              "                       [[ 0.0408,  0.0681, -0.0977],\n",
              "                        [-0.0122, -0.0923, -0.0143],\n",
              "                        [-0.0409, -0.0088, -0.0532]],\n",
              "              \n",
              "                       [[ 0.0040,  0.0496,  0.0893],\n",
              "                        [-0.0003, -0.0110,  0.0493],\n",
              "                        [-0.0657,  0.0837, -0.0690]],\n",
              "              \n",
              "                       [[-0.0230,  0.0817, -0.0710],\n",
              "                        [ 0.0518, -0.0990,  0.0657],\n",
              "                        [ 0.0092,  0.0836,  0.0415]]],\n",
              "              \n",
              "              \n",
              "                      [[[ 0.1015,  0.0572, -0.0826],\n",
              "                        [-0.0517,  0.0763,  0.0291],\n",
              "                        [ 0.0954,  0.0792, -0.0741]],\n",
              "              \n",
              "                       [[-0.1043,  0.0471, -0.1036],\n",
              "                        [ 0.0257,  0.0135, -0.0342],\n",
              "                        [-0.1014,  0.0511, -0.0121]],\n",
              "              \n",
              "                       [[ 0.0944,  0.0970, -0.0399],\n",
              "                        [-0.0726, -0.0497, -0.0895],\n",
              "                        [-0.0291, -0.0376, -0.0282]],\n",
              "              \n",
              "                       [[ 0.0624,  0.0333,  0.0538],\n",
              "                        [ 0.0756, -0.0716,  0.0345],\n",
              "                        [ 0.0803,  0.0544, -0.0535]],\n",
              "              \n",
              "                       [[-0.0122,  0.0083, -0.0564],\n",
              "                        [ 0.0244,  0.0309, -0.0638],\n",
              "                        [ 0.0284,  0.0165,  0.0238]],\n",
              "              \n",
              "                       [[-0.0892,  0.0750,  0.0190],\n",
              "                        [-0.0054,  0.0363, -0.0666],\n",
              "                        [ 0.0379, -0.0748, -0.0111]],\n",
              "              \n",
              "                       [[ 0.0587, -0.0713,  0.0342],\n",
              "                        [ 0.0962,  0.0810, -0.0755],\n",
              "                        [ 0.0080,  0.0091,  0.0360]],\n",
              "              \n",
              "                       [[ 0.0017,  0.0807, -0.0911],\n",
              "                        [-0.0380, -0.0402,  0.0827],\n",
              "                        [ 0.0636, -0.0423, -0.0206]],\n",
              "              \n",
              "                       [[-0.0500, -0.0104, -0.0621],\n",
              "                        [ 0.0794,  0.0828, -0.0709],\n",
              "                        [-0.0568,  0.0573, -0.0603]],\n",
              "              \n",
              "                       [[-0.0232, -0.0623,  0.0378],\n",
              "                        [-0.0616,  0.0307,  0.0808],\n",
              "                        [ 0.0147, -0.0147,  0.0663]]],\n",
              "              \n",
              "              \n",
              "                      [[[ 0.0531, -0.0447, -0.0825],\n",
              "                        [-0.0117,  0.0777, -0.0563],\n",
              "                        [-0.0023,  0.0399, -0.0630]],\n",
              "              \n",
              "                       [[-0.0522, -0.0349, -0.0027],\n",
              "                        [ 0.0209,  0.0234,  0.0276],\n",
              "                        [-0.0029,  0.0011,  0.0155]],\n",
              "              \n",
              "                       [[-0.0758,  0.0637, -0.0779],\n",
              "                        [ 0.0718, -0.1006, -0.1000],\n",
              "                        [ 0.0351,  0.0094,  0.0369]],\n",
              "              \n",
              "                       [[ 0.0123, -0.0029,  0.0471],\n",
              "                        [-0.0373,  0.1023,  0.0804],\n",
              "                        [-0.0800,  0.0980,  0.0732]],\n",
              "              \n",
              "                       [[ 0.0084,  0.1048,  0.0925],\n",
              "                        [ 0.0865, -0.0570, -0.0501],\n",
              "                        [ 0.0985, -0.0200,  0.0686]],\n",
              "              \n",
              "                       [[ 0.0015,  0.0321,  0.0744],\n",
              "                        [-0.0573, -0.0675, -0.0790],\n",
              "                        [ 0.0901,  0.0428,  0.0807]],\n",
              "              \n",
              "                       [[ 0.0460, -0.0580, -0.0251],\n",
              "                        [ 0.0853,  0.0683,  0.0890],\n",
              "                        [ 0.0426,  0.0425,  0.0441]],\n",
              "              \n",
              "                       [[ 0.0786,  0.0508,  0.0070],\n",
              "                        [ 0.0939,  0.0825,  0.1051],\n",
              "                        [ 0.0285, -0.0786,  0.1013]],\n",
              "              \n",
              "                       [[ 0.0897,  0.0553, -0.0184],\n",
              "                        [-0.0776, -0.1043,  0.0653],\n",
              "                        [ 0.0366,  0.0970, -0.0101]],\n",
              "              \n",
              "                       [[-0.0776,  0.0259,  0.0445],\n",
              "                        [-0.0736, -0.0390,  0.0157],\n",
              "                        [-0.0393,  0.0355,  0.0985]]]], device='cuda:0')),\n",
              "             ('conv_block_1.2.bias',\n",
              "              tensor([-0.0601,  0.1020,  0.0832, -0.0750, -0.0166, -0.0549, -0.0507, -0.0501,\n",
              "                      -0.0845,  0.0889], device='cuda:0')),\n",
              "             ('conv_block_2.0.weight',\n",
              "              tensor([[[[ 0.0379, -0.0729, -0.0259],\n",
              "                        [-0.0565,  0.0506,  0.0717],\n",
              "                        [-0.0092,  0.0278, -0.0589]],\n",
              "              \n",
              "                       [[-0.0089,  0.0734,  0.0484],\n",
              "                        [ 0.0768, -0.0292, -0.0033],\n",
              "                        [ 0.0302, -0.0769, -0.0264]],\n",
              "              \n",
              "                       [[ 0.0192,  0.0391,  0.0045],\n",
              "                        [ 0.0627,  0.0516, -0.0768],\n",
              "                        [ 0.0777, -0.0307, -0.0382]],\n",
              "              \n",
              "                       [[ 0.0793,  0.1035, -0.0152],\n",
              "                        [-0.0547,  0.0397,  0.0541],\n",
              "                        [-0.0512,  0.0014,  0.0698]],\n",
              "              \n",
              "                       [[ 0.0593, -0.0917, -0.0612],\n",
              "                        [ 0.0052, -0.0575,  0.0701],\n",
              "                        [-0.0278, -0.0277,  0.0418]],\n",
              "              \n",
              "                       [[ 0.0638,  0.0734, -0.0759],\n",
              "                        [-0.0616,  0.0804, -0.1021],\n",
              "                        [-0.0386, -0.0165,  0.0878]],\n",
              "              \n",
              "                       [[ 0.0670, -0.0439,  0.0048],\n",
              "                        [-0.0462, -0.0935, -0.1008],\n",
              "                        [ 0.0954, -0.0072, -0.0370]],\n",
              "              \n",
              "                       [[ 0.0151, -0.0683,  0.0145],\n",
              "                        [-0.0319, -0.0079, -0.0662],\n",
              "                        [-0.0250,  0.0529,  0.0945]],\n",
              "              \n",
              "                       [[-0.0243, -0.0945, -0.0812],\n",
              "                        [ 0.0839, -0.1045, -0.0100],\n",
              "                        [ 0.0577, -0.0071,  0.0808]],\n",
              "              \n",
              "                       [[ 0.0354, -0.0115,  0.0035],\n",
              "                        [ 0.0885,  0.0191, -0.0911],\n",
              "                        [ 0.0716, -0.0898,  0.0542]]],\n",
              "              \n",
              "              \n",
              "                      [[[-0.0761,  0.0662, -0.0030],\n",
              "                        [ 0.0882, -0.0278, -0.0313],\n",
              "                        [-0.0952, -0.0946, -0.0704]],\n",
              "              \n",
              "                       [[ 0.0407, -0.0640,  0.0442],\n",
              "                        [ 0.0169,  0.0975,  0.0368],\n",
              "                        [-0.0293,  0.0458, -0.0896]],\n",
              "              \n",
              "                       [[-0.0597,  0.0131, -0.0098],\n",
              "                        [-0.0176,  0.0827,  0.0492],\n",
              "                        [-0.0005, -0.0488,  0.0236]],\n",
              "              \n",
              "                       [[ 0.0023,  0.0065, -0.0171],\n",
              "                        [ 0.0020,  0.0438,  0.0023],\n",
              "                        [-0.0212, -0.0808, -0.0771]],\n",
              "              \n",
              "                       [[-0.0019,  0.0218, -0.0223],\n",
              "                        [ 0.0660,  0.0744,  0.0317],\n",
              "                        [ 0.0197, -0.0468,  0.0469]],\n",
              "              \n",
              "                       [[-0.0887, -0.0897,  0.0934],\n",
              "                        [-0.0157,  0.0509,  0.0178],\n",
              "                        [ 0.0225, -0.0960, -0.0353]],\n",
              "              \n",
              "                       [[ 0.0465, -0.0709,  0.0613],\n",
              "                        [-0.0613,  0.0047, -0.0148],\n",
              "                        [-0.0291,  0.0713,  0.0736]],\n",
              "              \n",
              "                       [[-0.0952,  0.0453,  0.0139],\n",
              "                        [-0.0654,  0.0644,  0.0678],\n",
              "                        [ 0.0404, -0.0041,  0.0106]],\n",
              "              \n",
              "                       [[ 0.0384, -0.0888,  0.0135],\n",
              "                        [-0.0948,  0.0325, -0.0082],\n",
              "                        [ 0.0087, -0.0823, -0.0421]],\n",
              "              \n",
              "                       [[ 0.0527,  0.0108, -0.0794],\n",
              "                        [-0.0326, -0.0172, -0.0180],\n",
              "                        [-0.0761, -0.0571,  0.0857]]],\n",
              "              \n",
              "              \n",
              "                      [[[ 0.0604, -0.0802, -0.0072],\n",
              "                        [-0.0331, -0.0316,  0.0422],\n",
              "                        [ 0.0183, -0.0021,  0.0370]],\n",
              "              \n",
              "                       [[-0.0590, -0.0375,  0.0260],\n",
              "                        [-0.0440, -0.0900, -0.1053],\n",
              "                        [ 0.0958, -0.0718, -0.0401]],\n",
              "              \n",
              "                       [[ 0.0098, -0.0773,  0.0794],\n",
              "                        [-0.0012,  0.0764, -0.0475],\n",
              "                        [ 0.0686, -0.0276,  0.0462]],\n",
              "              \n",
              "                       [[-0.0863, -0.0254,  0.0567],\n",
              "                        [-0.1032, -0.0855, -0.0176],\n",
              "                        [-0.0760,  0.0280, -0.0754]],\n",
              "              \n",
              "                       [[ 0.0333, -0.0259,  0.0319],\n",
              "                        [-0.0974,  0.0974, -0.0137],\n",
              "                        [ 0.1028, -0.0550,  0.0227]],\n",
              "              \n",
              "                       [[ 0.0837, -0.0047, -0.0865],\n",
              "                        [-0.1019,  0.0859, -0.0119],\n",
              "                        [-0.0484,  0.0400, -0.0775]],\n",
              "              \n",
              "                       [[ 0.0923,  0.0831,  0.0134],\n",
              "                        [ 0.0682,  0.0677, -0.0944],\n",
              "                        [ 0.0747,  0.1021,  0.0121]],\n",
              "              \n",
              "                       [[ 0.0254,  0.0954,  0.0567],\n",
              "                        [-0.0637, -0.0315, -0.0492],\n",
              "                        [-0.0737,  0.0524, -0.0820]],\n",
              "              \n",
              "                       [[-0.0657,  0.0246,  0.0017],\n",
              "                        [-0.0771,  0.0334,  0.0180],\n",
              "                        [ 0.0859,  0.0194,  0.0113]],\n",
              "              \n",
              "                       [[-0.1006, -0.0126, -0.0690],\n",
              "                        [ 0.0934, -0.0453, -0.0484],\n",
              "                        [ 0.0323, -0.0088, -0.0699]]],\n",
              "              \n",
              "              \n",
              "                      [[[-0.0705,  0.0308,  0.0002],\n",
              "                        [-0.0181,  0.0102, -0.0712],\n",
              "                        [-0.0836,  0.0917,  0.0830]],\n",
              "              \n",
              "                       [[-0.1032,  0.0525, -0.0696],\n",
              "                        [ 0.0347,  0.0937,  0.0668],\n",
              "                        [-0.0525,  0.0490, -0.0976]],\n",
              "              \n",
              "                       [[-0.0002,  0.0192,  0.0665],\n",
              "                        [ 0.0555, -0.0427, -0.0051],\n",
              "                        [-0.0267,  0.0918, -0.0815]],\n",
              "              \n",
              "                       [[ 0.0783,  0.0030, -0.0645],\n",
              "                        [ 0.0881, -0.0656,  0.0327],\n",
              "                        [ 0.0368, -0.1007, -0.0601]],\n",
              "              \n",
              "                       [[-0.0763,  0.0574,  0.0104],\n",
              "                        [ 0.0818,  0.0599, -0.0928],\n",
              "                        [ 0.0822,  0.0215, -0.0515]],\n",
              "              \n",
              "                       [[-0.0614, -0.0394,  0.0840],\n",
              "                        [ 0.0350, -0.0718, -0.0926],\n",
              "                        [-0.0811, -0.0227,  0.0952]],\n",
              "              \n",
              "                       [[-0.0820,  0.0650, -0.0798],\n",
              "                        [-0.0250, -0.0974, -0.0666],\n",
              "                        [-0.0720,  0.1017,  0.0383]],\n",
              "              \n",
              "                       [[-0.0320, -0.0935, -0.0844],\n",
              "                        [-0.0016, -0.0444, -0.0501],\n",
              "                        [-0.0346, -0.0331,  0.0726]],\n",
              "              \n",
              "                       [[ 0.0463,  0.0957,  0.0164],\n",
              "                        [ 0.0892, -0.0063, -0.0975],\n",
              "                        [-0.1025,  0.0723, -0.0097]],\n",
              "              \n",
              "                       [[-0.0254,  0.0122,  0.0346],\n",
              "                        [-0.1023,  0.0450,  0.0654],\n",
              "                        [-0.0065, -0.0889, -0.0339]]],\n",
              "              \n",
              "              \n",
              "                      [[[-0.0889,  0.0260,  0.0903],\n",
              "                        [-0.0743,  0.0326, -0.0464],\n",
              "                        [-0.0532, -0.1019,  0.0900]],\n",
              "              \n",
              "                       [[ 0.0831,  0.0469, -0.0163],\n",
              "                        [ 0.0256,  0.0513,  0.0253],\n",
              "                        [ 0.0240, -0.0108, -0.0646]],\n",
              "              \n",
              "                       [[-0.0568,  0.0650,  0.0898],\n",
              "                        [-0.0073,  0.0490, -0.0455],\n",
              "                        [-0.0756, -0.0452,  0.0756]],\n",
              "              \n",
              "                       [[ 0.0959, -0.0461, -0.0320],\n",
              "                        [-0.0971, -0.0492, -0.0244],\n",
              "                        [-0.0284, -0.0761,  0.0129]],\n",
              "              \n",
              "                       [[ 0.0425, -0.0974, -0.0976],\n",
              "                        [ 0.0314, -0.0320, -0.0647],\n",
              "                        [-0.0023,  0.0450, -0.0544]],\n",
              "              \n",
              "                       [[ 0.0666,  0.0217,  0.0956],\n",
              "                        [ 0.0651,  0.0642, -0.0903],\n",
              "                        [-0.0090,  0.0166,  0.0050]],\n",
              "              \n",
              "                       [[-0.0984,  0.0881,  0.0451],\n",
              "                        [-0.0069,  0.0218,  0.0775],\n",
              "                        [-0.0140,  0.0905, -0.0022]],\n",
              "              \n",
              "                       [[-0.0205,  0.0732, -0.0542],\n",
              "                        [ 0.0819,  0.0567, -0.0554],\n",
              "                        [ 0.0879, -0.0630, -0.0231]],\n",
              "              \n",
              "                       [[-0.0347, -0.0871,  0.0529],\n",
              "                        [-0.1016, -0.0794,  0.0215],\n",
              "                        [ 0.0528, -0.0681, -0.0565]],\n",
              "              \n",
              "                       [[ 0.0885,  0.0361,  0.0899],\n",
              "                        [-0.0887,  0.0037, -0.0964],\n",
              "                        [-0.0071,  0.0882, -0.0829]]],\n",
              "              \n",
              "              \n",
              "                      [[[ 0.0954, -0.0489,  0.0972],\n",
              "                        [-0.0055, -0.0264, -0.0811],\n",
              "                        [ 0.0192, -0.0232,  0.0268]],\n",
              "              \n",
              "                       [[ 0.0724,  0.0287,  0.0195],\n",
              "                        [ 0.0983,  0.0528,  0.0795],\n",
              "                        [-0.1007, -0.0927,  0.0123]],\n",
              "              \n",
              "                       [[-0.0471,  0.0071,  0.0176],\n",
              "                        [ 0.0978, -0.0044, -0.0814],\n",
              "                        [ 0.0201,  0.0673,  0.0799]],\n",
              "              \n",
              "                       [[ 0.0754, -0.0817, -0.0859],\n",
              "                        [ 0.0435, -0.0204,  0.0346],\n",
              "                        [-0.0006, -0.0229,  0.0049]],\n",
              "              \n",
              "                       [[-0.0129, -0.0180, -0.0680],\n",
              "                        [ 0.0281, -0.0722,  0.0835],\n",
              "                        [-0.0616,  0.0390, -0.0915]],\n",
              "              \n",
              "                       [[-0.0915, -0.0361, -0.0766],\n",
              "                        [ 0.0835,  0.0599, -0.0084],\n",
              "                        [ 0.0538,  0.0409,  0.0165]],\n",
              "              \n",
              "                       [[ 0.0418,  0.0535,  0.0539],\n",
              "                        [ 0.0733,  0.0222, -0.0279],\n",
              "                        [ 0.0534,  0.0276,  0.0028]],\n",
              "              \n",
              "                       [[ 0.0765,  0.0689,  0.0624],\n",
              "                        [ 0.0801,  0.0804,  0.0520],\n",
              "                        [-0.0659, -0.0169, -0.0460]],\n",
              "              \n",
              "                       [[-0.1038, -0.0060,  0.1002],\n",
              "                        [ 0.0476,  0.0821, -0.0183],\n",
              "                        [-0.0070, -0.0610,  0.0346]],\n",
              "              \n",
              "                       [[ 0.0221, -0.0509, -0.0047],\n",
              "                        [-0.0926, -0.0272,  0.0141],\n",
              "                        [-0.0083, -0.0638,  0.0384]]],\n",
              "              \n",
              "              \n",
              "                      [[[-0.0508,  0.0693,  0.0531],\n",
              "                        [-0.0691,  0.0940,  0.0332],\n",
              "                        [-0.0619,  0.0954,  0.0058]],\n",
              "              \n",
              "                       [[ 0.0430, -0.0753, -0.0914],\n",
              "                        [ 0.0679, -0.0826, -0.0067],\n",
              "                        [-0.0398,  0.0631, -0.0700]],\n",
              "              \n",
              "                       [[-0.0487,  0.0113,  0.0468],\n",
              "                        [-0.1011, -0.0095, -0.0728],\n",
              "                        [ 0.0252,  0.0619,  0.0050]],\n",
              "              \n",
              "                       [[ 0.1007, -0.0169,  0.0256],\n",
              "                        [ 0.0432, -0.0024,  0.0822],\n",
              "                        [-0.0587,  0.0604, -0.0371]],\n",
              "              \n",
              "                       [[-0.0433,  0.0048,  0.0138],\n",
              "                        [ 0.0608,  0.0715, -0.0426],\n",
              "                        [-0.0311, -0.0147, -0.0520]],\n",
              "              \n",
              "                       [[ 0.0671,  0.0398, -0.0405],\n",
              "                        [ 0.0917,  0.0997,  0.0793],\n",
              "                        [-0.0541,  0.0578, -0.1047]],\n",
              "              \n",
              "                       [[-0.0351, -0.0396,  0.0505],\n",
              "                        [-0.0184,  0.0953,  0.0160],\n",
              "                        [-0.1011, -0.0852, -0.0313]],\n",
              "              \n",
              "                       [[-0.0734, -0.0697,  0.0460],\n",
              "                        [-0.0484, -0.1018,  0.0722],\n",
              "                        [-0.0971,  0.0128,  0.0708]],\n",
              "              \n",
              "                       [[ 0.0215, -0.0243,  0.0882],\n",
              "                        [-0.0459, -0.0910, -0.0066],\n",
              "                        [-0.0754, -0.0340,  0.0276]],\n",
              "              \n",
              "                       [[-0.0368, -0.0662, -0.0436],\n",
              "                        [-0.0225, -0.0287,  0.0786],\n",
              "                        [ 0.0611, -0.0757, -0.0571]]],\n",
              "              \n",
              "              \n",
              "                      [[[-0.0468,  0.0061,  0.0301],\n",
              "                        [-0.0187, -0.0321,  0.0355],\n",
              "                        [ 0.0082, -0.0142, -0.0445]],\n",
              "              \n",
              "                       [[-0.0980, -0.1002,  0.0887],\n",
              "                        [ 0.0205, -0.0323,  0.0013],\n",
              "                        [-0.0275,  0.0750, -0.0011]],\n",
              "              \n",
              "                       [[-0.1025,  0.0978,  0.0054],\n",
              "                        [ 0.0860,  0.0274, -0.0633],\n",
              "                        [-0.0818, -0.0931, -0.0259]],\n",
              "              \n",
              "                       [[ 0.0578, -0.0969, -0.0262],\n",
              "                        [ 0.0731, -0.0666, -0.0413],\n",
              "                        [ 0.0446, -0.0107, -0.0115]],\n",
              "              \n",
              "                       [[ 0.0894,  0.0094, -0.0664],\n",
              "                        [-0.0728, -0.0320,  0.0836],\n",
              "                        [ 0.0588,  0.0155,  0.0257]],\n",
              "              \n",
              "                       [[ 0.0790, -0.0817, -0.0761],\n",
              "                        [-0.0176, -0.0981, -0.0411],\n",
              "                        [ 0.0243,  0.0590,  0.0267]],\n",
              "              \n",
              "                       [[ 0.0322,  0.0392, -0.0135],\n",
              "                        [-0.0911, -0.0808,  0.0108],\n",
              "                        [-0.0407,  0.0056, -0.0808]],\n",
              "              \n",
              "                       [[ 0.0159, -0.0679, -0.0851],\n",
              "                        [-0.0410, -0.0565,  0.0144],\n",
              "                        [ 0.0697, -0.0777,  0.0127]],\n",
              "              \n",
              "                       [[-0.0328,  0.0864, -0.0402],\n",
              "                        [-0.0976,  0.0789,  0.0476],\n",
              "                        [ 0.0085,  0.0115, -0.0522]],\n",
              "              \n",
              "                       [[ 0.0769, -0.0378,  0.0795],\n",
              "                        [ 0.1000,  0.0306,  0.0477],\n",
              "                        [ 0.0894,  0.0350, -0.0995]]],\n",
              "              \n",
              "              \n",
              "                      [[[ 0.0885, -0.0466,  0.0795],\n",
              "                        [ 0.0081, -0.0464, -0.0489],\n",
              "                        [ 0.0788,  0.0333,  0.0334]],\n",
              "              \n",
              "                       [[-0.0750, -0.0552,  0.0737],\n",
              "                        [-0.0642,  0.0241,  0.0278],\n",
              "                        [-0.0287, -0.0007,  0.0647]],\n",
              "              \n",
              "                       [[ 0.0211, -0.0645,  0.0924],\n",
              "                        [-0.0838,  0.0839,  0.0780],\n",
              "                        [-0.0968, -0.0803,  0.1007]],\n",
              "              \n",
              "                       [[-0.0480, -0.0464,  0.0114],\n",
              "                        [-0.0684, -0.0908,  0.0817],\n",
              "                        [ 0.0456, -0.0682,  0.0412]],\n",
              "              \n",
              "                       [[-0.0287,  0.0464,  0.0187],\n",
              "                        [-0.0112,  0.0151,  0.0679],\n",
              "                        [-0.0672,  0.0027, -0.0781]],\n",
              "              \n",
              "                       [[-0.0002, -0.0317,  0.0715],\n",
              "                        [-0.0437,  0.0197, -0.0572],\n",
              "                        [ 0.0129,  0.0209, -0.0417]],\n",
              "              \n",
              "                       [[ 0.0141,  0.0371,  0.0345],\n",
              "                        [-0.0633, -0.0540, -0.0459],\n",
              "                        [-0.0975, -0.0217, -0.0997]],\n",
              "              \n",
              "                       [[-0.0864,  0.0301, -0.0919],\n",
              "                        [ 0.0893, -0.0623,  0.0968],\n",
              "                        [-0.0562,  0.0599,  0.0208]],\n",
              "              \n",
              "                       [[-0.0493, -0.0348,  0.0690],\n",
              "                        [-0.0581, -0.0894, -0.0650],\n",
              "                        [-0.0380,  0.0455, -0.0085]],\n",
              "              \n",
              "                       [[ 0.0541, -0.0226, -0.0542],\n",
              "                        [-0.0609, -0.0513,  0.0842],\n",
              "                        [-0.0604,  0.0117,  0.0313]]],\n",
              "              \n",
              "              \n",
              "                      [[[-0.0547,  0.0623,  0.0715],\n",
              "                        [ 0.0893,  0.0969, -0.0195],\n",
              "                        [ 0.0206, -0.0958, -0.0588]],\n",
              "              \n",
              "                       [[ 0.0721, -0.0064,  0.0136],\n",
              "                        [ 0.0440, -0.0277,  0.0151],\n",
              "                        [ 0.0137, -0.0650, -0.0247]],\n",
              "              \n",
              "                       [[ 0.0291,  0.0134, -0.0270],\n",
              "                        [-0.0518,  0.0784,  0.0366],\n",
              "                        [-0.0955, -0.0202,  0.0425]],\n",
              "              \n",
              "                       [[-0.0131, -0.0558, -0.0459],\n",
              "                        [ 0.0120,  0.0472, -0.0456],\n",
              "                        [ 0.0139, -0.0872,  0.0929]],\n",
              "              \n",
              "                       [[ 0.0965, -0.0953, -0.0620],\n",
              "                        [-0.0266,  0.0084, -0.0830],\n",
              "                        [ 0.0076, -0.0265, -0.1053]],\n",
              "              \n",
              "                       [[ 0.0908, -0.0005,  0.0228],\n",
              "                        [ 0.0012, -0.0337,  0.0146],\n",
              "                        [ 0.1039,  0.0948,  0.0995]],\n",
              "              \n",
              "                       [[-0.0549, -0.0127,  0.0120],\n",
              "                        [-0.0217,  0.0682, -0.0077],\n",
              "                        [-0.1050,  0.0144, -0.0967]],\n",
              "              \n",
              "                       [[-0.0433, -0.0442,  0.0085],\n",
              "                        [-0.0485,  0.0481, -0.0357],\n",
              "                        [ 0.0263,  0.0606,  0.0188]],\n",
              "              \n",
              "                       [[-0.0186,  0.1043,  0.0777],\n",
              "                        [-0.0413,  0.0295, -0.0440],\n",
              "                        [-0.0868, -0.0795,  0.0226]],\n",
              "              \n",
              "                       [[ 0.0855, -0.1018,  0.0303],\n",
              "                        [ 0.0325,  0.0260, -0.0115],\n",
              "                        [-0.0488, -0.0048, -0.0994]]]], device='cuda:0')),\n",
              "             ('conv_block_2.0.bias',\n",
              "              tensor([-0.0876, -0.0241,  0.0116, -0.0739,  0.0275,  0.0430, -0.0305, -0.0268,\n",
              "                       0.0729,  0.1003], device='cuda:0')),\n",
              "             ('conv_block_2.2.weight',\n",
              "              tensor([[[[ 1.0111e-01,  2.4650e-02, -6.7811e-02],\n",
              "                        [-1.5800e-02,  7.8427e-02,  1.3942e-02],\n",
              "                        [-4.0728e-02, -5.0813e-02,  2.3912e-02]],\n",
              "              \n",
              "                       [[-7.9575e-04,  8.6435e-02,  4.2208e-02],\n",
              "                        [-3.0060e-02,  4.5865e-05, -1.8916e-02],\n",
              "                        [-4.8075e-02,  1.4826e-02,  1.6420e-02]],\n",
              "              \n",
              "                       [[ 5.8244e-02,  7.0473e-02,  9.2051e-02],\n",
              "                        [-7.7947e-02, -2.5240e-02,  1.0398e-01],\n",
              "                        [ 3.4580e-02, -1.0282e-01,  6.5314e-02]],\n",
              "              \n",
              "                       [[-1.0184e-01, -3.0002e-02, -2.6733e-02],\n",
              "                        [ 1.0470e-01,  4.9430e-02, -3.6746e-02],\n",
              "                        [ 4.4315e-02,  7.4445e-02, -7.1159e-02]],\n",
              "              \n",
              "                       [[-4.5751e-02,  1.9957e-02,  4.4758e-02],\n",
              "                        [-6.1479e-02, -3.8090e-02, -7.9399e-02],\n",
              "                        [-6.3351e-02,  7.1936e-02,  8.2131e-03]],\n",
              "              \n",
              "                       [[-1.6782e-02, -2.6545e-02,  2.9854e-02],\n",
              "                        [-5.9566e-02, -3.3012e-02,  1.8180e-02],\n",
              "                        [ 6.9423e-02, -1.5662e-02,  5.0764e-02]],\n",
              "              \n",
              "                       [[ 2.8386e-02, -9.5878e-02, -6.8754e-02],\n",
              "                        [-7.7083e-02, -7.4799e-02, -3.8082e-03],\n",
              "                        [ 9.1083e-02,  4.6407e-02,  3.2236e-02]],\n",
              "              \n",
              "                       [[ 5.1501e-02,  3.2044e-02,  8.4453e-02],\n",
              "                        [ 1.8204e-02, -3.1771e-02, -8.0528e-02],\n",
              "                        [-5.3781e-02, -6.4374e-02, -1.1947e-02]],\n",
              "              \n",
              "                       [[-1.3759e-02,  1.0339e-01, -5.7142e-02],\n",
              "                        [-3.2062e-02, -9.4353e-02,  1.1293e-02],\n",
              "                        [ 1.4184e-02,  7.9652e-02,  4.1473e-02]],\n",
              "              \n",
              "                       [[-1.0351e-01,  9.5886e-02, -5.8168e-02],\n",
              "                        [ 3.0695e-02, -9.9794e-02, -3.3734e-02],\n",
              "                        [ 9.7209e-02,  4.1575e-02, -7.3468e-02]]],\n",
              "              \n",
              "              \n",
              "                      [[[ 4.8763e-02, -7.4347e-02,  4.6955e-03],\n",
              "                        [ 6.9420e-02, -7.1543e-02,  1.8572e-02],\n",
              "                        [ 8.2324e-02,  5.2807e-03,  6.0937e-02]],\n",
              "              \n",
              "                       [[-7.3743e-02,  6.3818e-02, -3.1280e-02],\n",
              "                        [-4.3248e-02, -1.6593e-02,  7.6535e-02],\n",
              "                        [ 5.8798e-02, -2.0229e-02, -7.4068e-02]],\n",
              "              \n",
              "                       [[-9.2065e-02,  2.4554e-02,  2.8228e-02],\n",
              "                        [ 5.8257e-02,  6.4456e-02,  6.2218e-02],\n",
              "                        [ 7.0850e-02,  9.6785e-02,  5.1462e-02]],\n",
              "              \n",
              "                       [[ 7.9954e-02, -9.7475e-02, -9.7782e-02],\n",
              "                        [-2.5604e-02, -7.3177e-02, -1.5047e-02],\n",
              "                        [ 7.8435e-02, -1.7236e-02, -1.2713e-02]],\n",
              "              \n",
              "                       [[ 4.5486e-02,  8.8953e-02, -8.6883e-03],\n",
              "                        [-5.2248e-02, -4.7341e-02,  3.2384e-03],\n",
              "                        [ 1.3121e-02,  8.6292e-02, -8.5982e-02]],\n",
              "              \n",
              "                       [[ 7.6782e-02,  7.9632e-02, -3.6293e-02],\n",
              "                        [ 4.4000e-02, -7.8609e-02,  3.7619e-02],\n",
              "                        [ 6.8782e-02,  1.0351e-01,  6.5738e-02]],\n",
              "              \n",
              "                       [[ 9.7786e-02, -1.2258e-02,  4.7093e-02],\n",
              "                        [-1.7108e-02, -7.4151e-02,  9.4917e-02],\n",
              "                        [-3.0253e-02,  5.8042e-02,  5.7946e-02]],\n",
              "              \n",
              "                       [[-4.8581e-02,  3.4913e-02,  8.5321e-02],\n",
              "                        [-6.4282e-02, -1.0251e-03,  1.7679e-02],\n",
              "                        [-8.3937e-02,  8.4873e-02, -5.6940e-02]],\n",
              "              \n",
              "                       [[ 6.8312e-03, -6.2850e-02, -4.8221e-03],\n",
              "                        [-9.2793e-02, -8.8005e-03, -7.9358e-02],\n",
              "                        [-1.7589e-02, -6.7796e-02,  6.7956e-02]],\n",
              "              \n",
              "                       [[-6.9153e-02,  1.5599e-03, -8.7331e-02],\n",
              "                        [-1.0055e-02,  6.2303e-02, -7.3987e-02],\n",
              "                        [ 3.5881e-02,  1.0068e-01, -5.1247e-02]]],\n",
              "              \n",
              "              \n",
              "                      [[[ 5.9178e-02, -2.2812e-02, -6.4581e-02],\n",
              "                        [ 9.6758e-02,  8.3500e-02,  8.0678e-02],\n",
              "                        [ 6.4511e-02, -5.0978e-02, -6.0363e-02]],\n",
              "              \n",
              "                       [[-2.1444e-02, -2.9554e-02,  5.0503e-02],\n",
              "                        [ 1.3587e-02, -6.3411e-02,  8.5334e-02],\n",
              "                        [-7.0734e-02, -4.5380e-02, -6.8070e-02]],\n",
              "              \n",
              "                       [[-1.1774e-02,  1.5442e-02,  3.6690e-02],\n",
              "                        [ 8.7720e-02,  5.3699e-02,  7.7779e-02],\n",
              "                        [-6.2796e-02, -6.0032e-02,  6.1601e-02]],\n",
              "              \n",
              "                       [[ 8.9398e-02, -3.1731e-02, -5.1522e-02],\n",
              "                        [-2.5563e-02, -2.2049e-02,  4.5418e-02],\n",
              "                        [ 3.2161e-02, -7.5518e-02, -2.2848e-02]],\n",
              "              \n",
              "                       [[ 9.2058e-02, -2.2071e-02,  4.3476e-02],\n",
              "                        [ 8.9388e-03, -2.3788e-02,  4.3971e-02],\n",
              "                        [ 2.6880e-02, -8.9896e-02, -5.8981e-02]],\n",
              "              \n",
              "                       [[ 6.2452e-02,  5.8484e-02,  1.0333e-01],\n",
              "                        [ 7.1958e-02,  9.7436e-02, -2.7987e-02],\n",
              "                        [ 9.4584e-02,  6.2598e-02,  5.6631e-02]],\n",
              "              \n",
              "                       [[ 6.6125e-03, -7.0714e-02, -1.0214e-01],\n",
              "                        [ 1.2201e-02,  2.3293e-02, -9.4231e-02],\n",
              "                        [ 1.4408e-02, -9.9800e-02,  1.1836e-02]],\n",
              "              \n",
              "                       [[-1.0500e-01,  9.0485e-03, -2.5116e-02],\n",
              "                        [ 7.2850e-02, -9.8651e-02,  1.0528e-01],\n",
              "                        [-1.0415e-01, -5.9340e-02, -8.5180e-02]],\n",
              "              \n",
              "                       [[ 4.3020e-02,  4.6030e-02,  1.0065e-01],\n",
              "                        [ 9.7514e-02, -6.9649e-02, -4.5217e-02],\n",
              "                        [-5.6257e-02, -4.2010e-02, -1.0420e-01]],\n",
              "              \n",
              "                       [[ 1.2173e-02,  7.2856e-02, -3.8806e-02],\n",
              "                        [ 3.0229e-03, -6.7253e-02, -2.9105e-02],\n",
              "                        [ 1.0421e-02,  4.7521e-02, -1.5477e-02]]],\n",
              "              \n",
              "              \n",
              "                      [[[ 6.8675e-03, -8.6399e-02, -1.3432e-02],\n",
              "                        [-4.8128e-02, -7.1208e-03, -7.3102e-02],\n",
              "                        [ 7.8528e-02,  3.0393e-02,  6.5223e-02]],\n",
              "              \n",
              "                       [[-7.0105e-02,  2.4800e-02, -8.0192e-02],\n",
              "                        [-5.3359e-02,  7.9120e-02, -7.9942e-02],\n",
              "                        [ 7.3268e-02,  1.4052e-02, -7.0667e-02]],\n",
              "              \n",
              "                       [[-3.9444e-02, -1.9423e-02, -6.9154e-02],\n",
              "                        [-3.1494e-02, -4.1373e-02, -4.5513e-02],\n",
              "                        [-3.9842e-03,  3.0096e-02, -1.1423e-02]],\n",
              "              \n",
              "                       [[-2.0047e-02, -4.9693e-02,  5.2359e-02],\n",
              "                        [-5.0152e-02, -4.4050e-02,  2.6696e-02],\n",
              "                        [ 1.8805e-02,  7.2023e-02, -2.8621e-02]],\n",
              "              \n",
              "                       [[-9.5867e-02,  2.9752e-02, -5.6266e-02],\n",
              "                        [ 7.9620e-02, -7.3305e-02, -8.5239e-03],\n",
              "                        [-9.5584e-02,  1.1922e-02,  6.2623e-02]],\n",
              "              \n",
              "                       [[-3.6535e-02,  1.6278e-02,  8.6351e-02],\n",
              "                        [ 3.1176e-02, -6.1253e-02, -1.1076e-02],\n",
              "                        [ 4.2755e-04, -9.2048e-02, -2.0685e-02]],\n",
              "              \n",
              "                       [[ 9.2621e-02, -4.5413e-02, -3.3090e-02],\n",
              "                        [-2.8707e-02,  5.5901e-02,  9.7053e-02],\n",
              "                        [ 9.0094e-02, -3.4052e-02,  8.7710e-02]],\n",
              "              \n",
              "                       [[-7.4491e-02,  7.3065e-02,  8.5280e-02],\n",
              "                        [-6.0877e-02, -6.5429e-02, -6.5538e-02],\n",
              "                        [-5.4281e-03, -3.3220e-02, -3.1327e-02]],\n",
              "              \n",
              "                       [[ 9.7926e-02, -1.0262e-01, -4.0132e-02],\n",
              "                        [ 5.9762e-03,  1.1237e-02,  9.1413e-02],\n",
              "                        [-2.1244e-02,  8.8395e-02, -6.8319e-02]],\n",
              "              \n",
              "                       [[-3.7391e-03,  9.4692e-02,  6.7637e-02],\n",
              "                        [-5.9585e-02,  7.3159e-02, -2.2435e-02],\n",
              "                        [-8.7825e-02,  9.1339e-02,  5.2751e-02]]],\n",
              "              \n",
              "              \n",
              "                      [[[ 7.7605e-02,  1.2826e-02, -8.5226e-02],\n",
              "                        [ 5.0183e-02, -4.2951e-02,  5.9860e-02],\n",
              "                        [-9.9382e-02,  1.2094e-02,  8.2977e-02]],\n",
              "              \n",
              "                       [[ 2.1549e-02, -1.9640e-02, -1.2874e-03],\n",
              "                        [ 3.4373e-02, -7.3075e-02,  2.1239e-02],\n",
              "                        [-2.9554e-02, -3.4388e-02, -5.2238e-02]],\n",
              "              \n",
              "                       [[ 3.9116e-02,  6.2443e-02,  2.6458e-02],\n",
              "                        [ 9.5863e-02,  4.6561e-03,  6.8403e-03],\n",
              "                        [-3.1149e-02, -8.1982e-02, -1.0167e-01]],\n",
              "              \n",
              "                       [[-6.0798e-02,  9.5835e-02,  3.6473e-02],\n",
              "                        [ 7.6623e-02, -2.6122e-02,  6.8425e-02],\n",
              "                        [ 4.3097e-02, -5.1864e-02,  2.0516e-03]],\n",
              "              \n",
              "                       [[ 8.7070e-02,  6.2827e-02, -1.0056e-01],\n",
              "                        [ 8.9591e-02,  5.5004e-02, -8.0609e-02],\n",
              "                        [ 7.7244e-02,  1.2916e-03, -1.0293e-01]],\n",
              "              \n",
              "                       [[ 2.2993e-02,  2.4046e-02,  3.8125e-03],\n",
              "                        [ 8.0258e-02, -1.0521e-01, -7.1502e-02],\n",
              "                        [ 5.7666e-02, -1.6054e-02,  4.4939e-02]],\n",
              "              \n",
              "                       [[ 3.2885e-02,  8.6776e-02, -1.9783e-02],\n",
              "                        [ 1.8297e-02, -8.1180e-02,  5.7827e-02],\n",
              "                        [-8.2824e-02,  1.7354e-02, -8.1010e-02]],\n",
              "              \n",
              "                       [[-4.2994e-02, -8.8160e-02, -8.9100e-02],\n",
              "                        [ 6.9500e-02, -1.5951e-02, -6.5542e-02],\n",
              "                        [ 9.8593e-02,  6.6947e-02,  5.6507e-02]],\n",
              "              \n",
              "                       [[-9.3106e-02, -3.9904e-03,  9.9842e-02],\n",
              "                        [ 5.4634e-02, -7.3548e-02, -8.6069e-02],\n",
              "                        [ 6.7702e-02, -5.5665e-02,  3.6964e-02]],\n",
              "              \n",
              "                       [[ 9.9897e-02,  9.9698e-02, -8.1301e-02],\n",
              "                        [-1.4075e-03, -1.6031e-02,  5.0061e-03],\n",
              "                        [ 3.6249e-02, -7.3158e-03,  6.8005e-02]]],\n",
              "              \n",
              "              \n",
              "                      [[[-3.0699e-02,  9.6252e-02,  8.6011e-02],\n",
              "                        [ 9.3826e-02,  3.0757e-02, -1.0082e-01],\n",
              "                        [-3.6705e-02, -6.6985e-02,  6.9871e-02]],\n",
              "              \n",
              "                       [[ 1.6785e-02,  5.6143e-03, -1.0063e-01],\n",
              "                        [-8.4402e-02,  4.3662e-02,  3.2673e-02],\n",
              "                        [-1.1131e-02,  7.0346e-02,  3.0633e-02]],\n",
              "              \n",
              "                       [[ 1.8698e-02,  1.8098e-02,  2.0756e-02],\n",
              "                        [ 3.5583e-02, -3.8053e-02,  5.4790e-02],\n",
              "                        [ 3.5010e-02, -8.7521e-02, -6.4909e-02]],\n",
              "              \n",
              "                       [[-9.1173e-02, -1.3877e-02,  2.1122e-02],\n",
              "                        [-2.2927e-02, -7.0201e-03, -3.2643e-02],\n",
              "                        [-3.7016e-02,  2.0546e-02, -7.5177e-02]],\n",
              "              \n",
              "                       [[ 9.7943e-02, -9.6240e-02, -8.9278e-02],\n",
              "                        [-8.8451e-02, -3.0165e-02, -3.3393e-03],\n",
              "                        [-5.6920e-02, -3.2108e-02,  1.9697e-02]],\n",
              "              \n",
              "                       [[ 3.2619e-02,  1.9005e-02,  2.1703e-02],\n",
              "                        [ 1.2437e-02, -5.0501e-02, -9.2787e-03],\n",
              "                        [ 2.4479e-02, -1.0079e-01, -5.7372e-02]],\n",
              "              \n",
              "                       [[-1.9122e-02,  7.4649e-02, -5.7420e-02],\n",
              "                        [-7.3950e-02,  9.9642e-02,  9.3861e-02],\n",
              "                        [ 3.4659e-03, -1.3573e-02, -6.8175e-02]],\n",
              "              \n",
              "                       [[ 4.9474e-02, -8.4524e-04, -7.1427e-02],\n",
              "                        [ 1.4612e-02,  3.2733e-02,  4.2377e-03],\n",
              "                        [ 7.6477e-02,  4.0568e-02, -7.9719e-02]],\n",
              "              \n",
              "                       [[ 4.6046e-02,  7.0170e-02,  2.3561e-02],\n",
              "                        [ 1.0175e-01, -1.0474e-01,  9.0306e-02],\n",
              "                        [ 5.5228e-02, -6.8679e-02, -1.9619e-02]],\n",
              "              \n",
              "                       [[ 7.5891e-02,  4.5478e-02, -6.8805e-02],\n",
              "                        [-9.2184e-02,  5.3125e-02, -4.6983e-02],\n",
              "                        [ 2.8299e-02,  7.7506e-02, -6.1005e-02]]],\n",
              "              \n",
              "              \n",
              "                      [[[ 4.0545e-02,  7.3445e-02, -6.6829e-03],\n",
              "                        [ 3.5231e-02, -2.1264e-02, -2.7169e-02],\n",
              "                        [-2.9662e-02, -2.0958e-02,  9.7113e-02]],\n",
              "              \n",
              "                       [[-5.1439e-02, -4.0558e-02,  5.6021e-02],\n",
              "                        [-9.7195e-02, -4.2415e-02, -6.0774e-02],\n",
              "                        [ 1.0503e-01,  4.5900e-03, -3.7408e-02]],\n",
              "              \n",
              "                       [[-4.3158e-02, -3.4707e-02,  3.0240e-02],\n",
              "                        [ 1.0148e-01, -2.6755e-02, -1.6199e-02],\n",
              "                        [-6.3474e-02, -7.2716e-02,  1.6512e-02]],\n",
              "              \n",
              "                       [[ 9.9001e-02,  1.9613e-02, -8.4885e-02],\n",
              "                        [-1.0332e-01, -8.7270e-02, -7.3033e-03],\n",
              "                        [-4.9005e-02, -9.6436e-02,  6.7137e-02]],\n",
              "              \n",
              "                       [[ 9.6239e-02, -2.2676e-02, -2.5168e-02],\n",
              "                        [ 1.0032e-01,  3.9953e-02,  7.8385e-03],\n",
              "                        [-6.4289e-03,  5.3025e-02, -7.4331e-02]],\n",
              "              \n",
              "                       [[-4.6392e-02,  5.5240e-02,  1.1193e-03],\n",
              "                        [ 7.9598e-02,  8.0709e-02,  8.3427e-02],\n",
              "                        [ 3.2803e-02, -3.7738e-02,  6.0534e-02]],\n",
              "              \n",
              "                       [[-8.0461e-03,  8.3128e-02, -4.2292e-02],\n",
              "                        [ 4.5933e-02, -3.9096e-02, -1.0438e-01],\n",
              "                        [ 1.3171e-02,  1.8607e-02, -9.0524e-02]],\n",
              "              \n",
              "                       [[ 2.2510e-02,  3.7303e-02,  9.5321e-02],\n",
              "                        [ 4.8489e-02,  1.2293e-02, -7.5122e-02],\n",
              "                        [ 4.5234e-02,  3.3761e-02, -9.5245e-02]],\n",
              "              \n",
              "                       [[-5.8865e-02,  4.5135e-02,  4.0616e-02],\n",
              "                        [-9.2621e-03, -4.5202e-02,  9.5833e-03],\n",
              "                        [-9.0281e-02,  9.1112e-02,  4.7636e-02]],\n",
              "              \n",
              "                       [[-5.9254e-02,  9.0417e-02,  3.0048e-02],\n",
              "                        [-6.9621e-02, -1.6455e-02,  1.0243e-01],\n",
              "                        [ 9.8479e-02, -1.5222e-02, -3.6841e-02]]],\n",
              "              \n",
              "              \n",
              "                      [[[-5.1154e-02, -5.9343e-02,  8.8157e-02],\n",
              "                        [-5.0270e-02, -5.2410e-02, -8.3390e-02],\n",
              "                        [-6.6036e-02,  7.3302e-02,  1.2120e-02]],\n",
              "              \n",
              "                       [[ 4.1992e-02,  8.4085e-02, -3.7821e-02],\n",
              "                        [ 7.6962e-02, -3.5842e-02, -2.1787e-02],\n",
              "                        [-6.0261e-02, -8.2551e-02, -8.2610e-02]],\n",
              "              \n",
              "                       [[-2.0107e-02,  4.3895e-03,  6.8568e-02],\n",
              "                        [-9.2594e-03,  8.2303e-02,  8.4290e-02],\n",
              "                        [-6.2895e-02, -7.3547e-02,  6.5927e-02]],\n",
              "              \n",
              "                       [[ 7.1521e-02, -3.1801e-02, -2.4163e-02],\n",
              "                        [-7.2602e-02,  3.3881e-02, -9.3624e-02],\n",
              "                        [ 8.8921e-02,  3.4051e-02, -5.1485e-02]],\n",
              "              \n",
              "                       [[-1.1601e-03, -9.2100e-02,  6.1498e-02],\n",
              "                        [-4.6939e-02, -6.4069e-02, -1.3829e-02],\n",
              "                        [ 6.8207e-02, -6.2107e-02, -4.7417e-02]],\n",
              "              \n",
              "                       [[ 5.2925e-02, -6.1882e-02,  5.7355e-02],\n",
              "                        [-4.5585e-02, -7.4788e-02, -6.4108e-02],\n",
              "                        [ 3.3465e-02,  6.0025e-02,  4.7343e-02]],\n",
              "              \n",
              "                       [[-2.4135e-02, -8.8773e-02,  2.9096e-02],\n",
              "                        [ 1.3584e-02, -3.6985e-02, -2.5827e-02],\n",
              "                        [-8.1925e-02,  7.9561e-02, -5.2534e-02]],\n",
              "              \n",
              "                       [[ 1.4838e-02,  3.9151e-02,  5.8928e-02],\n",
              "                        [ 2.2441e-02, -9.4602e-02,  2.7107e-02],\n",
              "                        [-1.4421e-02,  6.5634e-02,  8.8498e-02]],\n",
              "              \n",
              "                       [[-1.6386e-02,  5.7596e-02, -8.1901e-02],\n",
              "                        [ 7.4581e-02,  3.9730e-02, -5.4439e-02],\n",
              "                        [ 8.4793e-02, -6.3845e-02, -1.3034e-02]],\n",
              "              \n",
              "                       [[ 4.0212e-02, -8.6411e-02,  9.9952e-02],\n",
              "                        [ 4.5622e-02, -8.4813e-02,  1.0497e-02],\n",
              "                        [ 8.6640e-02, -7.8828e-02,  5.9717e-02]]],\n",
              "              \n",
              "              \n",
              "                      [[[ 3.4265e-02, -8.8382e-02,  5.7909e-02],\n",
              "                        [ 4.0296e-02, -9.4067e-02, -5.5478e-02],\n",
              "                        [-2.2937e-02, -4.0779e-02,  5.2739e-02]],\n",
              "              \n",
              "                       [[ 4.6716e-02, -1.1141e-02, -7.4288e-02],\n",
              "                        [ 6.7789e-03,  3.7206e-02,  3.7649e-02],\n",
              "                        [-1.7236e-02, -4.5413e-04,  2.3727e-02]],\n",
              "              \n",
              "                       [[ 1.2251e-02,  6.4530e-02,  7.3844e-02],\n",
              "                        [ 9.1346e-02, -8.6347e-02,  4.9220e-02],\n",
              "                        [ 9.6451e-02, -6.5277e-02,  5.6701e-02]],\n",
              "              \n",
              "                       [[ 4.3348e-02, -1.8874e-02,  2.4543e-02],\n",
              "                        [-8.9748e-02,  6.8336e-02,  1.0031e-01],\n",
              "                        [-9.9449e-02,  2.8053e-02,  1.0047e-01]],\n",
              "              \n",
              "                       [[ 9.8013e-02,  9.4850e-02, -2.4071e-02],\n",
              "                        [ 4.4875e-02, -7.3928e-02,  4.5024e-02],\n",
              "                        [ 6.7541e-02,  5.2416e-03,  3.0130e-02]],\n",
              "              \n",
              "                       [[ 8.2162e-02,  9.9312e-04,  6.1844e-03],\n",
              "                        [-1.6734e-02, -4.4390e-02, -7.7504e-02],\n",
              "                        [-7.1710e-02,  2.2434e-02, -4.6055e-02]],\n",
              "              \n",
              "                       [[ 4.1590e-02,  1.0231e-01, -7.4547e-02],\n",
              "                        [ 1.2161e-02, -6.0793e-02, -8.6114e-02],\n",
              "                        [-6.3223e-02, -2.0996e-04,  9.4506e-02]],\n",
              "              \n",
              "                       [[-2.4464e-02, -8.8595e-02,  4.3205e-02],\n",
              "                        [-5.2327e-02, -6.1526e-02, -8.8868e-02],\n",
              "                        [ 1.0373e-01, -1.1437e-02, -2.2464e-02]],\n",
              "              \n",
              "                       [[-5.9440e-02, -5.0568e-02, -1.3043e-02],\n",
              "                        [ 7.6984e-02,  1.0449e-01, -3.1567e-02],\n",
              "                        [-4.2559e-02, -1.9524e-02,  5.3722e-03]],\n",
              "              \n",
              "                       [[-8.1149e-02,  8.7151e-02, -1.3516e-02],\n",
              "                        [ 2.4647e-02,  4.8073e-02, -9.0120e-02],\n",
              "                        [ 5.2562e-02,  3.8534e-03,  2.1714e-02]]],\n",
              "              \n",
              "              \n",
              "                      [[[ 9.6624e-02, -8.6635e-02, -1.0364e-01],\n",
              "                        [-1.0290e-01,  8.2703e-02, -8.1803e-02],\n",
              "                        [ 3.7692e-02,  5.1145e-02,  9.8558e-02]],\n",
              "              \n",
              "                       [[-6.1463e-03, -7.4425e-02,  6.8164e-02],\n",
              "                        [ 4.2033e-02, -4.1221e-02, -1.1952e-02],\n",
              "                        [-7.3515e-02, -5.5609e-02, -7.4834e-02]],\n",
              "              \n",
              "                       [[-1.5646e-02,  1.7247e-02,  7.1368e-02],\n",
              "                        [ 1.0294e-01,  9.4189e-02,  4.2224e-02],\n",
              "                        [-1.0441e-01, -5.3195e-02,  5.5013e-02]],\n",
              "              \n",
              "                       [[ 1.9256e-02, -1.0421e-01, -7.7214e-02],\n",
              "                        [-1.0143e-01,  1.0276e-01,  5.3462e-02],\n",
              "                        [ 4.6129e-02, -9.0782e-02, -2.1045e-02]],\n",
              "              \n",
              "                       [[ 6.2040e-02,  1.0275e-01, -6.0546e-02],\n",
              "                        [-2.0388e-03, -4.8901e-02, -5.5175e-02],\n",
              "                        [-6.7985e-02,  9.2237e-02,  8.8936e-02]],\n",
              "              \n",
              "                       [[-7.5680e-03,  3.0975e-02,  8.6398e-02],\n",
              "                        [-3.7486e-02, -3.0837e-02,  8.7873e-02],\n",
              "                        [ 4.3372e-02, -6.1635e-02, -5.5320e-02]],\n",
              "              \n",
              "                       [[-9.7353e-02, -1.5505e-02, -1.0288e-01],\n",
              "                        [ 2.9807e-02,  8.3679e-02, -1.0137e-01],\n",
              "                        [ 2.5173e-02,  9.6029e-02, -7.8868e-02]],\n",
              "              \n",
              "                       [[ 7.4703e-02,  5.5464e-02,  6.0135e-02],\n",
              "                        [-9.5934e-02,  3.6775e-03, -2.4217e-02],\n",
              "                        [-2.1473e-02,  9.4345e-02,  2.6535e-03]],\n",
              "              \n",
              "                       [[ 4.6799e-03,  7.1514e-02,  4.7449e-03],\n",
              "                        [-9.7420e-02,  8.6871e-02,  1.9607e-02],\n",
              "                        [-1.4455e-02, -1.2940e-02,  3.3386e-02]],\n",
              "              \n",
              "                       [[-4.3785e-02, -4.6089e-02, -3.4653e-02],\n",
              "                        [ 2.8291e-02,  9.7211e-04, -3.1303e-02],\n",
              "                        [-1.7040e-02, -6.6856e-02, -1.7230e-02]]]], device='cuda:0')),\n",
              "             ('conv_block_2.2.bias',\n",
              "              tensor([ 0.0426,  0.0592, -0.0806, -0.0537,  0.0657, -0.0608, -0.0388,  0.0677,\n",
              "                      -0.0063, -0.0399], device='cuda:0')),\n",
              "             ('classifier.1.weight',\n",
              "              tensor([[ 0.0010,  0.0158,  0.0290,  ...,  0.0103, -0.0090, -0.0257],\n",
              "                      [ 0.0050, -0.0185, -0.0015,  ..., -0.0349,  0.0134, -0.0418],\n",
              "                      [-0.0331,  0.0183,  0.0371,  ..., -0.0420, -0.0448, -0.0214],\n",
              "                      ...,\n",
              "                      [ 0.0206,  0.0026, -0.0382,  ...,  0.0405, -0.0055, -0.0089],\n",
              "                      [ 0.0045,  0.0388, -0.0423,  ..., -0.0084, -0.0088, -0.0370],\n",
              "                      [-0.0140, -0.0155, -0.0066,  ..., -0.0350,  0.0248,  0.0271]],\n",
              "                     device='cuda:0')),\n",
              "             ('classifier.1.bias',\n",
              "              tensor([ 0.0390,  0.0444, -0.0353, -0.0107,  0.0206, -0.0314, -0.0327, -0.0105,\n",
              "                       0.0352,  0.0147], device='cuda:0'))])"
            ]
          },
          "metadata": {},
          "execution_count": 16
        }
      ]
    },
    {
      "cell_type": "code",
      "source": [
        "# Try a dummy forward pass to see what shapes our data is\n",
        "dummy_x = torch.rand(size=(1, 28, 28)).unsqueeze(dim=0).to(device)\n",
        "dummy_x.shape\n",
        "model(dummy_x)"
      ],
      "metadata": {
        "colab": {
          "base_uri": "https://localhost:8080/"
        },
        "id": "OBun3uAVXj9n",
        "outputId": "2b03b6cf-fe6b-44b4-aaf8-5d6288e69cb2"
      },
      "execution_count": 17,
      "outputs": [
        {
          "output_type": "execute_result",
          "data": {
            "text/plain": [
              "tensor([[ 0.0598,  0.0114, -0.1057, -0.0005,  0.0062,  0.0161, -0.0552,  0.0345,\n",
              "          0.0112, -0.0045]], device='cuda:0', grad_fn=<AddmmBackward0>)"
            ]
          },
          "metadata": {},
          "execution_count": 17
        }
      ]
    },
    {
      "cell_type": "code",
      "source": [
        "dummy_x_2 = torch.rand(size=([1, 10, 7, 7]))\n",
        "dummy_x_2.shape"
      ],
      "metadata": {
        "colab": {
          "base_uri": "https://localhost:8080/"
        },
        "id": "oD_l3RYKXttc",
        "outputId": "ec463cb5-a392-43ad-ddba-de7cc98bcbf5"
      },
      "execution_count": 18,
      "outputs": [
        {
          "output_type": "execute_result",
          "data": {
            "text/plain": [
              "torch.Size([1, 10, 7, 7])"
            ]
          },
          "metadata": {},
          "execution_count": 18
        }
      ]
    },
    {
      "cell_type": "code",
      "source": [
        "flatten_layer = nn.Flatten()\n",
        "flatten_layer(dummy_x_2).shape"
      ],
      "metadata": {
        "colab": {
          "base_uri": "https://localhost:8080/"
        },
        "id": "cFQFfLKMX1Tl",
        "outputId": "b55f43df-eafe-4ff0-b89f-60f9e03b0ef9"
      },
      "execution_count": 19,
      "outputs": [
        {
          "output_type": "execute_result",
          "data": {
            "text/plain": [
              "torch.Size([1, 490])"
            ]
          },
          "metadata": {},
          "execution_count": 19
        }
      ]
    },
    {
      "cell_type": "markdown",
      "source": [
        "## 9. Train the model you built in exercise 8. for 5 epochs on CPU and GPU and see how long it takes on each."
      ],
      "metadata": {
        "id": "y5dlQkHtX9ao"
      }
    },
    {
      "cell_type": "code",
      "source": [
        "%%time\n",
        "from tqdm.auto import tqdm\n",
        "\n",
        "# Train on CPU\n",
        "model_cpu = FashionMNIST_modelV2(input_shape=1,\n",
        "                        hidden_units=10,\n",
        "                        output_shape=10).to(\"cpu\")\n",
        "\n",
        "# Create a loss function and optimizer\n",
        "loss_fn = nn.CrossEntropyLoss()\n",
        "optimizer = torch.optim.SGD(model_cpu.parameters(), lr=0.1)\n",
        "\n",
        "### Training loop\n",
        "epochs = 5\n",
        "for epoch in tqdm(range(epochs)):\n",
        "  train_loss = 0\n",
        "  for batch, (X, y) in enumerate(train_dataloader):\n",
        "    model_cpu.train()\n",
        "\n",
        "    # Put data on CPU\n",
        "    X, y = X.to(\"cpu\"), y.to(\"cpu\")\n",
        "\n",
        "    # Forward pass\n",
        "    y_pred = model_cpu(X)\n",
        "\n",
        "    # Loss calculation\n",
        "    loss = loss_fn(y_pred, y)\n",
        "    train_loss += loss\n",
        "\n",
        "    # Optimizer zero grad\n",
        "    optimizer.zero_grad()\n",
        "\n",
        "    # Loss backward\n",
        "    loss.backward()\n",
        "\n",
        "    # Step the optimizer\n",
        "    optimizer.step()\n",
        "\n",
        "  # Adjust train loss for number of batches\n",
        "  train_loss /= len(train_dataloader)\n",
        "\n",
        "  ### Testing loop\n",
        "  test_loss_total = 0\n",
        "\n",
        "  # Put model in eval mode\n",
        "  model_cpu.eval()\n",
        "\n",
        "  # Turn on inference mode\n",
        "  with torch.inference_mode():\n",
        "    for batch, (X_test, y_test) in enumerate(test_dataloader):\n",
        "      # Make sure test data on CPU\n",
        "      X_test, y_test = X_test.to(\"cpu\"), y_test.to(\"cpu\")\n",
        "      test_pred = model_cpu(X_test)\n",
        "      test_loss = loss_fn(test_pred, y_test)\n",
        "\n",
        "      test_loss_total += test_loss\n",
        "\n",
        "    test_loss_total /= len(test_dataloader)\n",
        "\n",
        "  # Print out what's happening\n",
        "  print(f\"Epoch: {epoch} | Loss: {train_loss:.3f} | Test loss: {test_loss_total:.3f}\")"
      ],
      "metadata": {
        "colab": {
          "base_uri": "https://localhost:8080/",
          "height": 171,
          "referenced_widgets": [
            "174d56fe612243edafbe103072fa7dc0",
            "b9de4857560241bc998cdca08c64fcaf",
            "d5cd5b09354f4a138b92ce62e8729e18",
            "c7816e9ba16a464ca151632c7ccb358c",
            "bce7bc960ba94cca8fdec371292d7bce",
            "cbe088774ce84321b143f5af99b7d555",
            "db0d3cb048624f19af4f766ea8079dfb",
            "0495f64ae0114b0c94ac155401102174",
            "a1ba4fc1ecda4f479344a18c1eef9979",
            "e79db0aee2d9491ba5164c21046f34d0",
            "5b8baf68d9694f5eade117bcccc320f5"
          ]
        },
        "id": "YdxySHa1X_0h",
        "outputId": "4059aa58-ee3d-4af9-b22c-4d51f2cc3632"
      },
      "execution_count": 20,
      "outputs": [
        {
          "output_type": "display_data",
          "data": {
            "text/plain": [
              "  0%|          | 0/5 [00:00<?, ?it/s]"
            ],
            "application/vnd.jupyter.widget-view+json": {
              "version_major": 2,
              "version_minor": 0,
              "model_id": "174d56fe612243edafbe103072fa7dc0"
            }
          },
          "metadata": {}
        },
        {
          "output_type": "stream",
          "name": "stdout",
          "text": [
            "Epoch: 0 | Loss: 0.684 | Test loss: 0.417\n",
            "Epoch: 1 | Loss: 0.379 | Test loss: 0.415\n",
            "Epoch: 2 | Loss: 0.338 | Test loss: 0.364\n",
            "Epoch: 3 | Loss: 0.318 | Test loss: 0.333\n",
            "Epoch: 4 | Loss: 0.306 | Test loss: 0.319\n",
            "CPU times: user 3min 31s, sys: 1.45 s, total: 3min 33s\n",
            "Wall time: 3min 33s\n"
          ]
        }
      ]
    },
    {
      "cell_type": "code",
      "source": [
        "%%time\n",
        "from tqdm.auto import tqdm\n",
        "\n",
        "device = \"cuda\" if torch.cuda.is_available() else \"cpu\"\n",
        "\n",
        "# Train on GPU\n",
        "model_gpu = FashionMNIST_modelV2(input_shape=1,\n",
        "                        hidden_units=10,\n",
        "                        output_shape=10).to(device)\n",
        "\n",
        "# Create a loss function and optimizer\n",
        "loss_fn = nn.CrossEntropyLoss()\n",
        "optimizer = torch.optim.SGD(model_gpu.parameters(), lr=0.1)\n",
        "\n",
        "# Training loop\n",
        "epochs = 5\n",
        "for epoch in tqdm(range(epochs)):\n",
        "  train_loss = 0\n",
        "  model_gpu.train()\n",
        "  for batch, (X, y) in enumerate(train_dataloader):\n",
        "    # Put data on target device\n",
        "    X, y = X.to(device), y.to(device)\n",
        "\n",
        "    # Forward pass\n",
        "    y_pred = model_gpu(X)\n",
        "\n",
        "    # Loss calculation\n",
        "    loss = loss_fn(y_pred, y)\n",
        "    train_loss += loss\n",
        "\n",
        "    # Optimizer zero grad\n",
        "    optimizer.zero_grad()\n",
        "\n",
        "    # Loss backward\n",
        "    loss.backward()\n",
        "\n",
        "    # Step the optimizer\n",
        "    optimizer.step()\n",
        "\n",
        "  # Adjust train loss to number of batches\n",
        "  train_loss /= len(train_dataloader)\n",
        "\n",
        "  ### Testing loop\n",
        "  test_loss_total = 0\n",
        "  # Put model in eval mode and turn on inference mode\n",
        "  model_gpu.eval()\n",
        "  with torch.inference_mode():\n",
        "    for batch, (X_test, y_test) in enumerate(test_dataloader):\n",
        "      # Make sure test data on target device\n",
        "      X_test, y_test = X_test.to(device), y_test.to(device)\n",
        "\n",
        "      test_pred = model_gpu(X_test)\n",
        "      test_loss = loss_fn(test_pred, y_test)\n",
        "\n",
        "      test_loss_total += test_loss\n",
        "\n",
        "    # Adjust test loss total for number of batches\n",
        "    test_loss_total /= len(test_dataloader)\n",
        "\n",
        "  # Print out what's happening\n",
        "  print(f\"Epoch: {epoch} | Loss: {train_loss:.3f} | Test loss: {test_loss_total:.3f}\")"
      ],
      "metadata": {
        "colab": {
          "base_uri": "https://localhost:8080/",
          "height": 171,
          "referenced_widgets": [
            "2ea08e25254249589cca0e79d009780a",
            "6b9b33fdfa3e4cba810494a7cb083a01",
            "f2fda23e889f44c89e22391d298c6d4c",
            "332586aae0684b04a5449e500fdb12c2",
            "35d9873407fb42b6b77924b46734666e",
            "2cfeacf50d164589b63e63efebbe5db9",
            "75dbc20761cc47a5ae7d1887ac8897c4",
            "520b20fd112c480fb2902ae329cd2395",
            "9b61dca0c3ee4551a96aaaf68a6ed9f5",
            "eeec5c250d6e496cb939865bfb1a2dad",
            "5abaeb99c9c9411e8ca7dcf02b10cad7"
          ]
        },
        "id": "fOWxAHMJZDMs",
        "outputId": "374a4c4a-d579-42c2-bb28-f7c1ca6a1fe7"
      },
      "execution_count": 21,
      "outputs": [
        {
          "output_type": "display_data",
          "data": {
            "text/plain": [
              "  0%|          | 0/5 [00:00<?, ?it/s]"
            ],
            "application/vnd.jupyter.widget-view+json": {
              "version_major": 2,
              "version_minor": 0,
              "model_id": "2ea08e25254249589cca0e79d009780a"
            }
          },
          "metadata": {}
        },
        {
          "output_type": "stream",
          "name": "stdout",
          "text": [
            "Epoch: 0 | Loss: 0.623 | Test loss: 0.409\n",
            "Epoch: 1 | Loss: 0.366 | Test loss: 0.395\n",
            "Epoch: 2 | Loss: 0.330 | Test loss: 0.343\n",
            "Epoch: 3 | Loss: 0.312 | Test loss: 0.331\n",
            "Epoch: 4 | Loss: 0.300 | Test loss: 0.327\n",
            "CPU times: user 57.4 s, sys: 605 ms, total: 58 s\n",
            "Wall time: 58.8 s\n"
          ]
        }
      ]
    },
    {
      "cell_type": "markdown",
      "source": [
        "## 10. Make predictions using your trained model and visualize at least 5 of them comparing the prediciton to the target label."
      ],
      "metadata": {
        "id": "qLqnDW35ZQSa"
      }
    },
    {
      "cell_type": "code",
      "source": [
        "# Make predictions with the trained model\n",
        "plt.imshow(test_data[0][0].squeeze(), cmap=\"gray\")"
      ],
      "metadata": {
        "colab": {
          "base_uri": "https://localhost:8080/",
          "height": 447
        },
        "id": "wkM-WsI2G0PX",
        "outputId": "b7b79f7c-1a17-4a5a-b7ce-7db3372fa39b"
      },
      "execution_count": 22,
      "outputs": [
        {
          "output_type": "execute_result",
          "data": {
            "text/plain": [
              "<matplotlib.image.AxesImage at 0x7bcf11b170a0>"
            ]
          },
          "metadata": {},
          "execution_count": 22
        },
        {
          "output_type": "display_data",
          "data": {
            "text/plain": [
              "<Figure size 640x480 with 1 Axes>"
            ],
            "image/png": "[encoded data removed]"
          },
          "metadata": {}
        }
      ]
    },
    {
      "cell_type": "code",
      "source": [
        "# Logits -> Prediction probabilities -> Prediction labels\n",
        "model_pred_logits = model_gpu(test_data[0][0].unsqueeze(dim=0).to(device)) # make sure image is right shape + on right device\n",
        "model_pred_probs = torch.softmax(model_pred_logits, dim=1)\n",
        "model_pred_label = torch.argmax(model_pred_probs, dim=1)\n",
        "model_pred_label"
      ],
      "metadata": {
        "colab": {
          "base_uri": "https://localhost:8080/"
        },
        "id": "JRQ-8gMzG_Lo",
        "outputId": "bf392d1e-64fc-4b58-b91c-7b1773af8acb"
      },
      "execution_count": 23,
      "outputs": [
        {
          "output_type": "execute_result",
          "data": {
            "text/plain": [
              "tensor([9], device='cuda:0')"
            ]
          },
          "metadata": {},
          "execution_count": 23
        }
      ]
    },
    {
      "cell_type": "code",
      "source": [
        "num_to_plot = 5\n",
        "for i in range(num_to_plot):\n",
        "  # Get image and labels from the test data\n",
        "  img = test_data[i][0]\n",
        "  label = test_data[i][1]\n",
        "\n",
        "  # Make prediction on image\n",
        "  model_pred_logits = model_gpu(img.unsqueeze(dim=0).to(device))\n",
        "  model_pred_probs = torch.softmax(model_pred_logits, dim=1)\n",
        "  model_pred_label = torch.argmax(model_pred_probs, dim=1)\n",
        "\n",
        "  # Plot the image and prediction\n",
        "  plt.figure()\n",
        "  plt.imshow(img.squeeze(), cmap=\"gray\")\n",
        "  plt.title(f\"Truth: {label} | Pred: {model_pred_label.cpu().item()}\")\n",
        "  plt.axis(False);"
      ],
      "metadata": {
        "colab": {
          "base_uri": "https://localhost:8080/",
          "height": 1000
        },
        "id": "MCqR3F6UHDjf",
        "outputId": "46d1de18-d55b-41fd-cd12-aa2a439e3e95"
      },
      "execution_count": 24,
      "outputs": [
        {
          "output_type": "display_data",
          "data": {
            "text/plain": [
              "<Figure size 640x480 with 1 Axes>"
            ],
            "image/png": "[encoded data removed]"
          },
          "metadata": {}
        },
        {
          "output_type": "display_data",
          "data": {
            "text/plain": [
              "<Figure size 640x480 with 1 Axes>"
            ],
            "image/png": "[encoded data removed]"
          },
          "metadata": {}
        },
        {
          "output_type": "display_data",
          "data": {
            "text/plain": [
              "<Figure size 640x480 with 1 Axes>"
            ],
            "image/png": "[encoded data removed]"
          },
          "metadata": {}
        },
        {
          "output_type": "display_data",
          "data": {
            "text/plain": [
              "<Figure size 640x480 with 1 Axes>"
            ],
            "image/png": "[encoded data removed]"
          },
          "metadata": {}
        },
        {
          "output_type": "display_data",
          "data": {
            "text/plain": [
              "<Figure size 640x480 with 1 Axes>"
            ],
            "image/png": "[encoded data removed]"
          },
          "metadata": {}
        }
      ]
    },
    {
      "cell_type": "markdown",
      "source": [
        "## 11. Plot a confusion matrix comparing your model's predictions to the truth labels."
      ],
      "metadata": {
        "id": "x_l1poU3Zt0_"
      }
    },
    {
      "cell_type": "code",
      "source": [
        "# See if torchmetrics exists, if not, install it\n",
        "try:\n",
        "    import torchmetrics, mlxtend\n",
        "    print(f\"mlxtend version: {mlxtend.__version__}\")\n",
        "    assert int(mlxtend.__version__.split(\".\")[1]) >= 19, \"mlxtend verison should be 0.19.0 or higher\"\n",
        "except:\n",
        "    !pip install -q torchmetrics -U mlxtend # <- Note: If you're using Google Colab, this may require restarting the runtime\n",
        "    import torchmetrics, mlxtend\n",
        "    print(f\"mlxtend version: {mlxtend.__version__}\")"
      ],
      "metadata": {
        "colab": {
          "base_uri": "https://localhost:8080/"
        },
        "id": "P2N6ExR4Hesb",
        "outputId": "3082cad4-c6be-4651-c7ea-aaf4a6d023e9"
      },
      "execution_count": 25,
      "outputs": [
        {
          "output_type": "stream",
          "name": "stdout",
          "text": [
            "\u001b[2K     \u001b[90m━━━━━━━━━━━━━━━━━━━━━━━━━━━━━━━━━━━━━━━━\u001b[0m \u001b[32m840.2/840.2 kB\u001b[0m \u001b[31m5.5 MB/s\u001b[0m eta \u001b[36m0:00:00\u001b[0m\n",
            "\u001b[2K     \u001b[90m━━━━━━━━━━━━━━━━━━━━━━━━━━━━━━━━━━━━━━━━\u001b[0m \u001b[32m1.4/1.4 MB\u001b[0m \u001b[31m27.6 MB/s\u001b[0m eta \u001b[36m0:00:00\u001b[0m\n",
            "\u001b[?25hmlxtend version: 0.23.1\n"
          ]
        }
      ]
    },
    {
      "cell_type": "code",
      "source": [
        "# Import mlxtend upgraded version\n",
        "import mlxtend\n",
        "print(mlxtend.__version__)\n",
        "assert int(mlxtend.__version__.split(\".\")[1]) >= 19 # should be version 0.19.0 or higher"
      ],
      "metadata": {
        "colab": {
          "base_uri": "https://localhost:8080/"
        },
        "id": "AiLQvmcOHq83",
        "outputId": "e3ca1aaa-2cf1-4b11-8ae0-e7072a6bbef6"
      },
      "execution_count": 26,
      "outputs": [
        {
          "output_type": "stream",
          "name": "stdout",
          "text": [
            "0.23.1\n"
          ]
        }
      ]
    },
    {
      "cell_type": "code",
      "source": [
        "# Make predictions across all test data\n",
        "from tqdm.auto import tqdm\n",
        "model_gpu.eval()\n",
        "y_preds = []\n",
        "with torch.inference_mode():\n",
        "  for batch, (X, y) in tqdm(enumerate(test_dataloader)):\n",
        "    # Make sure data on right device\n",
        "    X, y = X.to(device), y.to(device)\n",
        "    # Forward pass\n",
        "    y_pred_logits = model_gpu(X)\n",
        "    # Logits -> Pred probs -> Pred label\n",
        "    y_pred_labels = torch.argmax(torch.softmax(y_pred_logits, dim=1), dim=1)\n",
        "    # Append the labels to the preds list\n",
        "    y_preds.append(y_pred_labels)\n",
        "  y_preds=torch.cat(y_preds).cpu()\n",
        "len(y_preds)"
      ],
      "metadata": {
        "colab": {
          "base_uri": "https://localhost:8080/",
          "height": 66,
          "referenced_widgets": [
            "fb973cb313ed414288f58bd0002e7512",
            "639cf39bfc9d4fd7ad5f098635de84e7",
            "37d4e27d7a184e6683a52894523d3409",
            "d42af150465c407bb2a5e0c0c12717bf",
            "69c4df29151f41509375333966b7cdd4",
            "33365745d2c5474586e3e33bcc5f3eab",
            "5991477cd5c04c5b9a6de7e12cafe564",
            "d36a077c0dcd469c928844a27bbdb38e",
            "de0e00fd4d8749e391d24ba68ca42a47",
            "f028d5b351b4443bb548fed56d50cbee",
            "2930dc8ca9204ab18dcc2926e27ca6ad"
          ]
        },
        "id": "Efc0S4imHt-F",
        "outputId": "cfaaf5a4-e806-4497-ac95-8498a62399df"
      },
      "execution_count": 27,
      "outputs": [
        {
          "output_type": "display_data",
          "data": {
            "text/plain": [
              "0it [00:00, ?it/s]"
            ],
            "application/vnd.jupyter.widget-view+json": {
              "version_major": 2,
              "version_minor": 0,
              "model_id": "fb973cb313ed414288f58bd0002e7512"
            }
          },
          "metadata": {}
        },
        {
          "output_type": "execute_result",
          "data": {
            "text/plain": [
              "10000"
            ]
          },
          "metadata": {},
          "execution_count": 27
        }
      ]
    },
    {
      "cell_type": "code",
      "source": [
        "test_data.targets[:10], y_preds[:10]"
      ],
      "metadata": {
        "colab": {
          "base_uri": "https://localhost:8080/"
        },
        "id": "PQb9GJL9H6yI",
        "outputId": "00d9ebd1-330c-4aba-dde1-b92dfa0db598"
      },
      "execution_count": 28,
      "outputs": [
        {
          "output_type": "execute_result",
          "data": {
            "text/plain": [
              "(tensor([9, 2, 1, 1, 6, 1, 4, 6, 5, 7]),\n",
              " tensor([9, 2, 1, 1, 6, 1, 4, 6, 5, 7]))"
            ]
          },
          "metadata": {},
          "execution_count": 28
        }
      ]
    },
    {
      "cell_type": "code",
      "source": [
        "from torchmetrics import ConfusionMatrix\n",
        "from mlxtend.plotting import plot_confusion_matrix\n",
        "\n",
        "# Setup confusion matrix\n",
        "confmat = ConfusionMatrix(task=\"multiclass\", num_classes=len(class_names))\n",
        "confmat_tensor = confmat(preds=y_preds,\n",
        "                         target=test_data.targets)\n",
        "\n",
        "# Plot the confusion matrix\n",
        "fix, ax = plot_confusion_matrix(\n",
        "    conf_mat=confmat_tensor.numpy(),\n",
        "    class_names=class_names,\n",
        "    figsize=(10, 7)\n",
        ")"
      ],
      "metadata": {
        "colab": {
          "base_uri": "https://localhost:8080/",
          "height": 667
        },
        "id": "kCsZL15vIB8I",
        "outputId": "c41a47b4-05e6-438c-a65e-1af630f29f8d"
      },
      "execution_count": 29,
      "outputs": [
        {
          "output_type": "display_data",
          "data": {
            "text/plain": [
              "<Figure size 1000x700 with 1 Axes>"
            ],
            "image/png": "[encoded data removed]"
          },
          "metadata": {}
        }
      ]
    },
    {
      "cell_type": "markdown",
      "source": [
        "## 12. Create a random tensor of shape `[1, 3, 64, 64]` and pass it through a `nn.Conv2d()` layer with various hyperparameter settings (these can be any settings you choose), what do you notice if the `kernel_size` parameter goes up and down?"
      ],
      "metadata": {
        "id": "giGjTikXbBLI"
      }
    },
    {
      "cell_type": "code",
      "source": [
        "random_tensor = torch.rand([1, 3, 64, 64])\n",
        "random_tensor.shape"
      ],
      "metadata": {
        "colab": {
          "base_uri": "https://localhost:8080/"
        },
        "id": "6V32O9X-bG-X",
        "outputId": "4a246c68-9203-40a6-9e46-c9540b926c3a"
      },
      "execution_count": 30,
      "outputs": [
        {
          "output_type": "execute_result",
          "data": {
            "text/plain": [
              "torch.Size([1, 3, 64, 64])"
            ]
          },
          "metadata": {},
          "execution_count": 30
        }
      ]
    },
    {
      "cell_type": "code",
      "source": [
        "conv_layer = nn.Conv2d(in_channels=3,\n",
        "                       out_channels=64,\n",
        "                       kernel_size=3,\n",
        "                       stride=2,\n",
        "                       padding=1)\n",
        "\n",
        "print(f\"Random tensor original shape: {random_tensor.shape}\")\n",
        "random_tensor_through_conv_layer = conv_layer(random_tensor)\n",
        "print(f\"Random tensor through conv layer shape: {random_tensor_through_conv_layer.shape}\")"
      ],
      "metadata": {
        "colab": {
          "base_uri": "https://localhost:8080/"
        },
        "id": "sqGkSQTFbOi0",
        "outputId": "ec768e6b-f794-4e87-aef7-b99a4beb5f9d"
      },
      "execution_count": 31,
      "outputs": [
        {
          "output_type": "stream",
          "name": "stdout",
          "text": [
            "Random tensor original shape: torch.Size([1, 3, 64, 64])\n",
            "Random tensor through conv layer shape: torch.Size([1, 64, 32, 32])\n"
          ]
        }
      ]
    },
    {
      "cell_type": "markdown",
      "source": [
        "## 13. Use a model similar to the trained `model_2` from notebook 03 to make predictions on the test [`torchvision.datasets.FashionMNIST`](https://pytorch.org/vision/main/generated/torchvision.datasets.FashionMNIST.html) dataset.\n",
        "* Then plot some predictions where the model was wrong alongside what the label of the image should've been.\n",
        "* After visualing these predictions do you think it's more of a modelling error or a data error?\n",
        "* As in, could the model do better or are the labels of the data too close to each other (e.g. a \"Shirt\" label is too close to \"T-shirt/top\")?"
      ],
      "metadata": {
        "id": "AEYjTmXYbdoE"
      }
    },
    {
      "cell_type": "code",
      "source": [
        "# Download FashionMNIST train & test\n",
        "from torchvision import datasets\n",
        "from torchvision import transforms\n",
        "\n",
        "fashion_mnist_train = datasets.FashionMNIST(root=\".\",\n",
        "                                            download=True,\n",
        "                                            train=True,\n",
        "                                            transform=transforms.ToTensor())\n",
        "\n",
        "fashion_mnist_test = datasets.FashionMNIST(root=\".\",\n",
        "                                           train=False,\n",
        "                                           download=True,\n",
        "                                           transform=transforms.ToTensor())\n",
        "\n",
        "len(fashion_mnist_train), len(fashion_mnist_test)"
      ],
      "metadata": {
        "colab": {
          "base_uri": "https://localhost:8080/"
        },
        "id": "qN8Im6MDbf9u",
        "outputId": "3c2f0e58-4538-4544-b303-ccdea3d5d4c5"
      },
      "execution_count": 32,
      "outputs": [
        {
          "output_type": "execute_result",
          "data": {
            "text/plain": [
              "(60000, 10000)"
            ]
          },
          "metadata": {},
          "execution_count": 32
        }
      ]
    },
    {
      "cell_type": "code",
      "source": [
        "# Get the class names of the Fashion MNIST dataset\n",
        "fashion_mnist_class_names = fashion_mnist_train.classes\n",
        "fashion_mnist_class_names"
      ],
      "metadata": {
        "colab": {
          "base_uri": "https://localhost:8080/"
        },
        "id": "iKNaWcKXbxam",
        "outputId": "f192f7eb-8e91-4ba3-a147-4c0e8452beee"
      },
      "execution_count": 33,
      "outputs": [
        {
          "output_type": "execute_result",
          "data": {
            "text/plain": [
              "['T-shirt/top',\n",
              " 'Trouser',\n",
              " 'Pullover',\n",
              " 'Dress',\n",
              " 'Coat',\n",
              " 'Sandal',\n",
              " 'Shirt',\n",
              " 'Sneaker',\n",
              " 'Bag',\n",
              " 'Ankle boot']"
            ]
          },
          "metadata": {},
          "execution_count": 33
        }
      ]
    },
    {
      "cell_type": "code",
      "source": [
        "# Turn FashionMNIST datasets into dataloaders\n",
        "from torch.utils.data import DataLoader\n",
        "\n",
        "fashion_mnist_train_dataloader = DataLoader(fashion_mnist_train,\n",
        "                                            batch_size=32,\n",
        "                                            shuffle=True)\n",
        "\n",
        "fashion_mnist_test_dataloader = DataLoader(fashion_mnist_test,\n",
        "                                           batch_size=32,\n",
        "                                           shuffle=False)\n",
        "\n",
        "len(fashion_mnist_train_dataloader), len(fashion_mnist_test_dataloader)"
      ],
      "metadata": {
        "colab": {
          "base_uri": "https://localhost:8080/"
        },
        "id": "S8-GGvQtb4Ul",
        "outputId": "3c9b3815-95fd-418f-8e06-c16c459a82b5"
      },
      "execution_count": 34,
      "outputs": [
        {
          "output_type": "execute_result",
          "data": {
            "text/plain": [
              "(1875, 313)"
            ]
          },
          "metadata": {},
          "execution_count": 34
        }
      ]
    },
    {
      "cell_type": "code",
      "source": [
        "# model_2 is the same architecture as MNIST_model\n",
        "model_2 = FashionMNIST_modelV2(input_shape=1,\n",
        "                      hidden_units=10,\n",
        "                      output_shape=10).to(device)\n",
        "model_2"
      ],
      "metadata": {
        "colab": {
          "base_uri": "https://localhost:8080/"
        },
        "id": "QVserOTtb9yE",
        "outputId": "ad6094de-1930-43b0-9a48-690b477272d9"
      },
      "execution_count": 35,
      "outputs": [
        {
          "output_type": "execute_result",
          "data": {
            "text/plain": [
              "FashionMNIST_modelV2(\n",
              "  (conv_block_1): Sequential(\n",
              "    (0): Conv2d(1, 10, kernel_size=(3, 3), stride=(1, 1), padding=(1, 1))\n",
              "    (1): ReLU()\n",
              "    (2): Conv2d(10, 10, kernel_size=(3, 3), stride=(1, 1), padding=(1, 1))\n",
              "    (3): ReLU()\n",
              "    (4): MaxPool2d(kernel_size=2, stride=2, padding=0, dilation=1, ceil_mode=False)\n",
              "  )\n",
              "  (conv_block_2): Sequential(\n",
              "    (0): Conv2d(10, 10, kernel_size=(3, 3), stride=(1, 1), padding=(1, 1))\n",
              "    (1): ReLU()\n",
              "    (2): Conv2d(10, 10, kernel_size=(3, 3), stride=(1, 1), padding=(1, 1))\n",
              "    (3): ReLU()\n",
              "    (4): MaxPool2d(kernel_size=2, stride=2, padding=0, dilation=1, ceil_mode=False)\n",
              "  )\n",
              "  (classifier): Sequential(\n",
              "    (0): Flatten(start_dim=1, end_dim=-1)\n",
              "    (1): Linear(in_features=490, out_features=10, bias=True)\n",
              "  )\n",
              ")"
            ]
          },
          "metadata": {},
          "execution_count": 35
        }
      ]
    },
    {
      "cell_type": "code",
      "source": [
        "\n",
        "# Setup loss and optimizer\n",
        "from torch import nn\n",
        "loss_fn = nn.CrossEntropyLoss()\n",
        "optimizer = torch.optim.SGD(model_2.parameters(), lr=0.01)"
      ],
      "metadata": {
        "id": "oCwfOdhJcGVN"
      },
      "execution_count": 36,
      "outputs": []
    },
    {
      "cell_type": "code",
      "source": [
        "# Setup metrics\n",
        "from tqdm.auto import tqdm\n",
        "from torchmetrics import Accuracy\n"
      ],
      "metadata": {
        "id": "Migvw1gacZsF"
      },
      "execution_count": 37,
      "outputs": []
    },
    {
      "cell_type": "code",
      "source": [
        "#acc_fn = Accuracy(num_classes=len(fashion_mnist_class_names)).to(device)\n",
        "\n",
        "# Setup training/testing loop\n",
        "epochs = 5\n",
        "for epoch in tqdm(range(epochs)):\n",
        "  train_loss, test_loss_total = 0, 0\n",
        "  train_acc, test_acc = 0, 0\n",
        "\n",
        "  ### Training\n",
        "  model_2.train()\n",
        "  for batch, (X_train, y_train) in enumerate(fashion_mnist_train_dataloader):\n",
        "    X_train, y_train = X_train.to(device), y_train.to(device)\n",
        "\n",
        "    # Forward pass and loss\n",
        "    y_pred = model_2(X_train)\n",
        "    loss = loss_fn(y_pred, y_train)\n",
        "    train_loss += loss\n",
        "    train_acc += acc_fn(y_pred, y_train)\n",
        "\n",
        "    # Backprop and gradient descent\n",
        "    optimizer.zero_grad()\n",
        "    loss.backward()\n",
        "    optimizer.step()\n",
        "\n",
        "  # Adjust the loss/acc (find the loss/acc per epoch)\n",
        "  train_loss /= len(fashion_mnist_train_dataloader)\n",
        "  train_acc /= len(fashion_mnist_train_dataloader)\n",
        "\n",
        "  ### Testing\n",
        "  model_2.eval()\n",
        "  with torch.inference_mode():\n",
        "    for batch, (X_test, y_test) in enumerate(fashion_mnist_test_dataloader):\n",
        "      X_test, y_test = X_test.to(device), y_test.to(device)\n",
        "\n",
        "      # Forward pass and loss\n",
        "      y_pred_test = model_2(X_test)\n",
        "      test_loss = loss_fn(y_pred_test, y_test)\n",
        "      test_loss_total += test_loss\n",
        "\n",
        "      test_acc += acc_fn(y_pred_test, y_test)\n",
        "\n",
        "    # Adjust the loss/acc (find the loss/acc per epoch)\n",
        "    test_loss /= len(fashion_mnist_test_dataloader)\n",
        "    test_acc /= len(fashion_mnist_test_dataloader)\n",
        "\n",
        "  # Print out what's happening\n",
        "  print(f\"Epoch: {epoch} | Train loss: {train_loss:.3f} | Train acc: {train_acc:.2f} | Test loss: {test_loss_total:.3f} | Test acc: {test_acc:.2f}\")"
      ],
      "metadata": {
        "id": "Fi128JHgJkVb"
      },
      "execution_count": null,
      "outputs": []
    }
  ]
}