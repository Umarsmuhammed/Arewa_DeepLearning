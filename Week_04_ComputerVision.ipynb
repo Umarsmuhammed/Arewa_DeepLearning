{
  "nbformat": 4,
  "nbformat_minor": 0,
  "metadata": {
    "colab": {
      "provenance": [],
      "gpuType": "T4",
      "authorship_tag": "ABX9TyOoEePaLmyQ1oDCzgxXALlg",
      "include_colab_link": true
    },
    "kernelspec": {
      "name": "python3",
      "display_name": "Python 3"
    },
    "language_info": {
      "name": "python"
    },
    "accelerator": "GPU",
    "widgets": {
      "application/vnd.jupyter.widget-state+json": {
        "dd0907fcf3e347b8ac8791244185f860": {
          "model_module": "@jupyter-widgets/controls",
          "model_name": "HBoxModel",
          "model_module_version": "1.5.0",
          "state": {
            "_dom_classes": [],
            "_model_module": "@jupyter-widgets/controls",
            "_model_module_version": "1.5.0",
            "_model_name": "HBoxModel",
            "_view_count": null,
            "_view_module": "@jupyter-widgets/controls",
            "_view_module_version": "1.5.0",
            "_view_name": "HBoxView",
            "box_style": "",
            "children": [
              "IPY_MODEL_26c4e50abd134237b08bb67b756a76a4",
              "IPY_MODEL_ade73652626040a0a584f84e6fabb79b",
              "IPY_MODEL_d9f4b8c873754e61a05bd0442e10d865"
            ],
            "layout": "IPY_MODEL_e07d111036644a5e8c15ea1ef6cfa000"
          }
        },
        "26c4e50abd134237b08bb67b756a76a4": {
          "model_module": "@jupyter-widgets/controls",
          "model_name": "HTMLModel",
          "model_module_version": "1.5.0",
          "state": {
            "_dom_classes": [],
            "_model_module": "@jupyter-widgets/controls",
            "_model_module_version": "1.5.0",
            "_model_name": "HTMLModel",
            "_view_count": null,
            "_view_module": "@jupyter-widgets/controls",
            "_view_module_version": "1.5.0",
            "_view_name": "HTMLView",
            "description": "",
            "description_tooltip": null,
            "layout": "IPY_MODEL_cad5ecb0b38b4c2dadb6cf6493bd689d",
            "placeholder": "​",
            "style": "IPY_MODEL_94401896b2b34e4dbaeb563cf7a0fe80",
            "value": "100%"
          }
        },
        "ade73652626040a0a584f84e6fabb79b": {
          "model_module": "@jupyter-widgets/controls",
          "model_name": "FloatProgressModel",
          "model_module_version": "1.5.0",
          "state": {
            "_dom_classes": [],
            "_model_module": "@jupyter-widgets/controls",
            "_model_module_version": "1.5.0",
            "_model_name": "FloatProgressModel",
            "_view_count": null,
            "_view_module": "@jupyter-widgets/controls",
            "_view_module_version": "1.5.0",
            "_view_name": "ProgressView",
            "bar_style": "success",
            "description": "",
            "description_tooltip": null,
            "layout": "IPY_MODEL_67eb249ea6514de99079d4d2178f97ac",
            "max": 5,
            "min": 0,
            "orientation": "horizontal",
            "style": "IPY_MODEL_dc8cb6c787194a299713763df2d65b75",
            "value": 5
          }
        },
        "d9f4b8c873754e61a05bd0442e10d865": {
          "model_module": "@jupyter-widgets/controls",
          "model_name": "HTMLModel",
          "model_module_version": "1.5.0",
          "state": {
            "_dom_classes": [],
            "_model_module": "@jupyter-widgets/controls",
            "_model_module_version": "1.5.0",
            "_model_name": "HTMLModel",
            "_view_count": null,
            "_view_module": "@jupyter-widgets/controls",
            "_view_module_version": "1.5.0",
            "_view_name": "HTMLView",
            "description": "",
            "description_tooltip": null,
            "layout": "IPY_MODEL_7eef22435bd241ff8583bbd5eafc90c7",
            "placeholder": "​",
            "style": "IPY_MODEL_d081a3840c3349e78d79b0521b614bad",
            "value": " 5/5 [03:33&lt;00:00, 42.42s/it]"
          }
        },
        "e07d111036644a5e8c15ea1ef6cfa000": {
          "model_module": "@jupyter-widgets/base",
          "model_name": "LayoutModel",
          "model_module_version": "1.2.0",
          "state": {
            "_model_module": "@jupyter-widgets/base",
            "_model_module_version": "1.2.0",
            "_model_name": "LayoutModel",
            "_view_count": null,
            "_view_module": "@jupyter-widgets/base",
            "_view_module_version": "1.2.0",
            "_view_name": "LayoutView",
            "align_content": null,
            "align_items": null,
            "align_self": null,
            "border": null,
            "bottom": null,
            "display": null,
            "flex": null,
            "flex_flow": null,
            "grid_area": null,
            "grid_auto_columns": null,
            "grid_auto_flow": null,
            "grid_auto_rows": null,
            "grid_column": null,
            "grid_gap": null,
            "grid_row": null,
            "grid_template_areas": null,
            "grid_template_columns": null,
            "grid_template_rows": null,
            "height": null,
            "justify_content": null,
            "justify_items": null,
            "left": null,
            "margin": null,
            "max_height": null,
            "max_width": null,
            "min_height": null,
            "min_width": null,
            "object_fit": null,
            "object_position": null,
            "order": null,
            "overflow": null,
            "overflow_x": null,
            "overflow_y": null,
            "padding": null,
            "right": null,
            "top": null,
            "visibility": null,
            "width": null
          }
        },
        "cad5ecb0b38b4c2dadb6cf6493bd689d": {
          "model_module": "@jupyter-widgets/base",
          "model_name": "LayoutModel",
          "model_module_version": "1.2.0",
          "state": {
            "_model_module": "@jupyter-widgets/base",
            "_model_module_version": "1.2.0",
            "_model_name": "LayoutModel",
            "_view_count": null,
            "_view_module": "@jupyter-widgets/base",
            "_view_module_version": "1.2.0",
            "_view_name": "LayoutView",
            "align_content": null,
            "align_items": null,
            "align_self": null,
            "border": null,
            "bottom": null,
            "display": null,
            "flex": null,
            "flex_flow": null,
            "grid_area": null,
            "grid_auto_columns": null,
            "grid_auto_flow": null,
            "grid_auto_rows": null,
            "grid_column": null,
            "grid_gap": null,
            "grid_row": null,
            "grid_template_areas": null,
            "grid_template_columns": null,
            "grid_template_rows": null,
            "height": null,
            "justify_content": null,
            "justify_items": null,
            "left": null,
            "margin": null,
            "max_height": null,
            "max_width": null,
            "min_height": null,
            "min_width": null,
            "object_fit": null,
            "object_position": null,
            "order": null,
            "overflow": null,
            "overflow_x": null,
            "overflow_y": null,
            "padding": null,
            "right": null,
            "top": null,
            "visibility": null,
            "width": null
          }
        },
        "94401896b2b34e4dbaeb563cf7a0fe80": {
          "model_module": "@jupyter-widgets/controls",
          "model_name": "DescriptionStyleModel",
          "model_module_version": "1.5.0",
          "state": {
            "_model_module": "@jupyter-widgets/controls",
            "_model_module_version": "1.5.0",
            "_model_name": "DescriptionStyleModel",
            "_view_count": null,
            "_view_module": "@jupyter-widgets/base",
            "_view_module_version": "1.2.0",
            "_view_name": "StyleView",
            "description_width": ""
          }
        },
        "67eb249ea6514de99079d4d2178f97ac": {
          "model_module": "@jupyter-widgets/base",
          "model_name": "LayoutModel",
          "model_module_version": "1.2.0",
          "state": {
            "_model_module": "@jupyter-widgets/base",
            "_model_module_version": "1.2.0",
            "_model_name": "LayoutModel",
            "_view_count": null,
            "_view_module": "@jupyter-widgets/base",
            "_view_module_version": "1.2.0",
            "_view_name": "LayoutView",
            "align_content": null,
            "align_items": null,
            "align_self": null,
            "border": null,
            "bottom": null,
            "display": null,
            "flex": null,
            "flex_flow": null,
            "grid_area": null,
            "grid_auto_columns": null,
            "grid_auto_flow": null,
            "grid_auto_rows": null,
            "grid_column": null,
            "grid_gap": null,
            "grid_row": null,
            "grid_template_areas": null,
            "grid_template_columns": null,
            "grid_template_rows": null,
            "height": null,
            "justify_content": null,
            "justify_items": null,
            "left": null,
            "margin": null,
            "max_height": null,
            "max_width": null,
            "min_height": null,
            "min_width": null,
            "object_fit": null,
            "object_position": null,
            "order": null,
            "overflow": null,
            "overflow_x": null,
            "overflow_y": null,
            "padding": null,
            "right": null,
            "top": null,
            "visibility": null,
            "width": null
          }
        },
        "dc8cb6c787194a299713763df2d65b75": {
          "model_module": "@jupyter-widgets/controls",
          "model_name": "ProgressStyleModel",
          "model_module_version": "1.5.0",
          "state": {
            "_model_module": "@jupyter-widgets/controls",
            "_model_module_version": "1.5.0",
            "_model_name": "ProgressStyleModel",
            "_view_count": null,
            "_view_module": "@jupyter-widgets/base",
            "_view_module_version": "1.2.0",
            "_view_name": "StyleView",
            "bar_color": null,
            "description_width": ""
          }
        },
        "7eef22435bd241ff8583bbd5eafc90c7": {
          "model_module": "@jupyter-widgets/base",
          "model_name": "LayoutModel",
          "model_module_version": "1.2.0",
          "state": {
            "_model_module": "@jupyter-widgets/base",
            "_model_module_version": "1.2.0",
            "_model_name": "LayoutModel",
            "_view_count": null,
            "_view_module": "@jupyter-widgets/base",
            "_view_module_version": "1.2.0",
            "_view_name": "LayoutView",
            "align_content": null,
            "align_items": null,
            "align_self": null,
            "border": null,
            "bottom": null,
            "display": null,
            "flex": null,
            "flex_flow": null,
            "grid_area": null,
            "grid_auto_columns": null,
            "grid_auto_flow": null,
            "grid_auto_rows": null,
            "grid_column": null,
            "grid_gap": null,
            "grid_row": null,
            "grid_template_areas": null,
            "grid_template_columns": null,
            "grid_template_rows": null,
            "height": null,
            "justify_content": null,
            "justify_items": null,
            "left": null,
            "margin": null,
            "max_height": null,
            "max_width": null,
            "min_height": null,
            "min_width": null,
            "object_fit": null,
            "object_position": null,
            "order": null,
            "overflow": null,
            "overflow_x": null,
            "overflow_y": null,
            "padding": null,
            "right": null,
            "top": null,
            "visibility": null,
            "width": null
          }
        },
        "d081a3840c3349e78d79b0521b614bad": {
          "model_module": "@jupyter-widgets/controls",
          "model_name": "DescriptionStyleModel",
          "model_module_version": "1.5.0",
          "state": {
            "_model_module": "@jupyter-widgets/controls",
            "_model_module_version": "1.5.0",
            "_model_name": "DescriptionStyleModel",
            "_view_count": null,
            "_view_module": "@jupyter-widgets/base",
            "_view_module_version": "1.2.0",
            "_view_name": "StyleView",
            "description_width": ""
          }
        },
        "cb8613e7bd444327bc64ed905011392a": {
          "model_module": "@jupyter-widgets/controls",
          "model_name": "HBoxModel",
          "model_module_version": "1.5.0",
          "state": {
            "_dom_classes": [],
            "_model_module": "@jupyter-widgets/controls",
            "_model_module_version": "1.5.0",
            "_model_name": "HBoxModel",
            "_view_count": null,
            "_view_module": "@jupyter-widgets/controls",
            "_view_module_version": "1.5.0",
            "_view_name": "HBoxView",
            "box_style": "",
            "children": [
              "IPY_MODEL_79718bc8806e48d4a99a66d4e863092a",
              "IPY_MODEL_b4d10960c4da4a2aac9b8526362def41",
              "IPY_MODEL_22737e7b739046f1a20b58c1faaa1eda"
            ],
            "layout": "IPY_MODEL_530d73fc71a549e0903e0d5a9777d291"
          }
        },
        "79718bc8806e48d4a99a66d4e863092a": {
          "model_module": "@jupyter-widgets/controls",
          "model_name": "HTMLModel",
          "model_module_version": "1.5.0",
          "state": {
            "_dom_classes": [],
            "_model_module": "@jupyter-widgets/controls",
            "_model_module_version": "1.5.0",
            "_model_name": "HTMLModel",
            "_view_count": null,
            "_view_module": "@jupyter-widgets/controls",
            "_view_module_version": "1.5.0",
            "_view_name": "HTMLView",
            "description": "",
            "description_tooltip": null,
            "layout": "IPY_MODEL_dd1fe923916d4c3996ffd32b15cff4d0",
            "placeholder": "​",
            "style": "IPY_MODEL_bd31f1250e424c389ae191b6abcdea57",
            "value": "100%"
          }
        },
        "b4d10960c4da4a2aac9b8526362def41": {
          "model_module": "@jupyter-widgets/controls",
          "model_name": "FloatProgressModel",
          "model_module_version": "1.5.0",
          "state": {
            "_dom_classes": [],
            "_model_module": "@jupyter-widgets/controls",
            "_model_module_version": "1.5.0",
            "_model_name": "FloatProgressModel",
            "_view_count": null,
            "_view_module": "@jupyter-widgets/controls",
            "_view_module_version": "1.5.0",
            "_view_name": "ProgressView",
            "bar_style": "success",
            "description": "",
            "description_tooltip": null,
            "layout": "IPY_MODEL_774e3b5e7e1c43f69bdff0f2b34c51e2",
            "max": 5,
            "min": 0,
            "orientation": "horizontal",
            "style": "IPY_MODEL_8977a1ee9db548299a1beffadc23a157",
            "value": 5
          }
        },
        "22737e7b739046f1a20b58c1faaa1eda": {
          "model_module": "@jupyter-widgets/controls",
          "model_name": "HTMLModel",
          "model_module_version": "1.5.0",
          "state": {
            "_dom_classes": [],
            "_model_module": "@jupyter-widgets/controls",
            "_model_module_version": "1.5.0",
            "_model_name": "HTMLModel",
            "_view_count": null,
            "_view_module": "@jupyter-widgets/controls",
            "_view_module_version": "1.5.0",
            "_view_name": "HTMLView",
            "description": "",
            "description_tooltip": null,
            "layout": "IPY_MODEL_dbea77cbd7dc4b5690a110967fbd741f",
            "placeholder": "​",
            "style": "IPY_MODEL_1372aba20f2f4191b019fdb4ab16b6f0",
            "value": " 5/5 [00:59&lt;00:00, 11.90s/it]"
          }
        },
        "530d73fc71a549e0903e0d5a9777d291": {
          "model_module": "@jupyter-widgets/base",
          "model_name": "LayoutModel",
          "model_module_version": "1.2.0",
          "state": {
            "_model_module": "@jupyter-widgets/base",
            "_model_module_version": "1.2.0",
            "_model_name": "LayoutModel",
            "_view_count": null,
            "_view_module": "@jupyter-widgets/base",
            "_view_module_version": "1.2.0",
            "_view_name": "LayoutView",
            "align_content": null,
            "align_items": null,
            "align_self": null,
            "border": null,
            "bottom": null,
            "display": null,
            "flex": null,
            "flex_flow": null,
            "grid_area": null,
            "grid_auto_columns": null,
            "grid_auto_flow": null,
            "grid_auto_rows": null,
            "grid_column": null,
            "grid_gap": null,
            "grid_row": null,
            "grid_template_areas": null,
            "grid_template_columns": null,
            "grid_template_rows": null,
            "height": null,
            "justify_content": null,
            "justify_items": null,
            "left": null,
            "margin": null,
            "max_height": null,
            "max_width": null,
            "min_height": null,
            "min_width": null,
            "object_fit": null,
            "object_position": null,
            "order": null,
            "overflow": null,
            "overflow_x": null,
            "overflow_y": null,
            "padding": null,
            "right": null,
            "top": null,
            "visibility": null,
            "width": null
          }
        },
        "dd1fe923916d4c3996ffd32b15cff4d0": {
          "model_module": "@jupyter-widgets/base",
          "model_name": "LayoutModel",
          "model_module_version": "1.2.0",
          "state": {
            "_model_module": "@jupyter-widgets/base",
            "_model_module_version": "1.2.0",
            "_model_name": "LayoutModel",
            "_view_count": null,
            "_view_module": "@jupyter-widgets/base",
            "_view_module_version": "1.2.0",
            "_view_name": "LayoutView",
            "align_content": null,
            "align_items": null,
            "align_self": null,
            "border": null,
            "bottom": null,
            "display": null,
            "flex": null,
            "flex_flow": null,
            "grid_area": null,
            "grid_auto_columns": null,
            "grid_auto_flow": null,
            "grid_auto_rows": null,
            "grid_column": null,
            "grid_gap": null,
            "grid_row": null,
            "grid_template_areas": null,
            "grid_template_columns": null,
            "grid_template_rows": null,
            "height": null,
            "justify_content": null,
            "justify_items": null,
            "left": null,
            "margin": null,
            "max_height": null,
            "max_width": null,
            "min_height": null,
            "min_width": null,
            "object_fit": null,
            "object_position": null,
            "order": null,
            "overflow": null,
            "overflow_x": null,
            "overflow_y": null,
            "padding": null,
            "right": null,
            "top": null,
            "visibility": null,
            "width": null
          }
        },
        "bd31f1250e424c389ae191b6abcdea57": {
          "model_module": "@jupyter-widgets/controls",
          "model_name": "DescriptionStyleModel",
          "model_module_version": "1.5.0",
          "state": {
            "_model_module": "@jupyter-widgets/controls",
            "_model_module_version": "1.5.0",
            "_model_name": "DescriptionStyleModel",
            "_view_count": null,
            "_view_module": "@jupyter-widgets/base",
            "_view_module_version": "1.2.0",
            "_view_name": "StyleView",
            "description_width": ""
          }
        },
        "774e3b5e7e1c43f69bdff0f2b34c51e2": {
          "model_module": "@jupyter-widgets/base",
          "model_name": "LayoutModel",
          "model_module_version": "1.2.0",
          "state": {
            "_model_module": "@jupyter-widgets/base",
            "_model_module_version": "1.2.0",
            "_model_name": "LayoutModel",
            "_view_count": null,
            "_view_module": "@jupyter-widgets/base",
            "_view_module_version": "1.2.0",
            "_view_name": "LayoutView",
            "align_content": null,
            "align_items": null,
            "align_self": null,
            "border": null,
            "bottom": null,
            "display": null,
            "flex": null,
            "flex_flow": null,
            "grid_area": null,
            "grid_auto_columns": null,
            "grid_auto_flow": null,
            "grid_auto_rows": null,
            "grid_column": null,
            "grid_gap": null,
            "grid_row": null,
            "grid_template_areas": null,
            "grid_template_columns": null,
            "grid_template_rows": null,
            "height": null,
            "justify_content": null,
            "justify_items": null,
            "left": null,
            "margin": null,
            "max_height": null,
            "max_width": null,
            "min_height": null,
            "min_width": null,
            "object_fit": null,
            "object_position": null,
            "order": null,
            "overflow": null,
            "overflow_x": null,
            "overflow_y": null,
            "padding": null,
            "right": null,
            "top": null,
            "visibility": null,
            "width": null
          }
        },
        "8977a1ee9db548299a1beffadc23a157": {
          "model_module": "@jupyter-widgets/controls",
          "model_name": "ProgressStyleModel",
          "model_module_version": "1.5.0",
          "state": {
            "_model_module": "@jupyter-widgets/controls",
            "_model_module_version": "1.5.0",
            "_model_name": "ProgressStyleModel",
            "_view_count": null,
            "_view_module": "@jupyter-widgets/base",
            "_view_module_version": "1.2.0",
            "_view_name": "StyleView",
            "bar_color": null,
            "description_width": ""
          }
        },
        "dbea77cbd7dc4b5690a110967fbd741f": {
          "model_module": "@jupyter-widgets/base",
          "model_name": "LayoutModel",
          "model_module_version": "1.2.0",
          "state": {
            "_model_module": "@jupyter-widgets/base",
            "_model_module_version": "1.2.0",
            "_model_name": "LayoutModel",
            "_view_count": null,
            "_view_module": "@jupyter-widgets/base",
            "_view_module_version": "1.2.0",
            "_view_name": "LayoutView",
            "align_content": null,
            "align_items": null,
            "align_self": null,
            "border": null,
            "bottom": null,
            "display": null,
            "flex": null,
            "flex_flow": null,
            "grid_area": null,
            "grid_auto_columns": null,
            "grid_auto_flow": null,
            "grid_auto_rows": null,
            "grid_column": null,
            "grid_gap": null,
            "grid_row": null,
            "grid_template_areas": null,
            "grid_template_columns": null,
            "grid_template_rows": null,
            "height": null,
            "justify_content": null,
            "justify_items": null,
            "left": null,
            "margin": null,
            "max_height": null,
            "max_width": null,
            "min_height": null,
            "min_width": null,
            "object_fit": null,
            "object_position": null,
            "order": null,
            "overflow": null,
            "overflow_x": null,
            "overflow_y": null,
            "padding": null,
            "right": null,
            "top": null,
            "visibility": null,
            "width": null
          }
        },
        "1372aba20f2f4191b019fdb4ab16b6f0": {
          "model_module": "@jupyter-widgets/controls",
          "model_name": "DescriptionStyleModel",
          "model_module_version": "1.5.0",
          "state": {
            "_model_module": "@jupyter-widgets/controls",
            "_model_module_version": "1.5.0",
            "_model_name": "DescriptionStyleModel",
            "_view_count": null,
            "_view_module": "@jupyter-widgets/base",
            "_view_module_version": "1.2.0",
            "_view_name": "StyleView",
            "description_width": ""
          }
        },
        "5c1f88449fe84226b9f41535fd32520c": {
          "model_module": "@jupyter-widgets/controls",
          "model_name": "HBoxModel",
          "model_module_version": "1.5.0",
          "state": {
            "_dom_classes": [],
            "_model_module": "@jupyter-widgets/controls",
            "_model_module_version": "1.5.0",
            "_model_name": "HBoxModel",
            "_view_count": null,
            "_view_module": "@jupyter-widgets/controls",
            "_view_module_version": "1.5.0",
            "_view_name": "HBoxView",
            "box_style": "",
            "children": [
              "IPY_MODEL_c1e0841997054a8b906da354faf7c436",
              "IPY_MODEL_84e804f9c642493980044750f036c4ba",
              "IPY_MODEL_27017d312ec04ff79fdd2246c88284b4"
            ],
            "layout": "IPY_MODEL_89e14e561c604c6aa2976078726892ab"
          }
        },
        "c1e0841997054a8b906da354faf7c436": {
          "model_module": "@jupyter-widgets/controls",
          "model_name": "HTMLModel",
          "model_module_version": "1.5.0",
          "state": {
            "_dom_classes": [],
            "_model_module": "@jupyter-widgets/controls",
            "_model_module_version": "1.5.0",
            "_model_name": "HTMLModel",
            "_view_count": null,
            "_view_module": "@jupyter-widgets/controls",
            "_view_module_version": "1.5.0",
            "_view_name": "HTMLView",
            "description": "",
            "description_tooltip": null,
            "layout": "IPY_MODEL_a7f9cea2eefc4870868675430d9668c2",
            "placeholder": "​",
            "style": "IPY_MODEL_8c08b5c9fa8749fa8450480bb6c837a2",
            "value": ""
          }
        },
        "84e804f9c642493980044750f036c4ba": {
          "model_module": "@jupyter-widgets/controls",
          "model_name": "FloatProgressModel",
          "model_module_version": "1.5.0",
          "state": {
            "_dom_classes": [],
            "_model_module": "@jupyter-widgets/controls",
            "_model_module_version": "1.5.0",
            "_model_name": "FloatProgressModel",
            "_view_count": null,
            "_view_module": "@jupyter-widgets/controls",
            "_view_module_version": "1.5.0",
            "_view_name": "ProgressView",
            "bar_style": "success",
            "description": "",
            "description_tooltip": null,
            "layout": "IPY_MODEL_95afe7550f13414897c9c8f13e37d9c4",
            "max": 1,
            "min": 0,
            "orientation": "horizontal",
            "style": "IPY_MODEL_25d09c291411417e90f59e5e2a08e03a",
            "value": 1
          }
        },
        "27017d312ec04ff79fdd2246c88284b4": {
          "model_module": "@jupyter-widgets/controls",
          "model_name": "HTMLModel",
          "model_module_version": "1.5.0",
          "state": {
            "_dom_classes": [],
            "_model_module": "@jupyter-widgets/controls",
            "_model_module_version": "1.5.0",
            "_model_name": "HTMLModel",
            "_view_count": null,
            "_view_module": "@jupyter-widgets/controls",
            "_view_module_version": "1.5.0",
            "_view_name": "HTMLView",
            "description": "",
            "description_tooltip": null,
            "layout": "IPY_MODEL_fb47b815075a4ac991a76f9166cedfce",
            "placeholder": "​",
            "style": "IPY_MODEL_2eb8a6791aac4df389b3f960c2463644",
            "value": " 313/? [00:01&lt;00:00, 264.04it/s]"
          }
        },
        "89e14e561c604c6aa2976078726892ab": {
          "model_module": "@jupyter-widgets/base",
          "model_name": "LayoutModel",
          "model_module_version": "1.2.0",
          "state": {
            "_model_module": "@jupyter-widgets/base",
            "_model_module_version": "1.2.0",
            "_model_name": "LayoutModel",
            "_view_count": null,
            "_view_module": "@jupyter-widgets/base",
            "_view_module_version": "1.2.0",
            "_view_name": "LayoutView",
            "align_content": null,
            "align_items": null,
            "align_self": null,
            "border": null,
            "bottom": null,
            "display": null,
            "flex": null,
            "flex_flow": null,
            "grid_area": null,
            "grid_auto_columns": null,
            "grid_auto_flow": null,
            "grid_auto_rows": null,
            "grid_column": null,
            "grid_gap": null,
            "grid_row": null,
            "grid_template_areas": null,
            "grid_template_columns": null,
            "grid_template_rows": null,
            "height": null,
            "justify_content": null,
            "justify_items": null,
            "left": null,
            "margin": null,
            "max_height": null,
            "max_width": null,
            "min_height": null,
            "min_width": null,
            "object_fit": null,
            "object_position": null,
            "order": null,
            "overflow": null,
            "overflow_x": null,
            "overflow_y": null,
            "padding": null,
            "right": null,
            "top": null,
            "visibility": null,
            "width": null
          }
        },
        "a7f9cea2eefc4870868675430d9668c2": {
          "model_module": "@jupyter-widgets/base",
          "model_name": "LayoutModel",
          "model_module_version": "1.2.0",
          "state": {
            "_model_module": "@jupyter-widgets/base",
            "_model_module_version": "1.2.0",
            "_model_name": "LayoutModel",
            "_view_count": null,
            "_view_module": "@jupyter-widgets/base",
            "_view_module_version": "1.2.0",
            "_view_name": "LayoutView",
            "align_content": null,
            "align_items": null,
            "align_self": null,
            "border": null,
            "bottom": null,
            "display": null,
            "flex": null,
            "flex_flow": null,
            "grid_area": null,
            "grid_auto_columns": null,
            "grid_auto_flow": null,
            "grid_auto_rows": null,
            "grid_column": null,
            "grid_gap": null,
            "grid_row": null,
            "grid_template_areas": null,
            "grid_template_columns": null,
            "grid_template_rows": null,
            "height": null,
            "justify_content": null,
            "justify_items": null,
            "left": null,
            "margin": null,
            "max_height": null,
            "max_width": null,
            "min_height": null,
            "min_width": null,
            "object_fit": null,
            "object_position": null,
            "order": null,
            "overflow": null,
            "overflow_x": null,
            "overflow_y": null,
            "padding": null,
            "right": null,
            "top": null,
            "visibility": null,
            "width": null
          }
        },
        "8c08b5c9fa8749fa8450480bb6c837a2": {
          "model_module": "@jupyter-widgets/controls",
          "model_name": "DescriptionStyleModel",
          "model_module_version": "1.5.0",
          "state": {
            "_model_module": "@jupyter-widgets/controls",
            "_model_module_version": "1.5.0",
            "_model_name": "DescriptionStyleModel",
            "_view_count": null,
            "_view_module": "@jupyter-widgets/base",
            "_view_module_version": "1.2.0",
            "_view_name": "StyleView",
            "description_width": ""
          }
        },
        "95afe7550f13414897c9c8f13e37d9c4": {
          "model_module": "@jupyter-widgets/base",
          "model_name": "LayoutModel",
          "model_module_version": "1.2.0",
          "state": {
            "_model_module": "@jupyter-widgets/base",
            "_model_module_version": "1.2.0",
            "_model_name": "LayoutModel",
            "_view_count": null,
            "_view_module": "@jupyter-widgets/base",
            "_view_module_version": "1.2.0",
            "_view_name": "LayoutView",
            "align_content": null,
            "align_items": null,
            "align_self": null,
            "border": null,
            "bottom": null,
            "display": null,
            "flex": null,
            "flex_flow": null,
            "grid_area": null,
            "grid_auto_columns": null,
            "grid_auto_flow": null,
            "grid_auto_rows": null,
            "grid_column": null,
            "grid_gap": null,
            "grid_row": null,
            "grid_template_areas": null,
            "grid_template_columns": null,
            "grid_template_rows": null,
            "height": null,
            "justify_content": null,
            "justify_items": null,
            "left": null,
            "margin": null,
            "max_height": null,
            "max_width": null,
            "min_height": null,
            "min_width": null,
            "object_fit": null,
            "object_position": null,
            "order": null,
            "overflow": null,
            "overflow_x": null,
            "overflow_y": null,
            "padding": null,
            "right": null,
            "top": null,
            "visibility": null,
            "width": "20px"
          }
        },
        "25d09c291411417e90f59e5e2a08e03a": {
          "model_module": "@jupyter-widgets/controls",
          "model_name": "ProgressStyleModel",
          "model_module_version": "1.5.0",
          "state": {
            "_model_module": "@jupyter-widgets/controls",
            "_model_module_version": "1.5.0",
            "_model_name": "ProgressStyleModel",
            "_view_count": null,
            "_view_module": "@jupyter-widgets/base",
            "_view_module_version": "1.2.0",
            "_view_name": "StyleView",
            "bar_color": null,
            "description_width": ""
          }
        },
        "fb47b815075a4ac991a76f9166cedfce": {
          "model_module": "@jupyter-widgets/base",
          "model_name": "LayoutModel",
          "model_module_version": "1.2.0",
          "state": {
            "_model_module": "@jupyter-widgets/base",
            "_model_module_version": "1.2.0",
            "_model_name": "LayoutModel",
            "_view_count": null,
            "_view_module": "@jupyter-widgets/base",
            "_view_module_version": "1.2.0",
            "_view_name": "LayoutView",
            "align_content": null,
            "align_items": null,
            "align_self": null,
            "border": null,
            "bottom": null,
            "display": null,
            "flex": null,
            "flex_flow": null,
            "grid_area": null,
            "grid_auto_columns": null,
            "grid_auto_flow": null,
            "grid_auto_rows": null,
            "grid_column": null,
            "grid_gap": null,
            "grid_row": null,
            "grid_template_areas": null,
            "grid_template_columns": null,
            "grid_template_rows": null,
            "height": null,
            "justify_content": null,
            "justify_items": null,
            "left": null,
            "margin": null,
            "max_height": null,
            "max_width": null,
            "min_height": null,
            "min_width": null,
            "object_fit": null,
            "object_position": null,
            "order": null,
            "overflow": null,
            "overflow_x": null,
            "overflow_y": null,
            "padding": null,
            "right": null,
            "top": null,
            "visibility": null,
            "width": null
          }
        },
        "2eb8a6791aac4df389b3f960c2463644": {
          "model_module": "@jupyter-widgets/controls",
          "model_name": "DescriptionStyleModel",
          "model_module_version": "1.5.0",
          "state": {
            "_model_module": "@jupyter-widgets/controls",
            "_model_module_version": "1.5.0",
            "_model_name": "DescriptionStyleModel",
            "_view_count": null,
            "_view_module": "@jupyter-widgets/base",
            "_view_module_version": "1.2.0",
            "_view_name": "StyleView",
            "description_width": ""
          }
        }
      }
    }
  },
  "cells": [
    {
      "cell_type": "markdown",
      "metadata": {
        "id": "view-in-github",
        "colab_type": "text"
      },
      "source": [
        "<a href=\"https://colab.research.google.com/github/Umarsmuhammed/Arewa_DeepLearning/blob/main/Week_04_ComputerVision.ipynb\" target=\"_parent\"><img src=\"https://colab.research.google.com/assets/colab-badge.svg\" alt=\"Open In Colab\"/></a>"
      ]
    },
    {
      "cell_type": "markdown",
      "source": [
        "**PyTorch Computer Vision Assignment**"
      ],
      "metadata": {
        "id": "BzAkjsY5ET_g"
      }
    },
    {
      "cell_type": "code",
      "source": [
        "# Check for GPU\n",
        "!nvidia-smi"
      ],
      "metadata": {
        "colab": {
          "base_uri": "https://localhost:8080/"
        },
        "id": "iIiNEEoxFBBR",
        "outputId": "6e50e5b0-cca9-46cc-a1d5-3f8eaab9b33a"
      },
      "execution_count": null,
      "outputs": [
        {
          "output_type": "stream",
          "name": "stdout",
          "text": [
            "Fri Jan 19 14:17:27 2024       \n",
            "+---------------------------------------------------------------------------------------+\n",
            "| NVIDIA-SMI 535.104.05             Driver Version: 535.104.05   CUDA Version: 12.2     |\n",
            "|-----------------------------------------+----------------------+----------------------+\n",
            "| GPU  Name                 Persistence-M | Bus-Id        Disp.A | Volatile Uncorr. ECC |\n",
            "| Fan  Temp   Perf          Pwr:Usage/Cap |         Memory-Usage | GPU-Util  Compute M. |\n",
            "|                                         |                      |               MIG M. |\n",
            "|=========================================+======================+======================|\n",
            "|   0  Tesla T4                       Off | 00000000:00:04.0 Off |                    0 |\n",
            "| N/A   51C    P8              10W /  70W |      0MiB / 15360MiB |      0%      Default |\n",
            "|                                         |                      |                  N/A |\n",
            "+-----------------------------------------+----------------------+----------------------+\n",
            "                                                                                         \n",
            "+---------------------------------------------------------------------------------------+\n",
            "| Processes:                                                                            |\n",
            "|  GPU   GI   CI        PID   Type   Process name                            GPU Memory |\n",
            "|        ID   ID                                                             Usage      |\n",
            "|=======================================================================================|\n",
            "|  No running processes found                                                           |\n",
            "+---------------------------------------------------------------------------------------+\n"
          ]
        }
      ]
    },
    {
      "cell_type": "code",
      "source": [
        "# Import torch\n",
        "import torch\n",
        "\n",
        "# Exercises require PyTorch > 1.10.0\n",
        "print(torch.__version__)\n",
        "\n",
        "# TODO: Setup device agnostic code\n",
        "device = \"cuda\" if torch.cuda.is_available() else \"cpu\"\n",
        "device"
      ],
      "metadata": {
        "colab": {
          "base_uri": "https://localhost:8080/",
          "height": 53
        },
        "id": "-siH1aZBHfgv",
        "outputId": "9c34a18e-f6e0-438e-a4e7-40024d9cb968"
      },
      "execution_count": null,
      "outputs": [
        {
          "output_type": "stream",
          "name": "stdout",
          "text": [
            "2.1.0+cu121\n"
          ]
        },
        {
          "output_type": "execute_result",
          "data": {
            "text/plain": [
              "'cuda'"
            ],
            "application/vnd.google.colaboratory.intrinsic+json": {
              "type": "string"
            }
          },
          "metadata": {},
          "execution_count": 15
        }
      ]
    },
    {
      "cell_type": "markdown",
      "source": [
        "## 1. What are 3 areas in industry where computer vision is currently being used?\n",
        "\n",
        "###Answer:\n",
        "Computer vision is a field of artificial intelligence that enables computers to interpret and understand the visual world. It has numerous applications across various industries. Here are three areas where computer vision is currently being used:\n",
        "- Retail: Computer vision is used in retail to improve customer experience, optimize inventory management, and enhance security.\n",
        "\n",
        "- Healthcare: Computer vision is used in healthcare to improve patient outcomes, assist in diagnosis, and enhance medical imaging.  For example, computer vision can be used to detect early signs of diseases, analyze medical images, and assist in surgical procedures.\n",
        "\n",
        "- Manufacturing: Computer vision is used in manufacturing to improve quality control, optimize production processes, and enhance worker safety. For example, computer vision can be used to detect defects in products, monitor production lines, and ensure compliance with safety regulations."
      ],
      "metadata": {
        "id": "q0EIB8spHxYb"
      }
    },
    {
      "cell_type": "markdown",
      "source": [
        "## 2. Search \"what is overfitting in machine learning\" and write down a sentence about what you find.\n",
        "\n",
        "### Answer:\n",
        "Overfitting in machine learning is a situation where a model fits too closely to the training data and fails to generalize well to new data. This can happen when the model is too complex or the training data is too noisy. Overfitting can lead to high variance and low bias in the model's predictions, resulting in poor performance on unseen data. One way to detect overfitting is to use cross-validation, which splits the data into k subsets and evaluates the model on each subset after training on the rest. Another way to prevent overfitting is to use regularization, which adds a penalty term to the model's complexity or reduces the number of features."
      ],
      "metadata": {
        "id": "WxhdYZh0LuQv"
      }
    },
    {
      "cell_type": "markdown",
      "source": [
        "## 3. Search \"ways to prevent overfitting in machine learning\", write down 3 of the things you find and a sentence about each.\n",
        "\n",
        "###Answer:\n",
        "One of the challenges in machine learning is to prevent overfitting, which occurs when a model learns the training data too well and fails to generalize to new data. Here are three ways to prevent overfitting in machine learning:\n",
        "\n",
        "- Cross-validation: This technique involves splitting the data into multiple subsets, training the model on different combinations of subsets, and evaluating its performance on the remaining subsets. This helps to reduce the variance of the model and avoid overfitting to a specific subset of data.\n",
        "- Regularization: This technique involves adding a penalty term to the model's loss function, which reduces the complexity of the model and prevents it from learning irrelevant or noisy features. There are different types of regularization, such as L1 (lasso), L2 (ridge), and dropout.\n",
        "- Increasing training data: This technique involves adding more data to the training set, which helps to improve the model's ability to capture the underlying patterns and reduce the effect of noise. More data also reduces the chance of overfitting to a specific subset of data."
      ],
      "metadata": {
        "id": "4Orlt-2hMNzM"
      }
    },
    {
      "cell_type": "markdown",
      "source": [
        "## 4. Spend 20-minutes reading and clicking through the [CNN Explainer website](https://poloclub.github.io/cnn-explainer/).\n",
        "\n",
        "##Answer:\n",
        " I uploaded my own picture using the \"upload\" button on the website and utilise different features to see what happens in each layer of a CNN as my image passes through it."
      ],
      "metadata": {
        "id": "-6g8IrG1Ju91"
      }
    },
    {
      "cell_type": "markdown",
      "source": [
        "## 5. Load the [`torchvision.datasets.MNIST()`](https://pytorch.org/vision/stable/generated/torchvision.datasets.MNIST.html#torchvision.datasets.MNIST) train and test datasets."
      ],
      "metadata": {
        "id": "eNhBRyzqSz5a"
      }
    },
    {
      "cell_type": "code",
      "source": [
        "import torchvision\n",
        "from torchvision import datasets\n",
        "\n",
        "from torchvision import transforms\n",
        "\n",
        "# Get the MNIST train dataset\n",
        "train_data = datasets.MNIST(root=\".\",\n",
        "                            train=True,\n",
        "                            download=True,\n",
        "                            transform=transforms.ToTensor()) # do we want to transform the data as we download it?\n",
        "\n",
        "# Get the MNIST test dataset\n",
        "test_data = datasets.MNIST(root=\".\",\n",
        "                           train=False,\n",
        "                           download=True,\n",
        "                           transform=transforms.ToTensor())\n",
        "\n",
        "train_data, test_data"
      ],
      "metadata": {
        "colab": {
          "base_uri": "https://localhost:8080/"
        },
        "id": "VJfDhg-iTORv",
        "outputId": "27dcfeaf-ef6b-44a6-e347-4697049118bb"
      },
      "execution_count": null,
      "outputs": [
        {
          "output_type": "execute_result",
          "data": {
            "text/plain": [
              "(Dataset MNIST\n",
              "     Number of datapoints: 60000\n",
              "     Root location: .\n",
              "     Split: Train\n",
              "     StandardTransform\n",
              " Transform: ToTensor(),\n",
              " Dataset MNIST\n",
              "     Number of datapoints: 10000\n",
              "     Root location: .\n",
              "     Split: Test\n",
              "     StandardTransform\n",
              " Transform: ToTensor())"
            ]
          },
          "metadata": {},
          "execution_count": 16
        }
      ]
    },
    {
      "cell_type": "code",
      "source": [
        "# Data is in tuple form (image, label)\n",
        "img = train_data[0][0]\n",
        "label = train_data[0][1]\n",
        "print(f\"Image:\\n {img}\")\n",
        "print(f\"Label:\\n {label}\")"
      ],
      "metadata": {
        "colab": {
          "base_uri": "https://localhost:8080/"
        },
        "id": "MaoJGqXhT97p",
        "outputId": "25c8e87d-2573-4fb4-a8d7-08abaa67aaf2"
      },
      "execution_count": null,
      "outputs": [
        {
          "output_type": "stream",
          "name": "stdout",
          "text": [
            "Image:\n",
            " tensor([[[0.0000, 0.0000, 0.0000, 0.0000, 0.0000, 0.0000, 0.0000, 0.0000,\n",
            "          0.0000, 0.0000, 0.0000, 0.0000, 0.0000, 0.0000, 0.0000, 0.0000,\n",
            "          0.0000, 0.0000, 0.0000, 0.0000, 0.0000, 0.0000, 0.0000, 0.0000,\n",
            "          0.0000, 0.0000, 0.0000, 0.0000],\n",
            "         [0.0000, 0.0000, 0.0000, 0.0000, 0.0000, 0.0000, 0.0000, 0.0000,\n",
            "          0.0000, 0.0000, 0.0000, 0.0000, 0.0000, 0.0000, 0.0000, 0.0000,\n",
            "          0.0000, 0.0000, 0.0000, 0.0000, 0.0000, 0.0000, 0.0000, 0.0000,\n",
            "          0.0000, 0.0000, 0.0000, 0.0000],\n",
            "         [0.0000, 0.0000, 0.0000, 0.0000, 0.0000, 0.0000, 0.0000, 0.0000,\n",
            "          0.0000, 0.0000, 0.0000, 0.0000, 0.0000, 0.0000, 0.0000, 0.0000,\n",
            "          0.0000, 0.0000, 0.0000, 0.0000, 0.0000, 0.0000, 0.0000, 0.0000,\n",
            "          0.0000, 0.0000, 0.0000, 0.0000],\n",
            "         [0.0000, 0.0000, 0.0000, 0.0000, 0.0000, 0.0000, 0.0000, 0.0000,\n",
            "          0.0000, 0.0000, 0.0000, 0.0000, 0.0000, 0.0000, 0.0000, 0.0000,\n",
            "          0.0000, 0.0000, 0.0000, 0.0000, 0.0000, 0.0000, 0.0000, 0.0000,\n",
            "          0.0000, 0.0000, 0.0000, 0.0000],\n",
            "         [0.0000, 0.0000, 0.0000, 0.0000, 0.0000, 0.0000, 0.0000, 0.0000,\n",
            "          0.0000, 0.0000, 0.0000, 0.0000, 0.0000, 0.0000, 0.0000, 0.0000,\n",
            "          0.0000, 0.0000, 0.0000, 0.0000, 0.0000, 0.0000, 0.0000, 0.0000,\n",
            "          0.0000, 0.0000, 0.0000, 0.0000],\n",
            "         [0.0000, 0.0000, 0.0000, 0.0000, 0.0000, 0.0000, 0.0000, 0.0000,\n",
            "          0.0000, 0.0000, 0.0000, 0.0000, 0.0118, 0.0706, 0.0706, 0.0706,\n",
            "          0.4941, 0.5333, 0.6863, 0.1020, 0.6510, 1.0000, 0.9686, 0.4980,\n",
            "          0.0000, 0.0000, 0.0000, 0.0000],\n",
            "         [0.0000, 0.0000, 0.0000, 0.0000, 0.0000, 0.0000, 0.0000, 0.0000,\n",
            "          0.1176, 0.1412, 0.3686, 0.6039, 0.6667, 0.9922, 0.9922, 0.9922,\n",
            "          0.9922, 0.9922, 0.8824, 0.6745, 0.9922, 0.9490, 0.7647, 0.2510,\n",
            "          0.0000, 0.0000, 0.0000, 0.0000],\n",
            "         [0.0000, 0.0000, 0.0000, 0.0000, 0.0000, 0.0000, 0.0000, 0.1922,\n",
            "          0.9333, 0.9922, 0.9922, 0.9922, 0.9922, 0.9922, 0.9922, 0.9922,\n",
            "          0.9922, 0.9843, 0.3647, 0.3216, 0.3216, 0.2196, 0.1529, 0.0000,\n",
            "          0.0000, 0.0000, 0.0000, 0.0000],\n",
            "         [0.0000, 0.0000, 0.0000, 0.0000, 0.0000, 0.0000, 0.0000, 0.0706,\n",
            "          0.8588, 0.9922, 0.9922, 0.9922, 0.9922, 0.9922, 0.7765, 0.7137,\n",
            "          0.9686, 0.9451, 0.0000, 0.0000, 0.0000, 0.0000, 0.0000, 0.0000,\n",
            "          0.0000, 0.0000, 0.0000, 0.0000],\n",
            "         [0.0000, 0.0000, 0.0000, 0.0000, 0.0000, 0.0000, 0.0000, 0.0000,\n",
            "          0.3137, 0.6118, 0.4196, 0.9922, 0.9922, 0.8039, 0.0431, 0.0000,\n",
            "          0.1686, 0.6039, 0.0000, 0.0000, 0.0000, 0.0000, 0.0000, 0.0000,\n",
            "          0.0000, 0.0000, 0.0000, 0.0000],\n",
            "         [0.0000, 0.0000, 0.0000, 0.0000, 0.0000, 0.0000, 0.0000, 0.0000,\n",
            "          0.0000, 0.0549, 0.0039, 0.6039, 0.9922, 0.3529, 0.0000, 0.0000,\n",
            "          0.0000, 0.0000, 0.0000, 0.0000, 0.0000, 0.0000, 0.0000, 0.0000,\n",
            "          0.0000, 0.0000, 0.0000, 0.0000],\n",
            "         [0.0000, 0.0000, 0.0000, 0.0000, 0.0000, 0.0000, 0.0000, 0.0000,\n",
            "          0.0000, 0.0000, 0.0000, 0.5451, 0.9922, 0.7451, 0.0078, 0.0000,\n",
            "          0.0000, 0.0000, 0.0000, 0.0000, 0.0000, 0.0000, 0.0000, 0.0000,\n",
            "          0.0000, 0.0000, 0.0000, 0.0000],\n",
            "         [0.0000, 0.0000, 0.0000, 0.0000, 0.0000, 0.0000, 0.0000, 0.0000,\n",
            "          0.0000, 0.0000, 0.0000, 0.0431, 0.7451, 0.9922, 0.2745, 0.0000,\n",
            "          0.0000, 0.0000, 0.0000, 0.0000, 0.0000, 0.0000, 0.0000, 0.0000,\n",
            "          0.0000, 0.0000, 0.0000, 0.0000],\n",
            "         [0.0000, 0.0000, 0.0000, 0.0000, 0.0000, 0.0000, 0.0000, 0.0000,\n",
            "          0.0000, 0.0000, 0.0000, 0.0000, 0.1373, 0.9451, 0.8824, 0.6275,\n",
            "          0.4235, 0.0039, 0.0000, 0.0000, 0.0000, 0.0000, 0.0000, 0.0000,\n",
            "          0.0000, 0.0000, 0.0000, 0.0000],\n",
            "         [0.0000, 0.0000, 0.0000, 0.0000, 0.0000, 0.0000, 0.0000, 0.0000,\n",
            "          0.0000, 0.0000, 0.0000, 0.0000, 0.0000, 0.3176, 0.9412, 0.9922,\n",
            "          0.9922, 0.4667, 0.0980, 0.0000, 0.0000, 0.0000, 0.0000, 0.0000,\n",
            "          0.0000, 0.0000, 0.0000, 0.0000],\n",
            "         [0.0000, 0.0000, 0.0000, 0.0000, 0.0000, 0.0000, 0.0000, 0.0000,\n",
            "          0.0000, 0.0000, 0.0000, 0.0000, 0.0000, 0.0000, 0.1765, 0.7294,\n",
            "          0.9922, 0.9922, 0.5882, 0.1059, 0.0000, 0.0000, 0.0000, 0.0000,\n",
            "          0.0000, 0.0000, 0.0000, 0.0000],\n",
            "         [0.0000, 0.0000, 0.0000, 0.0000, 0.0000, 0.0000, 0.0000, 0.0000,\n",
            "          0.0000, 0.0000, 0.0000, 0.0000, 0.0000, 0.0000, 0.0000, 0.0627,\n",
            "          0.3647, 0.9882, 0.9922, 0.7333, 0.0000, 0.0000, 0.0000, 0.0000,\n",
            "          0.0000, 0.0000, 0.0000, 0.0000],\n",
            "         [0.0000, 0.0000, 0.0000, 0.0000, 0.0000, 0.0000, 0.0000, 0.0000,\n",
            "          0.0000, 0.0000, 0.0000, 0.0000, 0.0000, 0.0000, 0.0000, 0.0000,\n",
            "          0.0000, 0.9765, 0.9922, 0.9765, 0.2510, 0.0000, 0.0000, 0.0000,\n",
            "          0.0000, 0.0000, 0.0000, 0.0000],\n",
            "         [0.0000, 0.0000, 0.0000, 0.0000, 0.0000, 0.0000, 0.0000, 0.0000,\n",
            "          0.0000, 0.0000, 0.0000, 0.0000, 0.0000, 0.0000, 0.1804, 0.5098,\n",
            "          0.7176, 0.9922, 0.9922, 0.8118, 0.0078, 0.0000, 0.0000, 0.0000,\n",
            "          0.0000, 0.0000, 0.0000, 0.0000],\n",
            "         [0.0000, 0.0000, 0.0000, 0.0000, 0.0000, 0.0000, 0.0000, 0.0000,\n",
            "          0.0000, 0.0000, 0.0000, 0.0000, 0.1529, 0.5804, 0.8980, 0.9922,\n",
            "          0.9922, 0.9922, 0.9804, 0.7137, 0.0000, 0.0000, 0.0000, 0.0000,\n",
            "          0.0000, 0.0000, 0.0000, 0.0000],\n",
            "         [0.0000, 0.0000, 0.0000, 0.0000, 0.0000, 0.0000, 0.0000, 0.0000,\n",
            "          0.0000, 0.0000, 0.0941, 0.4471, 0.8667, 0.9922, 0.9922, 0.9922,\n",
            "          0.9922, 0.7882, 0.3059, 0.0000, 0.0000, 0.0000, 0.0000, 0.0000,\n",
            "          0.0000, 0.0000, 0.0000, 0.0000],\n",
            "         [0.0000, 0.0000, 0.0000, 0.0000, 0.0000, 0.0000, 0.0000, 0.0000,\n",
            "          0.0902, 0.2588, 0.8353, 0.9922, 0.9922, 0.9922, 0.9922, 0.7765,\n",
            "          0.3176, 0.0078, 0.0000, 0.0000, 0.0000, 0.0000, 0.0000, 0.0000,\n",
            "          0.0000, 0.0000, 0.0000, 0.0000],\n",
            "         [0.0000, 0.0000, 0.0000, 0.0000, 0.0000, 0.0000, 0.0706, 0.6706,\n",
            "          0.8588, 0.9922, 0.9922, 0.9922, 0.9922, 0.7647, 0.3137, 0.0353,\n",
            "          0.0000, 0.0000, 0.0000, 0.0000, 0.0000, 0.0000, 0.0000, 0.0000,\n",
            "          0.0000, 0.0000, 0.0000, 0.0000],\n",
            "         [0.0000, 0.0000, 0.0000, 0.0000, 0.2157, 0.6745, 0.8863, 0.9922,\n",
            "          0.9922, 0.9922, 0.9922, 0.9569, 0.5216, 0.0431, 0.0000, 0.0000,\n",
            "          0.0000, 0.0000, 0.0000, 0.0000, 0.0000, 0.0000, 0.0000, 0.0000,\n",
            "          0.0000, 0.0000, 0.0000, 0.0000],\n",
            "         [0.0000, 0.0000, 0.0000, 0.0000, 0.5333, 0.9922, 0.9922, 0.9922,\n",
            "          0.8314, 0.5294, 0.5176, 0.0627, 0.0000, 0.0000, 0.0000, 0.0000,\n",
            "          0.0000, 0.0000, 0.0000, 0.0000, 0.0000, 0.0000, 0.0000, 0.0000,\n",
            "          0.0000, 0.0000, 0.0000, 0.0000],\n",
            "         [0.0000, 0.0000, 0.0000, 0.0000, 0.0000, 0.0000, 0.0000, 0.0000,\n",
            "          0.0000, 0.0000, 0.0000, 0.0000, 0.0000, 0.0000, 0.0000, 0.0000,\n",
            "          0.0000, 0.0000, 0.0000, 0.0000, 0.0000, 0.0000, 0.0000, 0.0000,\n",
            "          0.0000, 0.0000, 0.0000, 0.0000],\n",
            "         [0.0000, 0.0000, 0.0000, 0.0000, 0.0000, 0.0000, 0.0000, 0.0000,\n",
            "          0.0000, 0.0000, 0.0000, 0.0000, 0.0000, 0.0000, 0.0000, 0.0000,\n",
            "          0.0000, 0.0000, 0.0000, 0.0000, 0.0000, 0.0000, 0.0000, 0.0000,\n",
            "          0.0000, 0.0000, 0.0000, 0.0000],\n",
            "         [0.0000, 0.0000, 0.0000, 0.0000, 0.0000, 0.0000, 0.0000, 0.0000,\n",
            "          0.0000, 0.0000, 0.0000, 0.0000, 0.0000, 0.0000, 0.0000, 0.0000,\n",
            "          0.0000, 0.0000, 0.0000, 0.0000, 0.0000, 0.0000, 0.0000, 0.0000,\n",
            "          0.0000, 0.0000, 0.0000, 0.0000]]])\n",
            "Label:\n",
            " 5\n"
          ]
        }
      ]
    },
    {
      "cell_type": "code",
      "source": [
        "# Get the class names from the dataset\n",
        "class_names = train_data.classes\n",
        "class_names"
      ],
      "metadata": {
        "colab": {
          "base_uri": "https://localhost:8080/"
        },
        "id": "uMv6yY9bU0Lq",
        "outputId": "6e763a7f-de6a-4012-b48e-0c2368cc919a"
      },
      "execution_count": null,
      "outputs": [
        {
          "output_type": "execute_result",
          "data": {
            "text/plain": [
              "['0 - zero',\n",
              " '1 - one',\n",
              " '2 - two',\n",
              " '3 - three',\n",
              " '4 - four',\n",
              " '5 - five',\n",
              " '6 - six',\n",
              " '7 - seven',\n",
              " '8 - eight',\n",
              " '9 - nine']"
            ]
          },
          "metadata": {},
          "execution_count": 18
        }
      ]
    },
    {
      "cell_type": "markdown",
      "source": [
        "###6. Visualize at least 5 different samples of the MNIST training dataset."
      ],
      "metadata": {
        "id": "Q2k3EXdIVeOj"
      }
    },
    {
      "cell_type": "code",
      "source": [
        "import matplotlib.pyplot as plt\n",
        "for i in range(5):\n",
        "  img = train_data[i][0]\n",
        "  print(img.shape)\n",
        "  img_squeeze = img.squeeze()\n",
        "  print(img_squeeze.shape)\n",
        "  label = train_data[i][1]\n",
        "  plt.figure(figsize=(3, 3))\n",
        "  plt.imshow(img_squeeze, cmap=\"gray\")\n",
        "  plt.title(label)\n",
        "  plt.axis(False);"
      ],
      "metadata": {
        "colab": {
          "base_uri": "https://localhost:8080/",
          "height": 1000
        },
        "id": "RDsmK1CVVpln",
        "outputId": "fdb63095-cd43-4f71-c306-3a5fdee13c8d"
      },
      "execution_count": null,
      "outputs": [
        {
          "output_type": "stream",
          "name": "stdout",
          "text": [
            "torch.Size([1, 28, 28])\n",
            "torch.Size([28, 28])\n",
            "torch.Size([1, 28, 28])\n",
            "torch.Size([28, 28])\n",
            "torch.Size([1, 28, 28])\n",
            "torch.Size([28, 28])\n",
            "torch.Size([1, 28, 28])\n",
            "torch.Size([28, 28])\n",
            "torch.Size([1, 28, 28])\n",
            "torch.Size([28, 28])\n"
          ]
        },
        {
          "output_type": "display_data",
          "data": {
            "text/plain": [
              "<Figure size 300x300 with 1 Axes>"
            ],
            "image/png": "[encoded data removed]"
          },
          "metadata": {}
        },
        {
          "output_type": "display_data",
          "data": {
            "text/plain": [
              "<Figure size 300x300 with 1 Axes>"
            ],
            "image/png": "[encoded data removed]"
          },
          "metadata": {}
        },
        {
          "output_type": "display_data",
          "data": {
            "text/plain": [
              "<Figure size 300x300 with 1 Axes>"
            ],
            "image/png": "[encoded data removed]"
          },
          "metadata": {}
        },
        {
          "output_type": "display_data",
          "data": {
            "text/plain": [
              "<Figure size 300x300 with 1 Axes>"
            ],
            "image/png": "[encoded data removed]"
          },
          "metadata": {}
        },
        {
          "output_type": "display_data",
          "data": {
            "text/plain": [
              "<Figure size 300x300 with 1 Axes>"
            ],
            "image/png": "[encoded data removed]"
          },
          "metadata": {}
        }
      ]
    },
    {
      "cell_type": "markdown",
      "source": [
        "###7. Turn the MNIST train and test datasets into dataloaders using torch.utils.data.DataLoader, set the batch_size=32."
      ],
      "metadata": {
        "id": "DnuDwLGoV88i"
      }
    },
    {
      "cell_type": "code",
      "source": [
        "# Create train dataloader\n",
        "from torch.utils.data import DataLoader\n",
        "\n",
        "train_dataloader = DataLoader(dataset=train_data,\n",
        "                              batch_size=32,\n",
        "                              shuffle=True)\n",
        "\n",
        "test_dataloader = DataLoader(dataset=test_data,\n",
        "                             batch_size=32,\n",
        "                             shuffle=False)\n",
        "train_dataloader, test_dataloader"
      ],
      "metadata": {
        "colab": {
          "base_uri": "https://localhost:8080/"
        },
        "id": "SbouLwhAWAPV",
        "outputId": "ae6fc45b-840f-430a-ed8d-0e2ce91ead41"
      },
      "execution_count": null,
      "outputs": [
        {
          "output_type": "execute_result",
          "data": {
            "text/plain": [
              "(<torch.utils.data.dataloader.DataLoader at 0x7993ee3edd80>,\n",
              " <torch.utils.data.dataloader.DataLoader at 0x7993ee3ed8a0>)"
            ]
          },
          "metadata": {},
          "execution_count": 20
        }
      ]
    },
    {
      "cell_type": "code",
      "source": [
        "for sample in next(iter(train_dataloader)):\n",
        "  print(sample.shape)"
      ],
      "metadata": {
        "colab": {
          "base_uri": "https://localhost:8080/"
        },
        "id": "dgh1n3BhWdar",
        "outputId": "933d832d-b91f-4933-a8b7-957a83928c52"
      },
      "execution_count": null,
      "outputs": [
        {
          "output_type": "stream",
          "name": "stdout",
          "text": [
            "torch.Size([32, 1, 28, 28])\n",
            "torch.Size([32])\n"
          ]
        }
      ]
    },
    {
      "cell_type": "code",
      "source": [
        "len(train_dataloader), len(test_dataloader)"
      ],
      "metadata": {
        "colab": {
          "base_uri": "https://localhost:8080/"
        },
        "id": "KS5QP1hCWhyb",
        "outputId": "81d352ac-4da0-4829-d8a4-06c33aa2e893"
      },
      "execution_count": null,
      "outputs": [
        {
          "output_type": "execute_result",
          "data": {
            "text/plain": [
              "(1875, 313)"
            ]
          },
          "metadata": {},
          "execution_count": 22
        }
      ]
    },
    {
      "cell_type": "markdown",
      "source": [
        "## 8. Recreate `model_2` used in notebook 03 (the same model from the [CNN Explainer website](https://poloclub.github.io/cnn-explainer/), also known as TinyVGG) capable of fitting on the MNIST dataset."
      ],
      "metadata": {
        "id": "99x0yQyTWvWy"
      }
    },
    {
      "cell_type": "code",
      "source": [
        "from torch import nn\n",
        "class MNIST_model(torch.nn.Module):\n",
        "  \"\"\"Model capable of predicting on MNIST dataset.\n",
        "  \"\"\"\n",
        "  def __init__(self, input_shape: int, hidden_units: int, output_shape: int):\n",
        "    super().__init__()\n",
        "    self.conv_block_1 = nn.Sequential(\n",
        "      nn.Conv2d(in_channels=input_shape,\n",
        "                out_channels=hidden_units,\n",
        "                kernel_size=3,\n",
        "                stride=1,\n",
        "                padding=1),\n",
        "      nn.ReLU(),\n",
        "      nn.Conv2d(in_channels=hidden_units,\n",
        "                out_channels=hidden_units,\n",
        "                kernel_size=3,\n",
        "                stride=1,\n",
        "                padding=1),\n",
        "      nn.ReLU(),\n",
        "      nn.MaxPool2d(kernel_size=2)\n",
        "    )\n",
        "    self.conv_block_2 = nn.Sequential(\n",
        "      nn.Conv2d(in_channels=hidden_units,\n",
        "                out_channels=hidden_units,\n",
        "                kernel_size=3,\n",
        "                stride=1,\n",
        "                padding=1),\n",
        "      nn.ReLU(),\n",
        "      nn.Conv2d(in_channels=hidden_units,\n",
        "                out_channels=hidden_units,\n",
        "                kernel_size=3,\n",
        "                stride=1,\n",
        "                padding=1),\n",
        "      nn.ReLU(),\n",
        "      nn.MaxPool2d(kernel_size=2)\n",
        "    )\n",
        "    self.classifier = nn.Sequential(\n",
        "      nn.Flatten(),\n",
        "      nn.Linear(in_features=hidden_units*7*7,\n",
        "                out_features=output_shape)\n",
        "    )\n",
        "\n",
        "  def forward(self, x):\n",
        "    x = self.conv_block_1(x)\n",
        "    # print(f\"Output shape of conv block 1: {x.shape}\")\n",
        "    x = self.conv_block_2(x)\n",
        "    # print(f\"Output shape of conv block 2: {x.shape}\")\n",
        "    x = self.classifier(x)\n",
        "    # print(f\"Output shape of classifier: {x.shape}\")\n",
        "    return x"
      ],
      "metadata": {
        "id": "Sqd3o3BOWxHU"
      },
      "execution_count": null,
      "outputs": []
    },
    {
      "cell_type": "code",
      "source": [
        "model = MNIST_model(input_shape=1,\n",
        "                    hidden_units=10,\n",
        "                    output_shape=10).to(device)\n",
        "model"
      ],
      "metadata": {
        "colab": {
          "base_uri": "https://localhost:8080/"
        },
        "id": "LoRt9YTnXD1p",
        "outputId": "2fd85ee5-7a68-46b8-adad-9f46e01821c9"
      },
      "execution_count": null,
      "outputs": [
        {
          "output_type": "execute_result",
          "data": {
            "text/plain": [
              "MNIST_model(\n",
              "  (conv_block_1): Sequential(\n",
              "    (0): Conv2d(1, 10, kernel_size=(3, 3), stride=(1, 1), padding=(1, 1))\n",
              "    (1): ReLU()\n",
              "    (2): Conv2d(10, 10, kernel_size=(3, 3), stride=(1, 1), padding=(1, 1))\n",
              "    (3): ReLU()\n",
              "    (4): MaxPool2d(kernel_size=2, stride=2, padding=0, dilation=1, ceil_mode=False)\n",
              "  )\n",
              "  (conv_block_2): Sequential(\n",
              "    (0): Conv2d(10, 10, kernel_size=(3, 3), stride=(1, 1), padding=(1, 1))\n",
              "    (1): ReLU()\n",
              "    (2): Conv2d(10, 10, kernel_size=(3, 3), stride=(1, 1), padding=(1, 1))\n",
              "    (3): ReLU()\n",
              "    (4): MaxPool2d(kernel_size=2, stride=2, padding=0, dilation=1, ceil_mode=False)\n",
              "  )\n",
              "  (classifier): Sequential(\n",
              "    (0): Flatten(start_dim=1, end_dim=-1)\n",
              "    (1): Linear(in_features=490, out_features=10, bias=True)\n",
              "  )\n",
              ")"
            ]
          },
          "metadata": {},
          "execution_count": 25
        }
      ]
    },
    {
      "cell_type": "code",
      "source": [
        "# Check out the model state dict to find out what patterns our model wants to learn\n",
        "model.state_dict()"
      ],
      "metadata": {
        "colab": {
          "base_uri": "https://localhost:8080/"
        },
        "id": "qN2ZV5OkXP7z",
        "outputId": "6046ae20-ba4a-4b6c-d9f6-fd42970dfbeb"
      },
      "execution_count": null,
      "outputs": [
        {
          "output_type": "execute_result",
          "data": {
            "text/plain": [
              "OrderedDict([('conv_block_1.0.weight',\n",
              "              tensor([[[[-2.1350e-01,  5.3221e-02, -2.3786e-01],\n",
              "                        [-1.6347e-01, -1.3616e-02,  1.2073e-01],\n",
              "                        [ 3.0681e-01, -3.2331e-01,  3.3276e-01]]],\n",
              "              \n",
              "              \n",
              "                      [[[ 3.2712e-01,  1.1108e-01, -1.7872e-01],\n",
              "                        [-1.8952e-01, -4.1735e-02,  3.2747e-01],\n",
              "                        [-4.3187e-02, -2.0211e-01, -3.2097e-01]]],\n",
              "              \n",
              "              \n",
              "                      [[[ 6.4426e-02,  1.2130e-01, -3.0616e-01],\n",
              "                        [ 6.4807e-02,  2.8103e-01,  2.1014e-01],\n",
              "                        [ 3.6189e-02, -5.5637e-02, -2.4454e-01]]],\n",
              "              \n",
              "              \n",
              "                      [[[ 2.4565e-02,  2.2209e-01,  2.2619e-01],\n",
              "                        [ 1.7514e-01,  1.6135e-01,  2.8157e-01],\n",
              "                        [-2.2383e-01, -1.8137e-01,  1.4167e-01]]],\n",
              "              \n",
              "              \n",
              "                      [[[ 1.1909e-01, -2.0263e-01, -1.2533e-01],\n",
              "                        [ 3.1050e-01, -7.2849e-02,  6.9133e-02],\n",
              "                        [ 2.4946e-01, -1.7383e-01,  1.3065e-01]]],\n",
              "              \n",
              "              \n",
              "                      [[[-2.0754e-01,  9.9583e-02,  3.0665e-01],\n",
              "                        [-2.0002e-01, -2.9963e-01,  1.0936e-01],\n",
              "                        [-1.6782e-01,  1.1314e-01,  3.1908e-01]]],\n",
              "              \n",
              "              \n",
              "                      [[[-2.2449e-01,  3.1867e-01, -7.7472e-03],\n",
              "                        [-9.8785e-02, -7.1499e-02,  3.3292e-01],\n",
              "                        [ 1.9338e-01,  9.7148e-02,  2.6584e-01]]],\n",
              "              \n",
              "              \n",
              "                      [[[-2.3366e-01,  1.2696e-01, -1.5328e-01],\n",
              "                        [-1.1427e-01, -1.2007e-01, -2.0790e-04],\n",
              "                        [ 2.0039e-01,  1.6990e-01, -2.7633e-01]]],\n",
              "              \n",
              "              \n",
              "                      [[[ 6.1183e-02,  3.2860e-01, -3.3323e-02],\n",
              "                        [ 3.0822e-01,  3.1900e-01,  2.6524e-01],\n",
              "                        [-3.2161e-01,  2.5883e-01,  1.5562e-01]]],\n",
              "              \n",
              "              \n",
              "                      [[[-1.0840e-01, -5.1535e-02, -1.5920e-01],\n",
              "                        [-3.2693e-01,  3.0571e-02, -2.2441e-01],\n",
              "                        [-2.1488e-01, -3.5141e-02,  1.9211e-01]]]], device='cuda:0')),\n",
              "             ('conv_block_1.0.bias',\n",
              "              tensor([-0.1319,  0.2738, -0.1057, -0.3277,  0.3146, -0.2027,  0.1905, -0.2024,\n",
              "                      -0.1410,  0.1770], device='cuda:0')),\n",
              "             ('conv_block_1.2.weight',\n",
              "              tensor([[[[-1.0430e-01,  1.0968e-02, -4.0334e-02],\n",
              "                        [-3.2488e-04,  7.7051e-02,  2.3684e-02],\n",
              "                        [ 3.0934e-03,  8.5715e-02,  3.3189e-02]],\n",
              "              \n",
              "                       [[-1.1808e-03, -6.4453e-03, -9.0100e-02],\n",
              "                        [ 5.2429e-02,  6.4997e-02,  4.8986e-02],\n",
              "                        [-3.2442e-03,  5.6868e-02,  4.3971e-02]],\n",
              "              \n",
              "                       [[ 7.6410e-02,  1.3939e-02,  3.5669e-02],\n",
              "                        [ 3.5848e-02, -7.2291e-03,  6.3700e-03],\n",
              "                        [ 5.1681e-02,  1.7772e-02, -6.7955e-02]],\n",
              "              \n",
              "                       [[ 9.0498e-03,  4.9435e-02,  1.0490e-01],\n",
              "                        [-5.1618e-02, -4.9911e-02, -7.7212e-03],\n",
              "                        [-1.0532e-01,  9.2018e-02, -1.8089e-02]],\n",
              "              \n",
              "                       [[ 1.0210e-01,  1.7280e-03, -7.7135e-02],\n",
              "                        [ 4.0626e-02,  3.8480e-02, -3.6481e-02],\n",
              "                        [-7.6870e-02, -1.2879e-02,  9.6632e-02]],\n",
              "              \n",
              "                       [[-8.4396e-03, -2.2896e-02,  2.4324e-02],\n",
              "                        [-5.7130e-02, -9.4399e-02, -2.7042e-02],\n",
              "                        [-1.7723e-03, -3.5552e-03, -6.3382e-02]],\n",
              "              \n",
              "                       [[-7.3900e-02, -6.3823e-02,  3.4106e-02],\n",
              "                        [ 1.0443e-01, -2.1136e-02,  2.9329e-02],\n",
              "                        [ 4.5509e-02, -5.8094e-02,  9.9149e-02]],\n",
              "              \n",
              "                       [[-9.1201e-02, -5.7390e-02,  4.5083e-02],\n",
              "                        [-4.6971e-02, -3.8925e-02,  7.2197e-02],\n",
              "                        [ 3.5328e-02, -5.3520e-03,  8.2272e-02]],\n",
              "              \n",
              "                       [[-5.7882e-02,  6.0308e-02,  6.0644e-02],\n",
              "                        [-6.7403e-02, -1.1844e-02, -9.7690e-02],\n",
              "                        [ 6.3109e-02,  5.3617e-02,  7.7135e-02]],\n",
              "              \n",
              "                       [[-7.4546e-02, -4.7499e-03,  4.3158e-02],\n",
              "                        [-2.4269e-02,  1.2268e-02,  7.3176e-03],\n",
              "                        [ 9.1161e-02, -2.0144e-02,  4.7614e-02]]],\n",
              "              \n",
              "              \n",
              "                      [[[-1.6697e-02, -7.5304e-02,  1.6244e-02],\n",
              "                        [ 3.3641e-02,  1.0361e-01, -7.6541e-02],\n",
              "                        [ 1.0400e-01, -7.4343e-02,  2.8874e-02]],\n",
              "              \n",
              "                       [[-1.0691e-02,  5.5086e-02,  2.0334e-03],\n",
              "                        [ 5.6529e-02, -3.1963e-02, -1.3772e-02],\n",
              "                        [-2.0674e-02,  9.9542e-02, -1.2867e-02]],\n",
              "              \n",
              "                       [[-2.0777e-02,  9.5079e-02,  7.9470e-04],\n",
              "                        [ 7.3300e-03,  5.8568e-02,  4.4369e-02],\n",
              "                        [ 9.9687e-02,  6.5464e-02,  6.0302e-02]],\n",
              "              \n",
              "                       [[ 8.2871e-02,  3.9426e-04, -7.3815e-02],\n",
              "                        [-2.8053e-02,  3.0974e-03,  8.3085e-02],\n",
              "                        [-2.7853e-02,  7.8069e-02,  8.0194e-02]],\n",
              "              \n",
              "                       [[-3.2791e-02, -3.0307e-02, -2.7308e-02],\n",
              "                        [-8.4923e-02, -2.3252e-02,  6.5195e-02],\n",
              "                        [-4.6641e-02,  6.6297e-02,  2.4023e-02]],\n",
              "              \n",
              "                       [[ 9.3926e-02,  4.9467e-02, -3.5902e-02],\n",
              "                        [ 8.2227e-02, -3.1345e-02, -7.0583e-02],\n",
              "                        [-2.4528e-02, -5.9736e-03, -1.2632e-03]],\n",
              "              \n",
              "                       [[ 3.7494e-02,  9.6546e-02, -7.4272e-02],\n",
              "                        [-1.5096e-02, -5.7917e-02,  4.5218e-02],\n",
              "                        [-8.0387e-02,  3.7437e-02,  3.5922e-02]],\n",
              "              \n",
              "                       [[-9.7677e-02,  5.0295e-02, -2.3485e-02],\n",
              "                        [ 7.4770e-02, -9.3971e-02, -1.0020e-02],\n",
              "                        [ 6.8305e-02, -2.5143e-03,  1.0203e-01]],\n",
              "              \n",
              "                       [[ 3.8623e-02, -2.8166e-03,  4.7255e-02],\n",
              "                        [-7.9562e-03,  7.1769e-02, -3.9559e-02],\n",
              "                        [-6.3737e-02,  4.9512e-02,  7.5718e-02]],\n",
              "              \n",
              "                       [[-2.9457e-02, -6.0621e-03, -1.3631e-03],\n",
              "                        [-5.7582e-02, -7.3095e-02,  3.8332e-02],\n",
              "                        [-6.5976e-02, -6.5737e-02,  7.7485e-02]]],\n",
              "              \n",
              "              \n",
              "                      [[[-5.8455e-02,  8.6879e-02,  2.3159e-02],\n",
              "                        [ 1.0332e-01,  5.6315e-02,  4.5875e-02],\n",
              "                        [ 9.8129e-03, -7.8872e-02, -5.3137e-02]],\n",
              "              \n",
              "                       [[-7.9668e-02, -8.6821e-02, -1.1400e-02],\n",
              "                        [-4.2334e-02,  2.1562e-02, -7.1711e-03],\n",
              "                        [ 5.0761e-02, -8.6556e-02,  2.6626e-02]],\n",
              "              \n",
              "                       [[ 7.6880e-02,  8.6573e-02,  3.3416e-02],\n",
              "                        [ 2.1036e-02, -8.8713e-02, -1.1094e-02],\n",
              "                        [ 1.1195e-02, -7.8944e-03, -1.4529e-02]],\n",
              "              \n",
              "                       [[ 6.6349e-02,  3.2629e-02, -3.0519e-02],\n",
              "                        [ 8.9471e-02,  5.9717e-02,  3.9298e-02],\n",
              "                        [-3.6491e-02, -4.6415e-03,  7.2807e-02]],\n",
              "              \n",
              "                       [[ 5.3662e-03,  1.0140e-01,  9.8586e-02],\n",
              "                        [ 2.8199e-03,  2.6840e-03,  2.2460e-02],\n",
              "                        [-3.3628e-02, -1.4938e-02,  2.9681e-02]],\n",
              "              \n",
              "                       [[-6.2786e-02,  9.8161e-02, -6.6254e-02],\n",
              "                        [ 4.3586e-02, -7.0870e-02, -1.0481e-01],\n",
              "                        [-8.5110e-03,  2.6712e-02,  8.2080e-02]],\n",
              "              \n",
              "                       [[ 3.3954e-02,  4.4827e-02,  2.5990e-02],\n",
              "                        [-3.6837e-02,  9.4250e-04,  1.0687e-02],\n",
              "                        [ 1.7132e-02,  7.5133e-02,  9.4906e-02]],\n",
              "              \n",
              "                       [[-1.5887e-02,  4.5690e-02,  1.0335e-02],\n",
              "                        [ 6.2730e-03,  5.5454e-02, -6.5680e-02],\n",
              "                        [ 6.1281e-02,  1.0082e-01, -2.2383e-02]],\n",
              "              \n",
              "                       [[-7.2307e-02,  2.6162e-02,  7.8622e-02],\n",
              "                        [-6.7020e-02,  3.2903e-02, -8.9685e-02],\n",
              "                        [ 3.6712e-02, -9.6168e-02,  2.2412e-02]],\n",
              "              \n",
              "                       [[ 1.0196e-01,  1.3365e-02, -3.3310e-02],\n",
              "                        [-6.1202e-03,  3.9302e-02, -6.9762e-02],\n",
              "                        [-3.3801e-02, -6.0941e-02,  9.4374e-02]]],\n",
              "              \n",
              "              \n",
              "                      [[[-5.4862e-02, -1.4169e-02,  1.0362e-01],\n",
              "                        [-8.6840e-03, -9.3090e-02, -1.0070e-02],\n",
              "                        [ 2.1813e-02, -3.7854e-02, -3.9161e-04]],\n",
              "              \n",
              "                       [[ 1.9843e-02, -4.8136e-02,  3.1269e-02],\n",
              "                        [ 2.0486e-02, -6.9225e-03,  8.6913e-02],\n",
              "                        [-8.5049e-02,  1.0104e-01, -1.0322e-01]],\n",
              "              \n",
              "                       [[-3.3640e-02, -9.9016e-02,  4.1650e-02],\n",
              "                        [ 3.5875e-02, -2.2596e-03, -1.4764e-02],\n",
              "                        [-6.8956e-02, -7.0269e-02,  3.5910e-02]],\n",
              "              \n",
              "                       [[ 3.0702e-02,  9.7189e-02,  3.4633e-03],\n",
              "                        [-1.6851e-02,  9.1973e-03,  5.5553e-05],\n",
              "                        [-7.8670e-02,  4.2989e-02,  5.4404e-02]],\n",
              "              \n",
              "                       [[ 8.7858e-02, -4.4373e-02, -4.9970e-02],\n",
              "                        [-5.2244e-02, -1.3569e-02, -1.0406e-01],\n",
              "                        [ 1.3478e-02, -5.9033e-02, -3.1183e-02]],\n",
              "              \n",
              "                       [[ 8.3528e-02, -3.5904e-02, -1.9469e-02],\n",
              "                        [-9.9069e-02,  4.3902e-02,  3.9339e-03],\n",
              "                        [-5.3479e-02, -6.3551e-02,  5.3760e-02]],\n",
              "              \n",
              "                       [[-1.5113e-02, -9.1036e-02,  2.2228e-03],\n",
              "                        [ 2.9074e-02, -2.1951e-02,  6.5790e-02],\n",
              "                        [-1.8391e-02, -5.7856e-02,  8.5794e-02]],\n",
              "              \n",
              "                       [[ 4.8620e-02,  5.8824e-04,  1.0110e-02],\n",
              "                        [-7.7828e-02, -4.7577e-02,  7.4710e-02],\n",
              "                        [ 1.8667e-02, -2.3747e-02,  5.6705e-02]],\n",
              "              \n",
              "                       [[ 9.4629e-02, -5.1466e-02,  4.5140e-02],\n",
              "                        [ 2.7020e-02, -3.0782e-02,  9.7604e-02],\n",
              "                        [-3.2685e-02,  7.8715e-02,  3.6447e-02]],\n",
              "              \n",
              "                       [[ 8.2638e-02, -7.0147e-02, -9.4699e-02],\n",
              "                        [ 8.4866e-02,  8.8729e-03, -9.7208e-02],\n",
              "                        [-3.5953e-02,  7.1022e-02,  1.9246e-02]]],\n",
              "              \n",
              "              \n",
              "                      [[[ 3.0232e-02,  7.0866e-02, -1.1287e-02],\n",
              "                        [-7.0261e-02,  6.6341e-02, -5.4979e-02],\n",
              "                        [-9.1906e-04, -4.0132e-02, -8.5408e-02]],\n",
              "              \n",
              "                       [[ 9.2369e-02,  6.5809e-02,  9.5190e-02],\n",
              "                        [-2.9358e-02,  2.1336e-02, -2.0493e-02],\n",
              "                        [ 3.8305e-02,  2.1468e-02, -9.8953e-02]],\n",
              "              \n",
              "                       [[ 1.5871e-02,  8.7509e-02,  2.5642e-02],\n",
              "                        [ 6.6557e-03, -1.3579e-02,  7.8214e-02],\n",
              "                        [ 9.0766e-02, -6.1659e-02, -8.5611e-02]],\n",
              "              \n",
              "                       [[ 7.4682e-02,  8.0017e-02,  7.1731e-02],\n",
              "                        [-5.2199e-02, -5.4358e-02, -6.8578e-02],\n",
              "                        [-5.2234e-02, -4.5501e-02,  4.0416e-02]],\n",
              "              \n",
              "                       [[ 7.4584e-02, -1.0215e-01,  1.7709e-02],\n",
              "                        [ 7.4533e-02,  1.1683e-03, -9.5290e-03],\n",
              "                        [ 7.3391e-02,  3.0567e-02, -2.5771e-02]],\n",
              "              \n",
              "                       [[ 1.4975e-02, -5.7517e-02,  8.6651e-02],\n",
              "                        [ 4.4985e-02,  1.2432e-03,  6.5814e-02],\n",
              "                        [-5.6369e-02, -3.4243e-02, -8.1830e-02]],\n",
              "              \n",
              "                       [[ 1.8173e-02, -1.0211e-01, -7.2725e-02],\n",
              "                        [ 3.5817e-02,  1.3027e-02,  3.5107e-02],\n",
              "                        [ 8.8739e-02, -5.3278e-02, -8.1973e-02]],\n",
              "              \n",
              "                       [[ 5.9185e-03,  4.9374e-02,  2.0357e-02],\n",
              "                        [-1.8190e-02, -1.3826e-02,  9.7807e-02],\n",
              "                        [ 4.4847e-02,  6.9799e-02,  5.4086e-02]],\n",
              "              \n",
              "                       [[-3.7204e-02,  3.4955e-02, -8.5686e-02],\n",
              "                        [ 9.0950e-02, -6.1883e-02, -5.9805e-02],\n",
              "                        [-5.3665e-02,  1.0291e-01, -4.1757e-02]],\n",
              "              \n",
              "                       [[-3.8062e-03,  4.8658e-02,  9.4538e-03],\n",
              "                        [ 8.1486e-02, -8.7879e-02,  2.4227e-02],\n",
              "                        [ 7.5942e-02, -3.9047e-02, -2.8149e-02]]],\n",
              "              \n",
              "              \n",
              "                      [[[-5.2623e-02,  8.1826e-02, -1.9624e-02],\n",
              "                        [ 5.8406e-03,  7.1000e-02, -4.3403e-02],\n",
              "                        [ 7.0805e-02,  2.6954e-02, -4.7159e-02]],\n",
              "              \n",
              "                       [[-1.9257e-03,  3.2690e-02,  4.4495e-02],\n",
              "                        [ 1.7037e-02, -2.8781e-02, -3.0460e-02],\n",
              "                        [-1.3941e-02,  4.6192e-02, -2.4148e-02]],\n",
              "              \n",
              "                       [[ 7.1404e-02, -3.4143e-02, -6.6633e-02],\n",
              "                        [ 8.7979e-02, -2.6464e-02, -2.7547e-02],\n",
              "                        [ 2.9318e-02, -1.4596e-02,  7.6231e-02]],\n",
              "              \n",
              "                       [[-1.6641e-02, -5.2544e-02, -8.4922e-03],\n",
              "                        [ 8.6201e-02,  6.4744e-02,  5.9985e-02],\n",
              "                        [-9.4546e-02,  9.6515e-02,  7.7425e-02]],\n",
              "              \n",
              "                       [[ 7.1118e-02, -9.5189e-02,  3.7530e-02],\n",
              "                        [-5.4105e-02,  5.7041e-02, -7.6002e-02],\n",
              "                        [-9.4737e-02,  2.1822e-02,  6.5819e-02]],\n",
              "              \n",
              "                       [[ 4.3831e-02, -1.0108e-01,  5.2289e-02],\n",
              "                        [-1.5058e-03,  3.4344e-02, -1.5471e-02],\n",
              "                        [-4.9513e-04, -3.0858e-02,  2.9344e-02]],\n",
              "              \n",
              "                       [[ 2.3591e-02, -1.7567e-02, -9.3224e-02],\n",
              "                        [ 1.1754e-02, -5.7005e-02,  7.9734e-02],\n",
              "                        [-4.2049e-02, -8.6265e-02, -3.5456e-02]],\n",
              "              \n",
              "                       [[ 1.4728e-02, -9.9559e-03, -9.5822e-02],\n",
              "                        [ 6.6347e-02,  2.9874e-02,  3.4473e-02],\n",
              "                        [-7.0479e-02,  6.1155e-02,  3.6155e-03]],\n",
              "              \n",
              "                       [[ 2.5200e-02, -3.7990e-03,  8.8682e-02],\n",
              "                        [-4.2966e-02, -8.6273e-02, -5.6927e-02],\n",
              "                        [ 2.6611e-02, -9.7131e-02,  5.3648e-02]],\n",
              "              \n",
              "                       [[ 4.0122e-02,  1.3468e-02,  5.1067e-03],\n",
              "                        [-1.6394e-02, -2.2672e-02,  7.9367e-02],\n",
              "                        [-2.0600e-02, -9.1657e-02, -6.5580e-02]]],\n",
              "              \n",
              "              \n",
              "                      [[[ 8.9880e-02, -4.3968e-02, -1.8932e-02],\n",
              "                        [ 8.8000e-02,  7.4655e-02, -8.3057e-02],\n",
              "                        [ 2.3677e-02, -1.4219e-02, -4.9606e-02]],\n",
              "              \n",
              "                       [[ 3.2033e-02,  5.8885e-02, -1.7877e-02],\n",
              "                        [-7.8837e-03,  3.3676e-02, -8.5866e-02],\n",
              "                        [ 3.8229e-02,  3.6873e-02,  7.9606e-03]],\n",
              "              \n",
              "                       [[ 4.6314e-02,  6.2129e-02, -2.1590e-02],\n",
              "                        [-4.1072e-02, -5.4663e-02, -9.8211e-02],\n",
              "                        [ 2.5255e-02, -9.6014e-02,  2.4569e-02]],\n",
              "              \n",
              "                       [[-1.0295e-01,  4.0736e-02, -6.7301e-02],\n",
              "                        [ 7.7056e-02, -3.7136e-02,  1.0315e-01],\n",
              "                        [ 6.8422e-02,  3.5850e-02, -8.0531e-02]],\n",
              "              \n",
              "                       [[ 6.2016e-02, -2.1177e-03, -5.3728e-02],\n",
              "                        [-3.4940e-02, -8.1257e-02, -1.6867e-02],\n",
              "                        [-9.6787e-02, -4.4105e-02,  6.0563e-02]],\n",
              "              \n",
              "                       [[ 4.6079e-02, -7.7413e-03, -2.0481e-02],\n",
              "                        [ 3.8239e-02,  9.2180e-02,  8.9736e-02],\n",
              "                        [ 2.2986e-02, -3.8762e-02,  8.3697e-02]],\n",
              "              \n",
              "                       [[-9.0685e-02, -8.4841e-02, -8.3073e-02],\n",
              "                        [ 8.1647e-03,  3.9666e-02, -4.7061e-02],\n",
              "                        [-5.6312e-02,  4.8994e-02,  3.8377e-02]],\n",
              "              \n",
              "                       [[-8.2666e-02, -1.2295e-02, -8.4564e-02],\n",
              "                        [ 8.9474e-02, -5.8378e-02,  6.4149e-02],\n",
              "                        [ 4.9483e-02, -5.5019e-02,  1.0002e-01]],\n",
              "              \n",
              "                       [[-5.6081e-04,  1.0422e-02,  1.5834e-02],\n",
              "                        [ 1.7976e-02,  1.0165e-01,  5.3842e-03],\n",
              "                        [ 6.9394e-02,  6.6750e-02, -8.9826e-02]],\n",
              "              \n",
              "                       [[-5.3354e-02, -1.6805e-02, -4.8638e-02],\n",
              "                        [ 6.8259e-02,  5.4240e-02,  6.3841e-02],\n",
              "                        [ 1.0123e-01, -4.3645e-02, -9.9236e-02]]],\n",
              "              \n",
              "              \n",
              "                      [[[ 7.8253e-02, -1.0371e-01, -9.7473e-02],\n",
              "                        [ 1.0901e-03,  6.8492e-02, -7.5767e-02],\n",
              "                        [ 1.9102e-02,  7.9007e-02,  2.7513e-02]],\n",
              "              \n",
              "                       [[-4.3509e-03, -2.7769e-02, -5.5642e-02],\n",
              "                        [-3.7447e-02, -6.8691e-02,  6.8259e-02],\n",
              "                        [-9.4654e-02,  1.4520e-02,  2.8285e-02]],\n",
              "              \n",
              "                       [[ 8.2685e-02, -6.7033e-03,  5.3689e-02],\n",
              "                        [ 8.3862e-02,  3.6848e-02,  9.9214e-03],\n",
              "                        [-3.7753e-02, -8.7694e-02, -9.5404e-02]],\n",
              "              \n",
              "                       [[-3.0979e-02,  6.7042e-02, -7.6757e-03],\n",
              "                        [-8.4482e-02,  1.2536e-02,  1.2870e-02],\n",
              "                        [ 5.3866e-02, -3.7870e-02, -7.3313e-02]],\n",
              "              \n",
              "                       [[ 8.1078e-02, -3.6481e-02, -1.9043e-02],\n",
              "                        [-7.9926e-02, -8.9878e-02, -4.2384e-02],\n",
              "                        [ 1.0847e-02,  3.8539e-02, -6.0772e-02]],\n",
              "              \n",
              "                       [[ 4.9620e-02, -5.7993e-02, -7.4068e-02],\n",
              "                        [-8.3536e-02, -1.0271e-01, -5.2033e-02],\n",
              "                        [ 7.0812e-02, -8.1420e-02,  9.8431e-04]],\n",
              "              \n",
              "                       [[ 5.1310e-02, -1.8467e-02, -9.8569e-02],\n",
              "                        [-5.4622e-02, -9.9993e-02,  2.4161e-02],\n",
              "                        [-7.0227e-02,  1.7397e-02, -1.9175e-02]],\n",
              "              \n",
              "                       [[-8.0329e-03,  1.4458e-02, -6.9009e-03],\n",
              "                        [ 3.1567e-02,  4.7193e-02, -3.1603e-02],\n",
              "                        [-3.5664e-02,  2.6093e-02,  7.4329e-02]],\n",
              "              \n",
              "                       [[-5.3702e-02,  8.2008e-03,  6.4662e-02],\n",
              "                        [-1.9458e-02,  5.8761e-02,  3.0305e-02],\n",
              "                        [-6.7077e-02,  5.9212e-02,  7.8181e-02]],\n",
              "              \n",
              "                       [[ 1.6661e-02, -2.9573e-02,  7.4614e-02],\n",
              "                        [-2.2935e-02, -7.5572e-02, -3.2317e-02],\n",
              "                        [ 8.4069e-02,  3.3105e-02, -3.3343e-02]]],\n",
              "              \n",
              "              \n",
              "                      [[[ 1.0238e-01, -4.9589e-02, -6.6934e-02],\n",
              "                        [-7.7872e-02, -6.5005e-02,  2.8450e-02],\n",
              "                        [ 6.9071e-02, -6.2807e-03, -1.0539e-01]],\n",
              "              \n",
              "                       [[-2.4945e-03, -3.9459e-02,  8.0115e-02],\n",
              "                        [ 4.2304e-02,  2.5488e-02,  1.6052e-02],\n",
              "                        [-4.9613e-02, -5.9229e-02, -6.4398e-02]],\n",
              "              \n",
              "                       [[ 1.4958e-02, -9.3807e-03,  7.9656e-02],\n",
              "                        [ 2.4636e-02,  2.3232e-02,  8.6765e-02],\n",
              "                        [ 4.0259e-02,  5.6432e-02,  8.2790e-02]],\n",
              "              \n",
              "                       [[-8.0686e-02,  6.6530e-03,  5.5919e-02],\n",
              "                        [-8.5092e-02,  1.9807e-02, -5.0174e-02],\n",
              "                        [-8.2999e-03, -4.9473e-02, -1.0196e-01]],\n",
              "              \n",
              "                       [[-7.1632e-02, -5.5182e-02, -5.0250e-02],\n",
              "                        [ 7.2611e-02, -6.4184e-02, -3.8936e-02],\n",
              "                        [ 5.1872e-02, -2.8024e-02, -9.2504e-02]],\n",
              "              \n",
              "                       [[-8.4160e-02, -1.8322e-02,  1.1804e-02],\n",
              "                        [ 6.8677e-02,  3.2561e-02, -6.5294e-02],\n",
              "                        [ 1.1780e-02, -3.8396e-02, -7.0326e-02]],\n",
              "              \n",
              "                       [[ 1.0465e-01,  8.5314e-02,  1.1567e-03],\n",
              "                        [-5.0019e-02, -1.0410e-01, -2.8903e-02],\n",
              "                        [ 5.1257e-02,  9.8647e-02,  2.8311e-03]],\n",
              "              \n",
              "                       [[-2.4643e-02, -7.7599e-03, -9.0836e-02],\n",
              "                        [ 1.5059e-02,  3.6416e-02,  1.5483e-02],\n",
              "                        [ 1.8750e-02,  6.4533e-02, -8.9634e-02]],\n",
              "              \n",
              "                       [[ 5.9598e-03, -1.7831e-02,  4.5381e-02],\n",
              "                        [ 1.9463e-02,  5.3372e-02, -7.0819e-02],\n",
              "                        [ 5.4870e-03, -9.2944e-02, -9.2559e-03]],\n",
              "              \n",
              "                       [[-9.4278e-02,  1.2008e-02,  3.8824e-03],\n",
              "                        [ 1.1789e-02,  2.8816e-02,  1.3228e-03],\n",
              "                        [ 2.1289e-02, -5.0187e-02,  1.6501e-02]]],\n",
              "              \n",
              "              \n",
              "                      [[[-2.3940e-02,  1.0119e-01, -7.3471e-02],\n",
              "                        [-1.0197e-01, -5.8126e-02,  2.5647e-03],\n",
              "                        [ 1.7070e-02,  1.7798e-02, -4.3777e-02]],\n",
              "              \n",
              "                       [[ 2.8755e-02,  3.5715e-02, -7.7898e-02],\n",
              "                        [ 9.2426e-02, -4.4135e-02, -5.9815e-02],\n",
              "                        [-8.5738e-02,  7.8342e-02,  4.5115e-02]],\n",
              "              \n",
              "                       [[-5.8849e-02, -1.2634e-02,  1.2010e-02],\n",
              "                        [ 2.3548e-02, -2.9378e-02, -3.6902e-02],\n",
              "                        [-5.7694e-02,  9.9516e-02,  7.9051e-02]],\n",
              "              \n",
              "                       [[-6.1264e-02, -9.4791e-02,  3.4241e-02],\n",
              "                        [-4.1712e-02,  6.9830e-02, -1.3234e-02],\n",
              "                        [-5.7362e-02, -1.0649e-02,  6.3535e-02]],\n",
              "              \n",
              "                       [[ 6.4729e-02,  9.7778e-02, -1.0282e-01],\n",
              "                        [-1.0455e-01,  4.0768e-02, -4.6294e-02],\n",
              "                        [-5.3188e-02, -3.6077e-02, -6.6444e-03]],\n",
              "              \n",
              "                       [[-7.8487e-02, -6.8843e-02,  8.5701e-02],\n",
              "                        [-2.6842e-02, -2.1455e-02,  8.3142e-02],\n",
              "                        [-5.3679e-02,  8.9013e-02, -7.2480e-02]],\n",
              "              \n",
              "                       [[ 3.1615e-02, -4.3393e-02,  2.7308e-02],\n",
              "                        [-3.1389e-02, -6.5914e-02,  6.6206e-02],\n",
              "                        [-7.5804e-02,  3.3193e-02,  2.1262e-02]],\n",
              "              \n",
              "                       [[-1.9109e-02, -2.1613e-02, -1.3990e-02],\n",
              "                        [ 3.7265e-02,  1.0022e-01,  1.4795e-03],\n",
              "                        [-7.4398e-02, -8.5668e-02,  5.9078e-02]],\n",
              "              \n",
              "                       [[ 5.1575e-02, -1.7835e-02,  1.8468e-02],\n",
              "                        [-2.1083e-02, -3.0451e-02,  3.5558e-02],\n",
              "                        [ 3.5601e-03,  1.6410e-02, -9.1836e-02]],\n",
              "              \n",
              "                       [[-5.0342e-02, -7.0060e-02, -5.0135e-02],\n",
              "                        [-9.6069e-02, -5.4507e-02,  8.2253e-02],\n",
              "                        [ 2.5289e-02, -8.8882e-02, -4.5527e-02]]]], device='cuda:0')),\n",
              "             ('conv_block_1.2.bias',\n",
              "              tensor([ 0.0262,  0.0318,  0.1043, -0.0995,  0.0576,  0.0826,  0.0524,  0.0326,\n",
              "                       0.0002,  0.0553], device='cuda:0')),\n",
              "             ('conv_block_2.0.weight',\n",
              "              tensor([[[[-0.0544, -0.0700,  0.0947],\n",
              "                        [ 0.0642,  0.0920, -0.0627],\n",
              "                        [-0.0350, -0.0583, -0.0451]],\n",
              "              \n",
              "                       [[-0.0593, -0.0039, -0.0881],\n",
              "                        [ 0.0415, -0.0746, -0.0058],\n",
              "                        [-0.0653,  0.1026, -0.1006]],\n",
              "              \n",
              "                       [[-0.0273, -0.0591, -0.0452],\n",
              "                        [-0.0929, -0.0901,  0.0118],\n",
              "                        [ 0.0593, -0.0138, -0.0585]],\n",
              "              \n",
              "                       [[ 0.0360,  0.0968,  0.0846],\n",
              "                        [-0.0797, -0.0458, -0.0210],\n",
              "                        [ 0.0042, -0.0863, -0.0723]],\n",
              "              \n",
              "                       [[ 0.0699, -0.0424, -0.0005],\n",
              "                        [-0.0693, -0.0996, -0.0201],\n",
              "                        [-0.0313, -0.0713, -0.0615]],\n",
              "              \n",
              "                       [[-0.1045, -0.0690,  0.0485],\n",
              "                        [-0.0532, -0.0274, -0.0521],\n",
              "                        [ 0.0219, -0.0456,  0.0697]],\n",
              "              \n",
              "                       [[ 0.0231,  0.1011, -0.0187],\n",
              "                        [ 0.0793, -0.0805, -0.0450],\n",
              "                        [ 0.0642, -0.0230,  0.0307]],\n",
              "              \n",
              "                       [[-0.0186, -0.0167, -0.0316],\n",
              "                        [ 0.0552, -0.0844,  0.0256],\n",
              "                        [-0.0467,  0.0542,  0.0500]],\n",
              "              \n",
              "                       [[-0.0275, -0.0124,  0.0178],\n",
              "                        [-0.0327, -0.0342,  0.0188],\n",
              "                        [ 0.0716,  0.0613,  0.0365]],\n",
              "              \n",
              "                       [[-0.0249,  0.0771, -0.0732],\n",
              "                        [-0.0721, -0.0500, -0.0107],\n",
              "                        [-0.0894, -0.1004, -0.0657]]],\n",
              "              \n",
              "              \n",
              "                      [[[-0.0078,  0.0994, -0.0940],\n",
              "                        [-0.0645,  0.0588, -0.0442],\n",
              "                        [-0.1007, -0.0181,  0.0129]],\n",
              "              \n",
              "                       [[-0.0385,  0.0592,  0.0709],\n",
              "                        [-0.0294, -0.0183,  0.0846],\n",
              "                        [-0.1042, -0.0111,  0.0968]],\n",
              "              \n",
              "                       [[-0.0482,  0.0624,  0.0112],\n",
              "                        [ 0.0551,  0.0224, -0.0741],\n",
              "                        [-0.0886,  0.0820,  0.0332]],\n",
              "              \n",
              "                       [[-0.0370, -0.0129, -0.0890],\n",
              "                        [ 0.0147,  0.0177,  0.0577],\n",
              "                        [ 0.0166, -0.0754, -0.0049]],\n",
              "              \n",
              "                       [[ 0.0731,  0.0715,  0.0090],\n",
              "                        [-0.0489, -0.0770, -0.0152],\n",
              "                        [ 0.0421,  0.0677,  0.0531]],\n",
              "              \n",
              "                       [[-0.0124,  0.0776,  0.0665],\n",
              "                        [ 0.0446, -0.0101,  0.0093],\n",
              "                        [-0.0143, -0.0335,  0.0759]],\n",
              "              \n",
              "                       [[-0.0514, -0.0724,  0.0508],\n",
              "                        [-0.1049,  0.0994, -0.0660],\n",
              "                        [-0.0437,  0.0842,  0.0556]],\n",
              "              \n",
              "                       [[ 0.0196, -0.0155,  0.0051],\n",
              "                        [ 0.0309, -0.0021, -0.0826],\n",
              "                        [-0.0811, -0.0143, -0.0146]],\n",
              "              \n",
              "                       [[ 0.1035, -0.0178,  0.0227],\n",
              "                        [-0.0010,  0.0284, -0.0289],\n",
              "                        [-0.0705, -0.0691, -0.0926]],\n",
              "              \n",
              "                       [[ 0.0048, -0.0299, -0.1036],\n",
              "                        [-0.0084,  0.0133, -0.1018],\n",
              "                        [ 0.0334,  0.0440, -0.0940]]],\n",
              "              \n",
              "              \n",
              "                      [[[-0.0553,  0.0951,  0.0578],\n",
              "                        [-0.0421, -0.0307, -0.0230],\n",
              "                        [ 0.0916,  0.0635, -0.0762]],\n",
              "              \n",
              "                       [[-0.0173, -0.0845,  0.0563],\n",
              "                        [-0.0012,  0.0920, -0.0342],\n",
              "                        [-0.1004, -0.0836,  0.0843]],\n",
              "              \n",
              "                       [[ 0.0815, -0.0723, -0.0366],\n",
              "                        [ 0.0944, -0.0106,  0.0860],\n",
              "                        [ 0.1032, -0.0058,  0.0102]],\n",
              "              \n",
              "                       [[ 0.0233, -0.1014, -0.0889],\n",
              "                        [-0.0614, -0.0092,  0.0970],\n",
              "                        [ 0.0686,  0.0765, -0.0575]],\n",
              "              \n",
              "                       [[-0.1002, -0.0461,  0.0009],\n",
              "                        [ 0.0018, -0.0927,  0.0197],\n",
              "                        [-0.0420,  0.0685, -0.0547]],\n",
              "              \n",
              "                       [[ 0.0175,  0.0689,  0.0617],\n",
              "                        [ 0.0096, -0.0750, -0.0979],\n",
              "                        [-0.0718,  0.0576, -0.1052]],\n",
              "              \n",
              "                       [[-0.0307,  0.1024,  0.0166],\n",
              "                        [-0.0583,  0.0550,  0.0259],\n",
              "                        [ 0.0444,  0.0296,  0.0814]],\n",
              "              \n",
              "                       [[ 0.0879, -0.0135,  0.0011],\n",
              "                        [-0.0691, -0.0562,  0.0503],\n",
              "                        [-0.0283, -0.0411, -0.0390]],\n",
              "              \n",
              "                       [[-0.0536, -0.0367, -0.0972],\n",
              "                        [-0.0774,  0.0125, -0.0244],\n",
              "                        [ 0.0004,  0.0319, -0.0362]],\n",
              "              \n",
              "                       [[-0.0108,  0.0387, -0.0237],\n",
              "                        [ 0.0070, -0.0381, -0.0985],\n",
              "                        [ 0.0952, -0.0930,  0.0367]]],\n",
              "              \n",
              "              \n",
              "                      [[[-0.0421, -0.0492, -0.1040],\n",
              "                        [-0.0834, -0.0411, -0.0794],\n",
              "                        [-0.0983, -0.0461,  0.0759]],\n",
              "              \n",
              "                       [[ 0.0601,  0.0989,  0.0307],\n",
              "                        [ 0.0984, -0.0394, -0.1042],\n",
              "                        [ 0.0427,  0.0391,  0.0290]],\n",
              "              \n",
              "                       [[-0.0857,  0.0851,  0.0276],\n",
              "                        [ 0.0999,  0.0116,  0.0336],\n",
              "                        [ 0.0399,  0.0485,  0.0277]],\n",
              "              \n",
              "                       [[-0.0486, -0.0795, -0.0748],\n",
              "                        [ 0.1026,  0.0931,  0.0236],\n",
              "                        [ 0.0824,  0.0566, -0.0056]],\n",
              "              \n",
              "                       [[-0.0479, -0.0378,  0.0622],\n",
              "                        [-0.0101, -0.0488, -0.0064],\n",
              "                        [-0.0198,  0.0448, -0.0057]],\n",
              "              \n",
              "                       [[ 0.0019, -0.0759, -0.0850],\n",
              "                        [-0.0533,  0.0937, -0.0840],\n",
              "                        [ 0.0723,  0.0105,  0.0705]],\n",
              "              \n",
              "                       [[-0.0648,  0.0437,  0.1036],\n",
              "                        [ 0.0367, -0.0647,  0.0829],\n",
              "                        [ 0.0638,  0.0290, -0.0833]],\n",
              "              \n",
              "                       [[ 0.1043, -0.0813, -0.0627],\n",
              "                        [-0.0860, -0.0751, -0.0711],\n",
              "                        [-0.0372, -0.0681, -0.0293]],\n",
              "              \n",
              "                       [[-0.0364,  0.0370, -0.0830],\n",
              "                        [ 0.0522,  0.0344, -0.0240],\n",
              "                        [ 0.0034,  0.0515,  0.0174]],\n",
              "              \n",
              "                       [[ 0.0486, -0.0006, -0.0686],\n",
              "                        [ 0.0192,  0.0377, -0.0108],\n",
              "                        [-0.0614,  0.0292, -0.0226]]],\n",
              "              \n",
              "              \n",
              "                      [[[-0.0357, -0.0163,  0.0345],\n",
              "                        [ 0.0794, -0.0891,  0.0384],\n",
              "                        [-0.0176,  0.0330, -0.0125]],\n",
              "              \n",
              "                       [[-0.0087,  0.0984,  0.0109],\n",
              "                        [-0.0665, -0.0985,  0.0934],\n",
              "                        [-0.0164,  0.0554, -0.0531]],\n",
              "              \n",
              "                       [[-0.0398,  0.0427, -0.0011],\n",
              "                        [ 0.0883,  0.0967,  0.0159],\n",
              "                        [-0.0475,  0.0580,  0.0549]],\n",
              "              \n",
              "                       [[-0.0759,  0.0710,  0.0581],\n",
              "                        [ 0.0252,  0.0620, -0.0604],\n",
              "                        [-0.0619,  0.0718, -0.0340]],\n",
              "              \n",
              "                       [[ 0.0759,  0.0641, -0.0851],\n",
              "                        [ 0.0984,  0.0401, -0.0628],\n",
              "                        [ 0.0157,  0.0749, -0.0800]],\n",
              "              \n",
              "                       [[ 0.1042, -0.0133,  0.0017],\n",
              "                        [ 0.0806, -0.0766, -0.0769],\n",
              "                        [-0.0705,  0.0151,  0.0347]],\n",
              "              \n",
              "                       [[-0.0977,  0.0292, -0.0987],\n",
              "                        [-0.0720, -0.0860,  0.0806],\n",
              "                        [ 0.0991, -0.0018, -0.0386]],\n",
              "              \n",
              "                       [[-0.0965, -0.0503,  0.0799],\n",
              "                        [-0.0412, -0.0254, -0.0217],\n",
              "                        [-0.0713,  0.0779,  0.0741]],\n",
              "              \n",
              "                       [[-0.0855, -0.0288,  0.0556],\n",
              "                        [ 0.0315, -0.0132,  0.0553],\n",
              "                        [-0.0847,  0.0965, -0.0762]],\n",
              "              \n",
              "                       [[ 0.0123,  0.0394,  0.0156],\n",
              "                        [ 0.0785, -0.0332,  0.0342],\n",
              "                        [ 0.0580,  0.0029, -0.0726]]],\n",
              "              \n",
              "              \n",
              "                      [[[ 0.0316, -0.0721, -0.0007],\n",
              "                        [ 0.0406,  0.0734,  0.0311],\n",
              "                        [ 0.0222, -0.0587,  0.0156]],\n",
              "              \n",
              "                       [[-0.0493,  0.0902, -0.0480],\n",
              "                        [-0.0631, -0.0684, -0.0962],\n",
              "                        [ 0.0772,  0.0575, -0.0103]],\n",
              "              \n",
              "                       [[-0.0655,  0.0919, -0.0265],\n",
              "                        [-0.0954, -0.0371, -0.0045],\n",
              "                        [ 0.0434,  0.0655, -0.0818]],\n",
              "              \n",
              "                       [[-0.0664, -0.0837, -0.0614],\n",
              "                        [-0.0669, -0.0817,  0.0351],\n",
              "                        [-0.0450,  0.0346,  0.0446]],\n",
              "              \n",
              "                       [[-0.0499, -0.0943,  0.0761],\n",
              "                        [ 0.0681, -0.0553,  0.0693],\n",
              "                        [ 0.0998, -0.0884,  0.0857]],\n",
              "              \n",
              "                       [[ 0.1010, -0.0350,  0.0218],\n",
              "                        [-0.0629, -0.0119,  0.0132],\n",
              "                        [ 0.0674, -0.0881, -0.0073]],\n",
              "              \n",
              "                       [[ 0.0870,  0.0781,  0.0493],\n",
              "                        [-0.0643,  0.0777,  0.0386],\n",
              "                        [-0.0020, -0.0636,  0.0343]],\n",
              "              \n",
              "                       [[ 0.0457, -0.0891,  0.0010],\n",
              "                        [-0.0242,  0.0425, -0.0911],\n",
              "                        [ 0.0570, -0.0151,  0.0918]],\n",
              "              \n",
              "                       [[ 0.0763,  0.0062,  0.0159],\n",
              "                        [ 0.0041,  0.0988, -0.1037],\n",
              "                        [-0.0345, -0.0449, -0.0806]],\n",
              "              \n",
              "                       [[ 0.0851,  0.1013, -0.0874],\n",
              "                        [ 0.0432,  0.0110, -0.0636],\n",
              "                        [ 0.0691,  0.0629, -0.0371]]],\n",
              "              \n",
              "              \n",
              "                      [[[ 0.0336, -0.0778,  0.0059],\n",
              "                        [-0.0648, -0.0980,  0.0790],\n",
              "                        [-0.0492,  0.0727, -0.0633]],\n",
              "              \n",
              "                       [[-0.0257, -0.0974, -0.0918],\n",
              "                        [ 0.0811, -0.0746, -0.0305],\n",
              "                        [ 0.0034, -0.0364,  0.0440]],\n",
              "              \n",
              "                       [[ 0.0298,  0.0541, -0.0690],\n",
              "                        [-0.0187, -0.0989,  0.0817],\n",
              "                        [ 0.0072,  0.0112,  0.0903]],\n",
              "              \n",
              "                       [[ 0.0976, -0.0767, -0.0915],\n",
              "                        [-0.0537,  0.0563, -0.0247],\n",
              "                        [-0.0539, -0.0741, -0.0087]],\n",
              "              \n",
              "                       [[-0.0172, -0.0926, -0.0016],\n",
              "                        [-0.0967, -0.0279, -0.0485],\n",
              "                        [ 0.0188,  0.0442,  0.0805]],\n",
              "              \n",
              "                       [[-0.0645,  0.0854, -0.0688],\n",
              "                        [-0.0113, -0.0478,  0.0127],\n",
              "                        [ 0.0355, -0.0813,  0.0503]],\n",
              "              \n",
              "                       [[-0.0333,  0.0556, -0.0155],\n",
              "                        [ 0.0379, -0.0048,  0.0463],\n",
              "                        [-0.0127,  0.0767, -0.0027]],\n",
              "              \n",
              "                       [[-0.0498, -0.0210, -0.0661],\n",
              "                        [-0.0949,  0.0165,  0.0746],\n",
              "                        [-0.0247,  0.0491, -0.0619]],\n",
              "              \n",
              "                       [[ 0.0384, -0.0918, -0.0260],\n",
              "                        [ 0.0493,  0.0969,  0.0957],\n",
              "                        [ 0.0493, -0.0419, -0.0042]],\n",
              "              \n",
              "                       [[-0.0355, -0.0549, -0.0137],\n",
              "                        [-0.1004, -0.0970, -0.0516],\n",
              "                        [-0.0480, -0.0219,  0.0832]]],\n",
              "              \n",
              "              \n",
              "                      [[[ 0.0142,  0.0219, -0.0419],\n",
              "                        [-0.0899, -0.0298,  0.0472],\n",
              "                        [-0.0356,  0.0025,  0.0331]],\n",
              "              \n",
              "                       [[ 0.0335,  0.0409,  0.0356],\n",
              "                        [ 0.0145,  0.0150, -0.0109],\n",
              "                        [-0.1003, -0.0539,  0.0809]],\n",
              "              \n",
              "                       [[-0.0444, -0.1025,  0.0476],\n",
              "                        [-0.0688,  0.0569,  0.0863],\n",
              "                        [-0.0153,  0.0794, -0.0999]],\n",
              "              \n",
              "                       [[-0.0432, -0.0020,  0.0123],\n",
              "                        [ 0.0994,  0.0484, -0.0766],\n",
              "                        [ 0.0501,  0.0038,  0.0951]],\n",
              "              \n",
              "                       [[-0.0746,  0.0609,  0.0379],\n",
              "                        [-0.0095, -0.0645,  0.0443],\n",
              "                        [ 0.0331,  0.0195,  0.0909]],\n",
              "              \n",
              "                       [[-0.0561,  0.0826, -0.0618],\n",
              "                        [-0.0724, -0.0039, -0.0046],\n",
              "                        [-0.0814,  0.0709, -0.0685]],\n",
              "              \n",
              "                       [[ 0.0419, -0.0737,  0.0102],\n",
              "                        [-0.0993, -0.0170,  0.0673],\n",
              "                        [ 0.0537,  0.0397,  0.0307]],\n",
              "              \n",
              "                       [[-0.0527,  0.0844, -0.0098],\n",
              "                        [-0.0286, -0.0655,  0.0949],\n",
              "                        [ 0.0031, -0.0968, -0.0570]],\n",
              "              \n",
              "                       [[ 0.0256,  0.0313, -0.0268],\n",
              "                        [-0.0826,  0.0921, -0.0702],\n",
              "                        [ 0.0695, -0.0394, -0.0908]],\n",
              "              \n",
              "                       [[-0.0280, -0.0598,  0.0266],\n",
              "                        [ 0.0878, -0.0177,  0.0200],\n",
              "                        [ 0.0034, -0.0596, -0.0247]]],\n",
              "              \n",
              "              \n",
              "                      [[[ 0.0191, -0.0735, -0.0069],\n",
              "                        [ 0.0230, -0.0850, -0.0111],\n",
              "                        [ 0.0721, -0.0685,  0.0713]],\n",
              "              \n",
              "                       [[ 0.0502, -0.1010,  0.0310],\n",
              "                        [-0.0262,  0.0270,  0.0500],\n",
              "                        [ 0.0279, -0.0954,  0.1001]],\n",
              "              \n",
              "                       [[-0.1045,  0.0714,  0.0341],\n",
              "                        [ 0.1004, -0.0239,  0.0647],\n",
              "                        [ 0.0423, -0.0062,  0.0516]],\n",
              "              \n",
              "                       [[-0.0261,  0.0439,  0.0887],\n",
              "                        [ 0.0084, -0.0331,  0.0396],\n",
              "                        [ 0.0015,  0.0685, -0.0598]],\n",
              "              \n",
              "                       [[ 0.0812, -0.0176, -0.0516],\n",
              "                        [-0.0793, -0.0402, -0.0132],\n",
              "                        [-0.0209,  0.1048,  0.0424]],\n",
              "              \n",
              "                       [[ 0.0648, -0.0548,  0.0850],\n",
              "                        [ 0.0544, -0.0233,  0.0985],\n",
              "                        [ 0.0905, -0.1004, -0.0106]],\n",
              "              \n",
              "                       [[-0.1021,  0.0413,  0.0632],\n",
              "                        [ 0.0426,  0.0250, -0.0607],\n",
              "                        [ 0.0355,  0.0916,  0.0382]],\n",
              "              \n",
              "                       [[-0.0735, -0.0859,  0.0401],\n",
              "                        [-0.0568, -0.0665,  0.0351],\n",
              "                        [ 0.1053, -0.0390, -0.1007]],\n",
              "              \n",
              "                       [[-0.0559,  0.0587, -0.1020],\n",
              "                        [ 0.0562, -0.0486,  0.0474],\n",
              "                        [ 0.0445,  0.0761,  0.0392]],\n",
              "              \n",
              "                       [[-0.1036, -0.0418, -0.0819],\n",
              "                        [-0.0250,  0.0960, -0.0657],\n",
              "                        [ 0.0005, -0.0742,  0.0492]]],\n",
              "              \n",
              "              \n",
              "                      [[[-0.0148, -0.0827,  0.0526],\n",
              "                        [ 0.1035,  0.0037, -0.0708],\n",
              "                        [ 0.0581,  0.0617,  0.1026]],\n",
              "              \n",
              "                       [[-0.1008,  0.0894, -0.0722],\n",
              "                        [ 0.0059,  0.0744, -0.0069],\n",
              "                        [-0.0774, -0.0459,  0.0472]],\n",
              "              \n",
              "                       [[-0.0396,  0.0151, -0.0575],\n",
              "                        [ 0.1019, -0.0372, -0.0982],\n",
              "                        [-0.0666, -0.0438, -0.0517]],\n",
              "              \n",
              "                       [[ 0.0122,  0.0357, -0.0839],\n",
              "                        [-0.0634,  0.0691,  0.1025],\n",
              "                        [ 0.0243,  0.0814,  0.0529]],\n",
              "              \n",
              "                       [[ 0.0627,  0.0772,  0.0209],\n",
              "                        [ 0.0966,  0.0554,  0.0686],\n",
              "                        [ 0.0994,  0.0932,  0.0585]],\n",
              "              \n",
              "                       [[-0.0639,  0.0530,  0.0961],\n",
              "                        [ 0.0925, -0.0886,  0.0890],\n",
              "                        [-0.0461, -0.0863,  0.0536]],\n",
              "              \n",
              "                       [[ 0.0137, -0.0961, -0.0395],\n",
              "                        [ 0.0237,  0.0905,  0.0770],\n",
              "                        [ 0.0923, -0.0052,  0.1008]],\n",
              "              \n",
              "                       [[-0.0145, -0.0038,  0.0856],\n",
              "                        [ 0.0023,  0.0120,  0.0876],\n",
              "                        [ 0.0256, -0.0117,  0.0939]],\n",
              "              \n",
              "                       [[-0.0758,  0.0839,  0.0854],\n",
              "                        [ 0.0279,  0.0787,  0.0453],\n",
              "                        [-0.0391,  0.0407,  0.0959]],\n",
              "              \n",
              "                       [[-0.0022, -0.0683, -0.1028],\n",
              "                        [ 0.0740, -0.0429,  0.0013],\n",
              "                        [-0.0084, -0.0048, -0.0503]]]], device='cuda:0')),\n",
              "             ('conv_block_2.0.bias',\n",
              "              tensor([ 0.0464,  0.0314, -0.0624, -0.0863,  0.0138, -0.0447, -0.0245,  0.0635,\n",
              "                      -0.0494, -0.0865], device='cuda:0')),\n",
              "             ('conv_block_2.2.weight',\n",
              "              tensor([[[[-0.0366,  0.0638,  0.0103],\n",
              "                        [-0.1020,  0.0162,  0.0784],\n",
              "                        [-0.0490,  0.0637,  0.0874]],\n",
              "              \n",
              "                       [[ 0.0295,  0.0471,  0.0326],\n",
              "                        [ 0.0602, -0.0669,  0.1040],\n",
              "                        [-0.0948,  0.0482,  0.0753]],\n",
              "              \n",
              "                       [[-0.0174, -0.0169, -0.0724],\n",
              "                        [ 0.0707, -0.0188, -0.0425],\n",
              "                        [ 0.0414,  0.0508,  0.0096]],\n",
              "              \n",
              "                       [[ 0.0869,  0.0115, -0.0744],\n",
              "                        [-0.0822, -0.0790, -0.0903],\n",
              "                        [ 0.0515, -0.0956, -0.0430]],\n",
              "              \n",
              "                       [[-0.0438,  0.0187, -0.0912],\n",
              "                        [-0.0449,  0.0378,  0.0683],\n",
              "                        [-0.0922,  0.0020, -0.0793]],\n",
              "              \n",
              "                       [[-0.0038, -0.0265,  0.0536],\n",
              "                        [-0.0760, -0.0955,  0.0777],\n",
              "                        [ 0.0855, -0.0392, -0.0873]],\n",
              "              \n",
              "                       [[-0.0400, -0.0193,  0.0821],\n",
              "                        [ 0.0686, -0.0516, -0.0947],\n",
              "                        [-0.0184,  0.0577, -0.0441]],\n",
              "              \n",
              "                       [[-0.0635,  0.0511,  0.0588],\n",
              "                        [-0.0016, -0.0954, -0.0852],\n",
              "                        [ 0.0224, -0.0206,  0.0569]],\n",
              "              \n",
              "                       [[-0.0248,  0.0453, -0.0300],\n",
              "                        [ 0.0877, -0.0864,  0.0588],\n",
              "                        [-0.0247,  0.0557,  0.0458]],\n",
              "              \n",
              "                       [[ 0.0396,  0.0693, -0.0858],\n",
              "                        [ 0.0966, -0.0810, -0.0992],\n",
              "                        [-0.0354, -0.0723, -0.0687]]],\n",
              "              \n",
              "              \n",
              "                      [[[ 0.0809,  0.0850, -0.0102],\n",
              "                        [ 0.0834,  0.0866, -0.0900],\n",
              "                        [-0.0255,  0.0742, -0.0058]],\n",
              "              \n",
              "                       [[-0.0587, -0.0247, -0.0452],\n",
              "                        [-0.0668, -0.0634, -0.0633],\n",
              "                        [ 0.0927,  0.0764,  0.0852]],\n",
              "              \n",
              "                       [[-0.0938, -0.0963,  0.0864],\n",
              "                        [ 0.0247,  0.0229, -0.0467],\n",
              "                        [ 0.0729,  0.0670,  0.0020]],\n",
              "              \n",
              "                       [[-0.0865, -0.0618, -0.0626],\n",
              "                        [-0.0546,  0.0459, -0.0723],\n",
              "                        [ 0.1004, -0.0226, -0.1010]],\n",
              "              \n",
              "                       [[ 0.0960, -0.0665, -0.0713],\n",
              "                        [ 0.0356,  0.0161,  0.0628],\n",
              "                        [-0.0273, -0.0232,  0.1000]],\n",
              "              \n",
              "                       [[-0.0349, -0.0091,  0.0260],\n",
              "                        [ 0.0989,  0.0347,  0.0462],\n",
              "                        [-0.0591,  0.0866,  0.0275]],\n",
              "              \n",
              "                       [[ 0.0272,  0.0521,  0.0691],\n",
              "                        [-0.0133,  0.0349,  0.0914],\n",
              "                        [-0.1028, -0.0227, -0.0869]],\n",
              "              \n",
              "                       [[-0.0678,  0.0339, -0.0144],\n",
              "                        [-0.0993,  0.0900,  0.0834],\n",
              "                        [ 0.0871,  0.1014, -0.0305]],\n",
              "              \n",
              "                       [[ 0.0993,  0.0933,  0.0446],\n",
              "                        [-0.0890,  0.0591,  0.0324],\n",
              "                        [-0.0784,  0.0046,  0.0685]],\n",
              "              \n",
              "                       [[ 0.0096,  0.0202, -0.0309],\n",
              "                        [ 0.0873, -0.0713, -0.0485],\n",
              "                        [-0.0821, -0.0550,  0.0476]]],\n",
              "              \n",
              "              \n",
              "                      [[[ 0.0269, -0.0430, -0.0720],\n",
              "                        [ 0.0355, -0.0479,  0.0565],\n",
              "                        [-0.1013,  0.0081,  0.0883]],\n",
              "              \n",
              "                       [[ 0.0220, -0.0394,  0.0735],\n",
              "                        [ 0.0003, -0.0205, -0.0079],\n",
              "                        [ 0.0249, -0.0855, -0.0029]],\n",
              "              \n",
              "                       [[ 0.0752,  0.0896,  0.0437],\n",
              "                        [-0.0002,  0.0468, -0.0852],\n",
              "                        [-0.0982, -0.0738,  0.0294]],\n",
              "              \n",
              "                       [[ 0.0253,  0.0670, -0.0269],\n",
              "                        [-0.0473,  0.0402,  0.0613],\n",
              "                        [ 0.0768,  0.0261, -0.0575]],\n",
              "              \n",
              "                       [[ 0.0707,  0.0777, -0.0909],\n",
              "                        [-0.0904, -0.1006,  0.0703],\n",
              "                        [-0.0757, -0.0558, -0.0644]],\n",
              "              \n",
              "                       [[ 0.0057,  0.0051, -0.0392],\n",
              "                        [ 0.0848, -0.0451, -0.0084],\n",
              "                        [-0.0937, -0.0444, -0.0952]],\n",
              "              \n",
              "                       [[ 0.0495,  0.0387, -0.0325],\n",
              "                        [-0.0433, -0.0389,  0.0640],\n",
              "                        [-0.0724, -0.0728,  0.0991]],\n",
              "              \n",
              "                       [[-0.0761,  0.0925,  0.0125],\n",
              "                        [ 0.0080,  0.0279,  0.0103],\n",
              "                        [-0.1038,  0.0979, -0.0383]],\n",
              "              \n",
              "                       [[-0.0957,  0.0536,  0.0151],\n",
              "                        [ 0.0177, -0.0779, -0.0702],\n",
              "                        [ 0.0996,  0.0014,  0.0315]],\n",
              "              \n",
              "                       [[ 0.0308,  0.0762,  0.0932],\n",
              "                        [-0.0051, -0.0692,  0.0109],\n",
              "                        [-0.0328,  0.0353, -0.0873]]],\n",
              "              \n",
              "              \n",
              "                      [[[-0.0064, -0.0738, -0.0544],\n",
              "                        [ 0.0838,  0.0095, -0.0402],\n",
              "                        [-0.0867,  0.0717,  0.0752]],\n",
              "              \n",
              "                       [[-0.0814, -0.0068,  0.0161],\n",
              "                        [-0.0506, -0.0840,  0.0080],\n",
              "                        [ 0.0392, -0.0454, -0.0469]],\n",
              "              \n",
              "                       [[-0.0737,  0.0414, -0.0331],\n",
              "                        [ 0.0915, -0.0152,  0.1015],\n",
              "                        [-0.0123, -0.0811, -0.0822]],\n",
              "              \n",
              "                       [[ 0.0158,  0.1003,  0.0167],\n",
              "                        [-0.0692,  0.1047, -0.0481],\n",
              "                        [-0.0711,  0.0196,  0.0876]],\n",
              "              \n",
              "                       [[ 0.0271, -0.0953, -0.0309],\n",
              "                        [ 0.0398, -0.0272,  0.0282],\n",
              "                        [-0.0498, -0.0891, -0.0081]],\n",
              "              \n",
              "                       [[ 0.0251,  0.0153, -0.0585],\n",
              "                        [-0.0208,  0.0329, -0.0069],\n",
              "                        [ 0.0862, -0.0887, -0.0926]],\n",
              "              \n",
              "                       [[-0.0226, -0.0755,  0.0309],\n",
              "                        [ 0.0912, -0.0395, -0.0417],\n",
              "                        [-0.0614,  0.0694,  0.0119]],\n",
              "              \n",
              "                       [[-0.0351,  0.0223, -0.0581],\n",
              "                        [ 0.0531,  0.0181, -0.0169],\n",
              "                        [-0.0094, -0.0234, -0.0144]],\n",
              "              \n",
              "                       [[-0.0510,  0.0458,  0.0386],\n",
              "                        [-0.0477,  0.0339, -0.0913],\n",
              "                        [ 0.0655, -0.0735,  0.0547]],\n",
              "              \n",
              "                       [[-0.0389,  0.0761, -0.0091],\n",
              "                        [ 0.0882, -0.0099,  0.0194],\n",
              "                        [ 0.0935, -0.0428,  0.0958]]],\n",
              "              \n",
              "              \n",
              "                      [[[ 0.0935,  0.0785, -0.0207],\n",
              "                        [-0.0529, -0.0438,  0.0935],\n",
              "                        [ 0.0403, -0.0240, -0.0153]],\n",
              "              \n",
              "                       [[-0.0456, -0.0942,  0.0949],\n",
              "                        [-0.0255,  0.0607, -0.0198],\n",
              "                        [ 0.0727,  0.0934,  0.0123]],\n",
              "              \n",
              "                       [[ 0.0210, -0.0440, -0.0609],\n",
              "                        [ 0.0511,  0.0869,  0.0760],\n",
              "                        [-0.0484,  0.0966,  0.0543]],\n",
              "              \n",
              "                       [[ 0.0743, -0.0641,  0.0001],\n",
              "                        [-0.0093,  0.0464, -0.0511],\n",
              "                        [-0.0374,  0.0586,  0.0437]],\n",
              "              \n",
              "                       [[-0.0425, -0.1030,  0.0239],\n",
              "                        [-0.0670, -0.0067,  0.0577],\n",
              "                        [ 0.0183, -0.0588,  0.1004]],\n",
              "              \n",
              "                       [[ 0.0141,  0.0144, -0.0674],\n",
              "                        [ 0.0608,  0.0020, -0.0664],\n",
              "                        [-0.0538,  0.0484, -0.0172]],\n",
              "              \n",
              "                       [[-0.0306,  0.0747, -0.0411],\n",
              "                        [-0.0531, -0.0601, -0.0422],\n",
              "                        [ 0.0210, -0.0687,  0.0533]],\n",
              "              \n",
              "                       [[ 0.1030, -0.0215,  0.0752],\n",
              "                        [ 0.0600, -0.0147,  0.0012],\n",
              "                        [-0.0935, -0.0029,  0.0442]],\n",
              "              \n",
              "                       [[-0.0800, -0.0727, -0.0500],\n",
              "                        [ 0.0118,  0.0192,  0.0570],\n",
              "                        [-0.0223,  0.0785, -0.0241]],\n",
              "              \n",
              "                       [[-0.0400,  0.0736, -0.0880],\n",
              "                        [-0.0511, -0.0577, -0.0990],\n",
              "                        [ 0.0903, -0.0884, -0.0732]]],\n",
              "              \n",
              "              \n",
              "                      [[[ 0.0501,  0.0702, -0.0693],\n",
              "                        [-0.0748,  0.0176, -0.0855],\n",
              "                        [-0.0690, -0.0698, -0.0747]],\n",
              "              \n",
              "                       [[-0.0151,  0.0959, -0.0930],\n",
              "                        [ 0.0393,  0.0847,  0.0811],\n",
              "                        [ 0.1031, -0.0980,  0.0671]],\n",
              "              \n",
              "                       [[ 0.0129, -0.0088, -0.0279],\n",
              "                        [ 0.0486,  0.0503, -0.0943],\n",
              "                        [ 0.0517,  0.0480, -0.0557]],\n",
              "              \n",
              "                       [[-0.0094, -0.0190,  0.0076],\n",
              "                        [ 0.0982, -0.0392,  0.0856],\n",
              "                        [-0.0652, -0.0969, -0.0307]],\n",
              "              \n",
              "                       [[-0.0909,  0.0165,  0.0438],\n",
              "                        [ 0.0327,  0.1017, -0.0585],\n",
              "                        [-0.0564, -0.0419,  0.0830]],\n",
              "              \n",
              "                       [[ 0.0198, -0.0764, -0.0031],\n",
              "                        [-0.0692, -0.0788, -0.0779],\n",
              "                        [-0.0508,  0.0286,  0.0860]],\n",
              "              \n",
              "                       [[ 0.0204, -0.0703, -0.0710],\n",
              "                        [ 0.0813,  0.0771,  0.0091],\n",
              "                        [-0.0734,  0.0789,  0.0051]],\n",
              "              \n",
              "                       [[ 0.0217,  0.0419,  0.0525],\n",
              "                        [ 0.0894, -0.0916,  0.0548],\n",
              "                        [ 0.0260,  0.0037,  0.0897]],\n",
              "              \n",
              "                       [[-0.0411,  0.0147, -0.0530],\n",
              "                        [ 0.0719,  0.0175, -0.0577],\n",
              "                        [-0.0984,  0.0178, -0.0509]],\n",
              "              \n",
              "                       [[ 0.0215,  0.0641, -0.0781],\n",
              "                        [ 0.0550, -0.0123,  0.1053],\n",
              "                        [ 0.0165, -0.0260, -0.0081]]],\n",
              "              \n",
              "              \n",
              "                      [[[ 0.0352,  0.0771,  0.0415],\n",
              "                        [-0.0895, -0.0927, -0.0988],\n",
              "                        [-0.0954,  0.0720,  0.0956]],\n",
              "              \n",
              "                       [[-0.0299,  0.0256, -0.0518],\n",
              "                        [-0.0633,  0.0576, -0.0251],\n",
              "                        [-0.0675,  0.0987,  0.0589]],\n",
              "              \n",
              "                       [[-0.0857,  0.0864,  0.0207],\n",
              "                        [ 0.1049, -0.0040, -0.0612],\n",
              "                        [-0.0184, -0.0969, -0.0880]],\n",
              "              \n",
              "                       [[-0.0251, -0.0198,  0.0222],\n",
              "                        [ 0.0998,  0.0681,  0.0872],\n",
              "                        [-0.0021, -0.0289, -0.0310]],\n",
              "              \n",
              "                       [[ 0.0108, -0.0468, -0.0977],\n",
              "                        [ 0.0729,  0.0270,  0.0011],\n",
              "                        [ 0.0404,  0.0315,  0.0407]],\n",
              "              \n",
              "                       [[-0.0510,  0.0943,  0.0726],\n",
              "                        [ 0.0843, -0.0720, -0.0497],\n",
              "                        [ 0.0085, -0.0047, -0.0136]],\n",
              "              \n",
              "                       [[ 0.0364,  0.0239,  0.0777],\n",
              "                        [-0.0108, -0.0366,  0.1011],\n",
              "                        [ 0.0762, -0.0453, -0.0239]],\n",
              "              \n",
              "                       [[-0.0794,  0.0586,  0.0074],\n",
              "                        [-0.0881, -0.0585,  0.0348],\n",
              "                        [-0.0208,  0.1037, -0.0946]],\n",
              "              \n",
              "                       [[-0.0238,  0.0552, -0.0166],\n",
              "                        [-0.0566, -0.0118,  0.0634],\n",
              "                        [-0.1032, -0.0472, -0.0872]],\n",
              "              \n",
              "                       [[-0.0232, -0.0705, -0.0166],\n",
              "                        [ 0.0731,  0.0546,  0.0105],\n",
              "                        [ 0.0511,  0.1015, -0.0477]]],\n",
              "              \n",
              "              \n",
              "                      [[[ 0.0528, -0.0515,  0.0011],\n",
              "                        [-0.0660, -0.0611, -0.0778],\n",
              "                        [ 0.0119, -0.0697,  0.0118]],\n",
              "              \n",
              "                       [[ 0.0056, -0.0877, -0.0241],\n",
              "                        [-0.0780,  0.0211, -0.0210],\n",
              "                        [-0.1016,  0.0951,  0.0944]],\n",
              "              \n",
              "                       [[ 0.0560, -0.0790, -0.0849],\n",
              "                        [-0.0230,  0.0483, -0.0566],\n",
              "                        [ 0.0095, -0.0126,  0.0231]],\n",
              "              \n",
              "                       [[ 0.0725, -0.0925,  0.0417],\n",
              "                        [-0.0399, -0.0527,  0.0655],\n",
              "                        [-0.0503, -0.0310,  0.0026]],\n",
              "              \n",
              "                       [[-0.0558, -0.0734,  0.0046],\n",
              "                        [ 0.1012,  0.0546, -0.0682],\n",
              "                        [ 0.0512, -0.0158, -0.0639]],\n",
              "              \n",
              "                       [[-0.0059, -0.0526,  0.0010],\n",
              "                        [-0.0716, -0.0410,  0.0432],\n",
              "                        [ 0.0564, -0.0947,  0.0471]],\n",
              "              \n",
              "                       [[-0.0594,  0.0700,  0.0876],\n",
              "                        [ 0.0338,  0.0196,  0.0646],\n",
              "                        [ 0.0026,  0.0747,  0.0819]],\n",
              "              \n",
              "                       [[-0.0902,  0.0175, -0.0355],\n",
              "                        [-0.0463,  0.0951, -0.0930],\n",
              "                        [-0.0009, -0.0262,  0.0976]],\n",
              "              \n",
              "                       [[-0.0221, -0.0168,  0.0417],\n",
              "                        [-0.0192, -0.0123,  0.0314],\n",
              "                        [ 0.0978,  0.0849,  0.0829]],\n",
              "              \n",
              "                       [[ 0.0666, -0.0649, -0.0957],\n",
              "                        [ 0.0094,  0.0740, -0.0727],\n",
              "                        [-0.0759, -0.0873,  0.0741]]],\n",
              "              \n",
              "              \n",
              "                      [[[-0.0891,  0.0733, -0.0491],\n",
              "                        [ 0.0669,  0.0701, -0.0975],\n",
              "                        [-0.0284, -0.0049,  0.0874]],\n",
              "              \n",
              "                       [[ 0.0270,  0.0849,  0.0404],\n",
              "                        [ 0.0405, -0.0187, -0.0635],\n",
              "                        [ 0.0151,  0.0593, -0.0598]],\n",
              "              \n",
              "                       [[ 0.0911,  0.0801,  0.0511],\n",
              "                        [-0.0086, -0.0497, -0.1030],\n",
              "                        [ 0.0902,  0.0198, -0.0286]],\n",
              "              \n",
              "                       [[ 0.0915,  0.0665, -0.0805],\n",
              "                        [ 0.0380, -0.0094,  0.0103],\n",
              "                        [ 0.0296,  0.0348,  0.0881]],\n",
              "              \n",
              "                       [[-0.0695,  0.0883,  0.0946],\n",
              "                        [-0.0131, -0.1019,  0.0300],\n",
              "                        [-0.0370,  0.0960,  0.0388]],\n",
              "              \n",
              "                       [[-0.0146, -0.0890, -0.0516],\n",
              "                        [-0.0331, -0.0597,  0.0228],\n",
              "                        [ 0.0588, -0.0599,  0.0482]],\n",
              "              \n",
              "                       [[-0.0206, -0.0150,  0.1037],\n",
              "                        [ 0.0865, -0.0335,  0.0759],\n",
              "                        [-0.0268, -0.0632, -0.0798]],\n",
              "              \n",
              "                       [[-0.0828, -0.0496, -0.0625],\n",
              "                        [ 0.0154,  0.0905, -0.0534],\n",
              "                        [ 0.0432,  0.0445, -0.0628]],\n",
              "              \n",
              "                       [[-0.0193, -0.0305,  0.0935],\n",
              "                        [ 0.0529,  0.0965,  0.0103],\n",
              "                        [-0.1020,  0.0179,  0.0873]],\n",
              "              \n",
              "                       [[-0.0527, -0.0887, -0.0699],\n",
              "                        [ 0.0911,  0.0633, -0.0459],\n",
              "                        [ 0.0600, -0.0049,  0.0076]]],\n",
              "              \n",
              "              \n",
              "                      [[[ 0.0397,  0.0864,  0.0467],\n",
              "                        [-0.0262,  0.0890,  0.0329],\n",
              "                        [-0.0003,  0.0443,  0.0362]],\n",
              "              \n",
              "                       [[ 0.0183,  0.0678,  0.0554],\n",
              "                        [ 0.0722, -0.0180,  0.0616],\n",
              "                        [ 0.0838,  0.0781, -0.0954]],\n",
              "              \n",
              "                       [[ 0.0630,  0.0103, -0.0653],\n",
              "                        [ 0.0226,  0.0735, -0.0635],\n",
              "                        [ 0.0851, -0.0582,  0.0073]],\n",
              "              \n",
              "                       [[-0.0472,  0.0390, -0.0474],\n",
              "                        [ 0.0456, -0.0499, -0.0743],\n",
              "                        [ 0.0398,  0.0294,  0.0766]],\n",
              "              \n",
              "                       [[ 0.0401,  0.0189, -0.0652],\n",
              "                        [-0.1023, -0.0154, -0.0369],\n",
              "                        [ 0.0540,  0.0060,  0.0670]],\n",
              "              \n",
              "                       [[ 0.0167,  0.0545, -0.0314],\n",
              "                        [-0.0595, -0.0865, -0.0306],\n",
              "                        [-0.0904, -0.0621,  0.0181]],\n",
              "              \n",
              "                       [[-0.0905, -0.0116, -0.0041],\n",
              "                        [-0.0771,  0.0910,  0.0684],\n",
              "                        [-0.0976, -0.0997, -0.0752]],\n",
              "              \n",
              "                       [[ 0.0821,  0.0362,  0.0350],\n",
              "                        [ 0.0076,  0.0371, -0.0614],\n",
              "                        [ 0.0718, -0.0964,  0.0964]],\n",
              "              \n",
              "                       [[-0.0379,  0.0666, -0.0441],\n",
              "                        [ 0.0236,  0.0519,  0.0004],\n",
              "                        [-0.0319, -0.0815, -0.0327]],\n",
              "              \n",
              "                       [[ 0.0980,  0.0835, -0.0453],\n",
              "                        [-0.0247,  0.0838,  0.0290],\n",
              "                        [ 0.0351,  0.0440, -0.0480]]]], device='cuda:0')),\n",
              "             ('conv_block_2.2.bias',\n",
              "              tensor([-0.0049,  0.0761,  0.0246, -0.0352,  0.0870, -0.0142,  0.0310, -0.0222,\n",
              "                      -0.0256, -0.0211], device='cuda:0')),\n",
              "             ('classifier.1.weight',\n",
              "              tensor([[ 0.0123, -0.0137, -0.0065,  ...,  0.0278, -0.0341,  0.0225],\n",
              "                      [-0.0352,  0.0059, -0.0215,  ..., -0.0426, -0.0424, -0.0289],\n",
              "                      [-0.0419, -0.0428,  0.0015,  ...,  0.0149,  0.0277, -0.0212],\n",
              "                      ...,\n",
              "                      [-0.0411,  0.0440, -0.0294,  ..., -0.0271,  0.0061,  0.0016],\n",
              "                      [-0.0045, -0.0143, -0.0078,  ..., -0.0290,  0.0183, -0.0081],\n",
              "                      [ 0.0444, -0.0018,  0.0090,  ...,  0.0318, -0.0289,  0.0080]],\n",
              "                     device='cuda:0')),\n",
              "             ('classifier.1.bias',\n",
              "              tensor([ 0.0119, -0.0429, -0.0421, -0.0386,  0.0226,  0.0064, -0.0025,  0.0437,\n",
              "                      -0.0012, -0.0394], device='cuda:0'))])"
            ]
          },
          "metadata": {},
          "execution_count": 26
        }
      ]
    },
    {
      "cell_type": "code",
      "source": [
        "# Try a dummy forward pass to see what shapes our data is\n",
        "dummy_x = torch.rand(size=(1, 28, 28)).unsqueeze(dim=0).to(device)\n",
        "dummy_x.shape\n",
        "model(dummy_x)"
      ],
      "metadata": {
        "colab": {
          "base_uri": "https://localhost:8080/"
        },
        "id": "OBun3uAVXj9n",
        "outputId": "e3d772be-25c0-4a31-c931-93f8ef5be67f"
      },
      "execution_count": null,
      "outputs": [
        {
          "output_type": "execute_result",
          "data": {
            "text/plain": [
              "tensor([[ 0.0448, -0.1309, -0.0561, -0.0671,  0.0373, -0.0056, -0.0167,  0.1468,\n",
              "          0.0193, -0.0260]], device='cuda:0', grad_fn=<AddmmBackward0>)"
            ]
          },
          "metadata": {},
          "execution_count": 27
        }
      ]
    },
    {
      "cell_type": "code",
      "source": [
        "dummy_x_2 = torch.rand(size=([1, 10, 7, 7]))\n",
        "dummy_x_2.shape"
      ],
      "metadata": {
        "colab": {
          "base_uri": "https://localhost:8080/"
        },
        "id": "oD_l3RYKXttc",
        "outputId": "f5154f5f-e194-447d-bb4d-770b4f164be7"
      },
      "execution_count": null,
      "outputs": [
        {
          "output_type": "execute_result",
          "data": {
            "text/plain": [
              "torch.Size([1, 10, 7, 7])"
            ]
          },
          "metadata": {},
          "execution_count": 28
        }
      ]
    },
    {
      "cell_type": "code",
      "source": [
        "flatten_layer = nn.Flatten()\n",
        "flatten_layer(dummy_x_2).shape"
      ],
      "metadata": {
        "colab": {
          "base_uri": "https://localhost:8080/"
        },
        "id": "cFQFfLKMX1Tl",
        "outputId": "cfd44c10-c351-4c26-e22b-70ce5c304028"
      },
      "execution_count": null,
      "outputs": [
        {
          "output_type": "execute_result",
          "data": {
            "text/plain": [
              "torch.Size([1, 490])"
            ]
          },
          "metadata": {},
          "execution_count": 29
        }
      ]
    },
    {
      "cell_type": "markdown",
      "source": [
        "## 9. Train the model you built in exercise 8. for 5 epochs on CPU and GPU and see how long it takes on each."
      ],
      "metadata": {
        "id": "y5dlQkHtX9ao"
      }
    },
    {
      "cell_type": "code",
      "source": [
        "%%time\n",
        "from tqdm.auto import tqdm\n",
        "\n",
        "# Train on CPU\n",
        "model_cpu = MNIST_model(input_shape=1,\n",
        "                        hidden_units=10,\n",
        "                        output_shape=10).to(\"cpu\")\n",
        "\n",
        "# Create a loss function and optimizer\n",
        "loss_fn = nn.CrossEntropyLoss()\n",
        "optimizer = torch.optim.SGD(model_cpu.parameters(), lr=0.1)\n",
        "\n",
        "### Training loop\n",
        "epochs = 5\n",
        "for epoch in tqdm(range(epochs)):\n",
        "  train_loss = 0\n",
        "  for batch, (X, y) in enumerate(train_dataloader):\n",
        "    model_cpu.train()\n",
        "\n",
        "    # Put data on CPU\n",
        "    X, y = X.to(\"cpu\"), y.to(\"cpu\")\n",
        "\n",
        "    # Forward pass\n",
        "    y_pred = model_cpu(X)\n",
        "\n",
        "    # Loss calculation\n",
        "    loss = loss_fn(y_pred, y)\n",
        "    train_loss += loss\n",
        "\n",
        "    # Optimizer zero grad\n",
        "    optimizer.zero_grad()\n",
        "\n",
        "    # Loss backward\n",
        "    loss.backward()\n",
        "\n",
        "    # Step the optimizer\n",
        "    optimizer.step()\n",
        "\n",
        "  # Adjust train loss for number of batches\n",
        "  train_loss /= len(train_dataloader)\n",
        "\n",
        "  ### Testing loop\n",
        "  test_loss_total = 0\n",
        "\n",
        "  # Put model in eval mode\n",
        "  model_cpu.eval()\n",
        "\n",
        "  # Turn on inference mode\n",
        "  with torch.inference_mode():\n",
        "    for batch, (X_test, y_test) in enumerate(test_dataloader):\n",
        "      # Make sure test data on CPU\n",
        "      X_test, y_test = X_test.to(\"cpu\"), y_test.to(\"cpu\")\n",
        "      test_pred = model_cpu(X_test)\n",
        "      test_loss = loss_fn(test_pred, y_test)\n",
        "\n",
        "      test_loss_total += test_loss\n",
        "\n",
        "    test_loss_total /= len(test_dataloader)\n",
        "\n",
        "  # Print out what's happening\n",
        "  print(f\"Epoch: {epoch} | Loss: {train_loss:.3f} | Test loss: {test_loss_total:.3f}\")"
      ],
      "metadata": {
        "colab": {
          "base_uri": "https://localhost:8080/",
          "height": 171,
          "referenced_widgets": [
            "dd0907fcf3e347b8ac8791244185f860",
            "26c4e50abd134237b08bb67b756a76a4",
            "ade73652626040a0a584f84e6fabb79b",
            "d9f4b8c873754e61a05bd0442e10d865",
            "e07d111036644a5e8c15ea1ef6cfa000",
            "cad5ecb0b38b4c2dadb6cf6493bd689d",
            "94401896b2b34e4dbaeb563cf7a0fe80",
            "67eb249ea6514de99079d4d2178f97ac",
            "dc8cb6c787194a299713763df2d65b75",
            "7eef22435bd241ff8583bbd5eafc90c7",
            "d081a3840c3349e78d79b0521b614bad"
          ]
        },
        "id": "YdxySHa1X_0h",
        "outputId": "e106f62e-a341-4fec-d0c1-945515c0dfb2"
      },
      "execution_count": null,
      "outputs": [
        {
          "output_type": "display_data",
          "data": {
            "text/plain": [
              "  0%|          | 0/5 [00:00<?, ?it/s]"
            ],
            "application/vnd.jupyter.widget-view+json": {
              "version_major": 2,
              "version_minor": 0,
              "model_id": "dd0907fcf3e347b8ac8791244185f860"
            }
          },
          "metadata": {}
        },
        {
          "output_type": "stream",
          "name": "stdout",
          "text": [
            "Epoch: 0 | Loss: 0.341 | Test loss: 0.078\n",
            "Epoch: 1 | Loss: 0.082 | Test loss: 0.049\n",
            "Epoch: 2 | Loss: 0.065 | Test loss: 0.049\n",
            "Epoch: 3 | Loss: 0.056 | Test loss: 0.046\n",
            "Epoch: 4 | Loss: 0.050 | Test loss: 0.055\n",
            "CPU times: user 3min 31s, sys: 1.46 s, total: 3min 32s\n",
            "Wall time: 3min 33s\n"
          ]
        }
      ]
    },
    {
      "cell_type": "code",
      "source": [
        "%%time\n",
        "from tqdm.auto import tqdm\n",
        "\n",
        "device = \"cuda\" if torch.cuda.is_available() else \"cpu\"\n",
        "\n",
        "# Train on GPU\n",
        "model_gpu = MNIST_model(input_shape=1,\n",
        "                        hidden_units=10,\n",
        "                        output_shape=10).to(device)\n",
        "\n",
        "# Create a loss function and optimizer\n",
        "loss_fn = nn.CrossEntropyLoss()\n",
        "optimizer = torch.optim.SGD(model_gpu.parameters(), lr=0.1)\n",
        "\n",
        "# Training loop\n",
        "epochs = 5\n",
        "for epoch in tqdm(range(epochs)):\n",
        "  train_loss = 0\n",
        "  model_gpu.train()\n",
        "  for batch, (X, y) in enumerate(train_dataloader):\n",
        "    # Put data on target device\n",
        "    X, y = X.to(device), y.to(device)\n",
        "\n",
        "    # Forward pass\n",
        "    y_pred = model_gpu(X)\n",
        "\n",
        "    # Loss calculation\n",
        "    loss = loss_fn(y_pred, y)\n",
        "    train_loss += loss\n",
        "\n",
        "    # Optimizer zero grad\n",
        "    optimizer.zero_grad()\n",
        "\n",
        "    # Loss backward\n",
        "    loss.backward()\n",
        "\n",
        "    # Step the optimizer\n",
        "    optimizer.step()\n",
        "\n",
        "  # Adjust train loss to number of batches\n",
        "  train_loss /= len(train_dataloader)\n",
        "\n",
        "  ### Testing loop\n",
        "  test_loss_total = 0\n",
        "  # Put model in eval mode and turn on inference mode\n",
        "  model_gpu.eval()\n",
        "  with torch.inference_mode():\n",
        "    for batch, (X_test, y_test) in enumerate(test_dataloader):\n",
        "      # Make sure test data on target device\n",
        "      X_test, y_test = X_test.to(device), y_test.to(device)\n",
        "\n",
        "      test_pred = model_gpu(X_test)\n",
        "      test_loss = loss_fn(test_pred, y_test)\n",
        "\n",
        "      test_loss_total += test_loss\n",
        "\n",
        "    # Adjust test loss total for number of batches\n",
        "    test_loss_total /= len(test_dataloader)\n",
        "\n",
        "  # Print out what's happening\n",
        "  print(f\"Epoch: {epoch} | Loss: {train_loss:.3f} | Test loss: {test_loss_total:.3f}\")"
      ],
      "metadata": {
        "colab": {
          "base_uri": "https://localhost:8080/",
          "height": 171,
          "referenced_widgets": [
            "cb8613e7bd444327bc64ed905011392a",
            "79718bc8806e48d4a99a66d4e863092a",
            "b4d10960c4da4a2aac9b8526362def41",
            "22737e7b739046f1a20b58c1faaa1eda",
            "530d73fc71a549e0903e0d5a9777d291",
            "dd1fe923916d4c3996ffd32b15cff4d0",
            "bd31f1250e424c389ae191b6abcdea57",
            "774e3b5e7e1c43f69bdff0f2b34c51e2",
            "8977a1ee9db548299a1beffadc23a157",
            "dbea77cbd7dc4b5690a110967fbd741f",
            "1372aba20f2f4191b019fdb4ab16b6f0"
          ]
        },
        "id": "fOWxAHMJZDMs",
        "outputId": "1db7da66-52f0-4976-a10d-480c62bee5b9"
      },
      "execution_count": null,
      "outputs": [
        {
          "output_type": "display_data",
          "data": {
            "text/plain": [
              "  0%|          | 0/5 [00:00<?, ?it/s]"
            ],
            "application/vnd.jupyter.widget-view+json": {
              "version_major": 2,
              "version_minor": 0,
              "model_id": "cb8613e7bd444327bc64ed905011392a"
            }
          },
          "metadata": {}
        },
        {
          "output_type": "stream",
          "name": "stdout",
          "text": [
            "Epoch: 0 | Loss: 0.269 | Test loss: 0.058\n",
            "Epoch: 1 | Loss: 0.065 | Test loss: 0.064\n",
            "Epoch: 2 | Loss: 0.051 | Test loss: 0.035\n",
            "Epoch: 3 | Loss: 0.044 | Test loss: 0.038\n",
            "Epoch: 4 | Loss: 0.039 | Test loss: 0.033\n",
            "CPU times: user 58.1 s, sys: 652 ms, total: 58.8 s\n",
            "Wall time: 59.6 s\n"
          ]
        }
      ]
    },
    {
      "cell_type": "markdown",
      "source": [
        "## 10. Make predictions using your trained model and visualize at least 5 of them comparing the prediciton to the target label."
      ],
      "metadata": {
        "id": "qLqnDW35ZQSa"
      }
    },
    {
      "cell_type": "code",
      "source": [
        "# Make predictions with the trained model\n",
        "plt.imshow(test_data[0][0].squeeze(), cmap=\"gray\")"
      ],
      "metadata": {
        "colab": {
          "base_uri": "https://localhost:8080/",
          "height": 447
        },
        "id": "jcBZLR_lZV7g",
        "outputId": "aeb5bea3-7bdd-4ad3-fcfa-4440e5864df6"
      },
      "execution_count": null,
      "outputs": [
        {
          "output_type": "execute_result",
          "data": {
            "text/plain": [
              "<matplotlib.image.AxesImage at 0x7993ee2d25f0>"
            ]
          },
          "metadata": {},
          "execution_count": 32
        },
        {
          "output_type": "display_data",
          "data": {
            "text/plain": [
              "<Figure size 640x480 with 1 Axes>"
            ],
            "image/png": "[encoded data removed]"
          },
          "metadata": {}
        }
      ]
    },
    {
      "cell_type": "code",
      "source": [
        "# Logits -> Prediction probabilities -> Prediction labels\n",
        "model_pred_logits = model_gpu(test_data[0][0].unsqueeze(dim=0).to(device)) # make sure image is right shape + on right device\n",
        "model_pred_probs = torch.softmax(model_pred_logits, dim=1)\n",
        "model_pred_label = torch.argmax(model_pred_probs, dim=1)\n",
        "model_pred_label"
      ],
      "metadata": {
        "colab": {
          "base_uri": "https://localhost:8080/"
        },
        "id": "5hoRVkIgZeZq",
        "outputId": "398f770d-7f9c-4ad8-e376-09a5f05f61db"
      },
      "execution_count": null,
      "outputs": [
        {
          "output_type": "execute_result",
          "data": {
            "text/plain": [
              "tensor([7], device='cuda:0')"
            ]
          },
          "metadata": {},
          "execution_count": 33
        }
      ]
    },
    {
      "cell_type": "code",
      "source": [
        "num_to_plot = 5\n",
        "for i in range(num_to_plot):\n",
        "  # Get image and labels from the test data\n",
        "  img = test_data[i][0]\n",
        "  label = test_data[i][1]\n",
        "\n",
        "  # Make prediction on image\n",
        "  model_pred_logits = model_gpu(img.unsqueeze(dim=0).to(device))\n",
        "  model_pred_probs = torch.softmax(model_pred_logits, dim=1)\n",
        "  model_pred_label = torch.argmax(model_pred_probs, dim=1)\n",
        "\n",
        "  # Plot the image and prediction\n",
        "  plt.figure()\n",
        "  plt.imshow(img.squeeze(), cmap=\"gray\")\n",
        "  plt.title(f\"Truth: {label} | Pred: {model_pred_label.cpu().item()}\")\n",
        "  plt.axis(False);"
      ],
      "metadata": {
        "colab": {
          "base_uri": "https://localhost:8080/",
          "height": 1000
        },
        "id": "ivPKCmnaZkMb",
        "outputId": "a1b53d39-f22b-4577-cda7-ed87fb038df0"
      },
      "execution_count": null,
      "outputs": [
        {
          "output_type": "display_data",
          "data": {
            "text/plain": [
              "<Figure size 640x480 with 1 Axes>"
            ],
            "image/png": "[encoded data removed]"
          },
          "metadata": {}
        },
        {
          "output_type": "display_data",
          "data": {
            "text/plain": [
              "<Figure size 640x480 with 1 Axes>"
            ],
            "image/png": "[encoded data removed]"
          },
          "metadata": {}
        },
        {
          "output_type": "display_data",
          "data": {
            "text/plain": [
              "<Figure size 640x480 with 1 Axes>"
            ],
            "image/png": "[encoded data removed]"
          },
          "metadata": {}
        },
        {
          "output_type": "display_data",
          "data": {
            "text/plain": [
              "<Figure size 640x480 with 1 Axes>"
            ],
            "image/png": "[encoded data removed]"
          },
          "metadata": {}
        },
        {
          "output_type": "display_data",
          "data": {
            "text/plain": [
              "<Figure size 640x480 with 1 Axes>"
            ],
            "image/png": "[encoded data removed]"
          },
          "metadata": {}
        }
      ]
    },
    {
      "cell_type": "markdown",
      "source": [
        "## 11. Plot a confusion matrix comparing your model's predictions to the truth labels."
      ],
      "metadata": {
        "id": "x_l1poU3Zt0_"
      }
    },
    {
      "cell_type": "code",
      "source": [
        "# See if torchmetrics exists, if not, install it\n",
        "try:\n",
        "    import torchmetrics, mlxtend\n",
        "    print(f\"mlxtend version: {mlxtend.__version__}\")\n",
        "    assert int(mlxtend.__version__.split(\".\")[1]) >= 19, \"mlxtend verison should be 0.19.0 or higher\"\n",
        "except:\n",
        "    !pip install -q torchmetrics -U mlxtend # <- Note: If you're using Google Colab, this may require restarting the runtime\n",
        "    import torchmetrics, mlxtend\n",
        "    print(f\"mlxtend version: {mlxtend.__version__}\")\n"
      ],
      "metadata": {
        "colab": {
          "base_uri": "https://localhost:8080/"
        },
        "id": "e-0xNNbLZs6f",
        "outputId": "6f62e02a-cde5-4698-ebe9-619abdd84ad5"
      },
      "execution_count": null,
      "outputs": [
        {
          "output_type": "stream",
          "name": "stdout",
          "text": [
            "mlxtend version: 0.23.1\n"
          ]
        }
      ]
    },
    {
      "cell_type": "code",
      "source": [
        "# Import mlxtend upgraded version\n",
        "import mlxtend\n",
        "print(mlxtend.__version__)\n",
        "assert int(mlxtend.__version__.split(\".\")[1]) >= 19 # should be version 0.19.0 or higher"
      ],
      "metadata": {
        "colab": {
          "base_uri": "https://localhost:8080/"
        },
        "id": "5hR_bitHaY3F",
        "outputId": "5f8ce2d9-6870-4433-fefb-f29f0b5ff960"
      },
      "execution_count": null,
      "outputs": [
        {
          "output_type": "stream",
          "name": "stdout",
          "text": [
            "0.23.1\n"
          ]
        }
      ]
    },
    {
      "cell_type": "code",
      "source": [
        "# Make predictions across all test data\n",
        "from tqdm.auto import tqdm\n",
        "model_gpu.eval()\n",
        "y_preds = []\n",
        "with torch.inference_mode():\n",
        "  for batch, (X, y) in tqdm(enumerate(test_dataloader)):\n",
        "    # Make sure data on right device\n",
        "    X, y = X.to(device), y.to(device)\n",
        "    # Forward pass\n",
        "    y_pred_logits = model_gpu(X)\n",
        "    # Logits -> Pred probs -> Pred label\n",
        "    y_pred_labels = torch.argmax(torch.softmax(y_pred_logits, dim=1), dim=1)\n",
        "    # Append the labels to the preds list\n",
        "    y_preds.append(y_pred_labels)\n",
        "  y_preds=torch.cat(y_preds).cpu()\n",
        "len(y_preds)"
      ],
      "metadata": {
        "colab": {
          "base_uri": "https://localhost:8080/",
          "height": 66,
          "referenced_widgets": [
            "5c1f88449fe84226b9f41535fd32520c",
            "c1e0841997054a8b906da354faf7c436",
            "84e804f9c642493980044750f036c4ba",
            "27017d312ec04ff79fdd2246c88284b4",
            "89e14e561c604c6aa2976078726892ab",
            "a7f9cea2eefc4870868675430d9668c2",
            "8c08b5c9fa8749fa8450480bb6c837a2",
            "95afe7550f13414897c9c8f13e37d9c4",
            "25d09c291411417e90f59e5e2a08e03a",
            "fb47b815075a4ac991a76f9166cedfce",
            "2eb8a6791aac4df389b3f960c2463644"
          ]
        },
        "id": "sHl8fWpoafRi",
        "outputId": "5c738398-8534-44f0-c7e3-669e75677203"
      },
      "execution_count": null,
      "outputs": [
        {
          "output_type": "display_data",
          "data": {
            "text/plain": [
              "0it [00:00, ?it/s]"
            ],
            "application/vnd.jupyter.widget-view+json": {
              "version_major": 2,
              "version_minor": 0,
              "model_id": "5c1f88449fe84226b9f41535fd32520c"
            }
          },
          "metadata": {}
        },
        {
          "output_type": "execute_result",
          "data": {
            "text/plain": [
              "10000"
            ]
          },
          "metadata": {},
          "execution_count": 37
        }
      ]
    },
    {
      "cell_type": "code",
      "source": [
        "test_data.targets[:10], y_preds[:10]"
      ],
      "metadata": {
        "colab": {
          "base_uri": "https://localhost:8080/"
        },
        "id": "Bq5ZN1yganIq",
        "outputId": "23efa285-f99e-49bc-dd99-89e8575d6801"
      },
      "execution_count": null,
      "outputs": [
        {
          "output_type": "execute_result",
          "data": {
            "text/plain": [
              "(tensor([7, 2, 1, 0, 4, 1, 4, 9, 5, 9]),\n",
              " tensor([7, 2, 1, 0, 4, 1, 4, 9, 5, 9]))"
            ]
          },
          "metadata": {},
          "execution_count": 38
        }
      ]
    },
    {
      "cell_type": "code",
      "source": [
        "from torchmetrics import ConfusionMatrix\n",
        "from mlxtend.plotting import plot_confusion_matrix\n",
        "\n",
        "# Setup confusion matrix\n",
        "confmat = ConfusionMatrix(task=\"multiclass\", num_classes=len(class_names))\n",
        "confmat_tensor = confmat(preds=y_preds,\n",
        "                         target=test_data.targets)\n",
        "\n",
        "# Plot the confusion matrix\n",
        "fix, ax = plot_confusion_matrix(\n",
        "    conf_mat=confmat_tensor.numpy(),\n",
        "    class_names=class_names,\n",
        "    figsize=(10, 7)\n",
        ")"
      ],
      "metadata": {
        "colab": {
          "base_uri": "https://localhost:8080/",
          "height": 660
        },
        "id": "2jf8Lhx0as40",
        "outputId": "d6a04770-6a02-4f7a-ab1c-fc0a64b9a23c"
      },
      "execution_count": null,
      "outputs": [
        {
          "output_type": "display_data",
          "data": {
            "text/plain": [
              "<Figure size 1000x700 with 1 Axes>"
            ],
            "image/png": "[encoded data removed]"
          },
          "metadata": {}
        }
      ]
    },
    {
      "cell_type": "markdown",
      "source": [
        "## 12. Create a random tensor of shape `[1, 3, 64, 64]` and pass it through a `nn.Conv2d()` layer with various hyperparameter settings (these can be any settings you choose), what do you notice if the `kernel_size` parameter goes up and down?"
      ],
      "metadata": {
        "id": "giGjTikXbBLI"
      }
    },
    {
      "cell_type": "code",
      "source": [
        "random_tensor = torch.rand([1, 3, 64, 64])\n",
        "random_tensor.shape"
      ],
      "metadata": {
        "colab": {
          "base_uri": "https://localhost:8080/"
        },
        "id": "6V32O9X-bG-X",
        "outputId": "d134cd42-a39e-46b4-878f-be4cc9d4e3d1"
      },
      "execution_count": null,
      "outputs": [
        {
          "output_type": "execute_result",
          "data": {
            "text/plain": [
              "torch.Size([1, 3, 64, 64])"
            ]
          },
          "metadata": {},
          "execution_count": 40
        }
      ]
    },
    {
      "cell_type": "code",
      "source": [
        "conv_layer = nn.Conv2d(in_channels=3,\n",
        "                       out_channels=64,\n",
        "                       kernel_size=3,\n",
        "                       stride=2,\n",
        "                       padding=1)\n",
        "\n",
        "print(f\"Random tensor original shape: {random_tensor.shape}\")\n",
        "random_tensor_through_conv_layer = conv_layer(random_tensor)\n",
        "print(f\"Random tensor through conv layer shape: {random_tensor_through_conv_layer.shape}\")"
      ],
      "metadata": {
        "colab": {
          "base_uri": "https://localhost:8080/"
        },
        "id": "sqGkSQTFbOi0",
        "outputId": "623a38dc-16ed-4124-b9a9-b04e2fd22e10"
      },
      "execution_count": null,
      "outputs": [
        {
          "output_type": "stream",
          "name": "stdout",
          "text": [
            "Random tensor original shape: torch.Size([1, 3, 64, 64])\n",
            "Random tensor through conv layer shape: torch.Size([1, 64, 32, 32])\n"
          ]
        }
      ]
    },
    {
      "cell_type": "markdown",
      "source": [
        "## 13. Use a model similar to the trained `model_2` from notebook 03 to make predictions on the test [`torchvision.datasets.FashionMNIST`](https://pytorch.org/vision/main/generated/torchvision.datasets.FashionMNIST.html) dataset.\n",
        "* Then plot some predictions where the model was wrong alongside what the label of the image should've been.\n",
        "* After visualing these predictions do you think it's more of a modelling error or a data error?\n",
        "* As in, could the model do better or are the labels of the data too close to each other (e.g. a \"Shirt\" label is too close to \"T-shirt/top\")?"
      ],
      "metadata": {
        "id": "AEYjTmXYbdoE"
      }
    },
    {
      "cell_type": "code",
      "source": [
        "# Download FashionMNIST train & test\n",
        "from torchvision import datasets\n",
        "from torchvision import transforms\n",
        "\n",
        "fashion_mnist_train = datasets.FashionMNIST(root=\".\",\n",
        "                                            download=True,\n",
        "                                            train=True,\n",
        "                                            transform=transforms.ToTensor())\n",
        "\n",
        "fashion_mnist_test = datasets.FashionMNIST(root=\".\",\n",
        "                                           train=False,\n",
        "                                           download=True,\n",
        "                                           transform=transforms.ToTensor())\n",
        "\n",
        "len(fashion_mnist_train), len(fashion_mnist_test)"
      ],
      "metadata": {
        "colab": {
          "base_uri": "https://localhost:8080/"
        },
        "id": "qN8Im6MDbf9u",
        "outputId": "a37f71b2-809f-4ef5-e7c9-c90e4cd36eeb"
      },
      "execution_count": null,
      "outputs": [
        {
          "output_type": "stream",
          "name": "stdout",
          "text": [
            "Downloading http://fashion-mnist.s3-website.eu-central-1.amazonaws.com/train-images-idx3-ubyte.gz\n",
            "Downloading http://fashion-mnist.s3-website.eu-central-1.amazonaws.com/train-images-idx3-ubyte.gz to ./FashionMNIST/raw/train-images-idx3-ubyte.gz\n"
          ]
        },
        {
          "output_type": "stream",
          "name": "stderr",
          "text": [
            "100%|██████████| 26421880/26421880 [00:02<00:00, 10937186.97it/s]\n"
          ]
        },
        {
          "output_type": "stream",
          "name": "stdout",
          "text": [
            "Extracting ./FashionMNIST/raw/train-images-idx3-ubyte.gz to ./FashionMNIST/raw\n",
            "\n",
            "Downloading http://fashion-mnist.s3-website.eu-central-1.amazonaws.com/train-labels-idx1-ubyte.gz\n",
            "Downloading http://fashion-mnist.s3-website.eu-central-1.amazonaws.com/train-labels-idx1-ubyte.gz to ./FashionMNIST/raw/train-labels-idx1-ubyte.gz\n"
          ]
        },
        {
          "output_type": "stream",
          "name": "stderr",
          "text": [
            "100%|██████████| 29515/29515 [00:00<00:00, 196533.51it/s]\n"
          ]
        },
        {
          "output_type": "stream",
          "name": "stdout",
          "text": [
            "Extracting ./FashionMNIST/raw/train-labels-idx1-ubyte.gz to ./FashionMNIST/raw\n",
            "\n",
            "Downloading http://fashion-mnist.s3-website.eu-central-1.amazonaws.com/t10k-images-idx3-ubyte.gz\n",
            "Downloading http://fashion-mnist.s3-website.eu-central-1.amazonaws.com/t10k-images-idx3-ubyte.gz to ./FashionMNIST/raw/t10k-images-idx3-ubyte.gz\n"
          ]
        },
        {
          "output_type": "stream",
          "name": "stderr",
          "text": [
            "100%|██████████| 4422102/4422102 [00:01<00:00, 3679785.78it/s]\n"
          ]
        },
        {
          "output_type": "stream",
          "name": "stdout",
          "text": [
            "Extracting ./FashionMNIST/raw/t10k-images-idx3-ubyte.gz to ./FashionMNIST/raw\n",
            "\n",
            "Downloading http://fashion-mnist.s3-website.eu-central-1.amazonaws.com/t10k-labels-idx1-ubyte.gz\n",
            "Downloading http://fashion-mnist.s3-website.eu-central-1.amazonaws.com/t10k-labels-idx1-ubyte.gz to ./FashionMNIST/raw/t10k-labels-idx1-ubyte.gz\n"
          ]
        },
        {
          "output_type": "stream",
          "name": "stderr",
          "text": [
            "100%|██████████| 5148/5148 [00:00<00:00, 23093344.38it/s]"
          ]
        },
        {
          "output_type": "stream",
          "name": "stdout",
          "text": [
            "Extracting ./FashionMNIST/raw/t10k-labels-idx1-ubyte.gz to ./FashionMNIST/raw\n",
            "\n"
          ]
        },
        {
          "output_type": "stream",
          "name": "stderr",
          "text": [
            "\n"
          ]
        },
        {
          "output_type": "execute_result",
          "data": {
            "text/plain": [
              "(60000, 10000)"
            ]
          },
          "metadata": {},
          "execution_count": 43
        }
      ]
    },
    {
      "cell_type": "code",
      "source": [
        "# Get the class names of the Fashion MNIST dataset\n",
        "fashion_mnist_class_names = fashion_mnist_train.classes\n",
        "fashion_mnist_class_names"
      ],
      "metadata": {
        "colab": {
          "base_uri": "https://localhost:8080/"
        },
        "id": "iKNaWcKXbxam",
        "outputId": "bf7791e0-b698-450e-a1a0-63e77f5b87d1"
      },
      "execution_count": null,
      "outputs": [
        {
          "output_type": "execute_result",
          "data": {
            "text/plain": [
              "['T-shirt/top',\n",
              " 'Trouser',\n",
              " 'Pullover',\n",
              " 'Dress',\n",
              " 'Coat',\n",
              " 'Sandal',\n",
              " 'Shirt',\n",
              " 'Sneaker',\n",
              " 'Bag',\n",
              " 'Ankle boot']"
            ]
          },
          "metadata": {},
          "execution_count": 44
        }
      ]
    },
    {
      "cell_type": "code",
      "source": [
        "# Turn FashionMNIST datasets into dataloaders\n",
        "from torch.utils.data import DataLoader\n",
        "\n",
        "fashion_mnist_train_dataloader = DataLoader(fashion_mnist_train,\n",
        "                                            batch_size=32,\n",
        "                                            shuffle=True)\n",
        "\n",
        "fashion_mnist_test_dataloader = DataLoader(fashion_mnist_test,\n",
        "                                           batch_size=32,\n",
        "                                           shuffle=False)\n",
        "\n",
        "len(fashion_mnist_train_dataloader), len(fashion_mnist_test_dataloader)"
      ],
      "metadata": {
        "colab": {
          "base_uri": "https://localhost:8080/"
        },
        "id": "S8-GGvQtb4Ul",
        "outputId": "6cfeaf5a-e4d7-434a-9974-c7e19c49ddf6"
      },
      "execution_count": null,
      "outputs": [
        {
          "output_type": "execute_result",
          "data": {
            "text/plain": [
              "(1875, 313)"
            ]
          },
          "metadata": {},
          "execution_count": 45
        }
      ]
    },
    {
      "cell_type": "code",
      "source": [
        "# model_2 is the same architecture as MNIST_model\n",
        "model_2 = MNIST_model(input_shape=1,\n",
        "                      hidden_units=10,\n",
        "                      output_shape=10).to(device)\n",
        "model_2"
      ],
      "metadata": {
        "colab": {
          "base_uri": "https://localhost:8080/"
        },
        "id": "QVserOTtb9yE",
        "outputId": "d96ef367-75dd-4b61-f21a-6ffe4a56fce2"
      },
      "execution_count": null,
      "outputs": [
        {
          "output_type": "execute_result",
          "data": {
            "text/plain": [
              "MNIST_model(\n",
              "  (conv_block_1): Sequential(\n",
              "    (0): Conv2d(1, 10, kernel_size=(3, 3), stride=(1, 1), padding=(1, 1))\n",
              "    (1): ReLU()\n",
              "    (2): Conv2d(10, 10, kernel_size=(3, 3), stride=(1, 1), padding=(1, 1))\n",
              "    (3): ReLU()\n",
              "    (4): MaxPool2d(kernel_size=2, stride=2, padding=0, dilation=1, ceil_mode=False)\n",
              "  )\n",
              "  (conv_block_2): Sequential(\n",
              "    (0): Conv2d(10, 10, kernel_size=(3, 3), stride=(1, 1), padding=(1, 1))\n",
              "    (1): ReLU()\n",
              "    (2): Conv2d(10, 10, kernel_size=(3, 3), stride=(1, 1), padding=(1, 1))\n",
              "    (3): ReLU()\n",
              "    (4): MaxPool2d(kernel_size=2, stride=2, padding=0, dilation=1, ceil_mode=False)\n",
              "  )\n",
              "  (classifier): Sequential(\n",
              "    (0): Flatten(start_dim=1, end_dim=-1)\n",
              "    (1): Linear(in_features=490, out_features=10, bias=True)\n",
              "  )\n",
              ")"
            ]
          },
          "metadata": {},
          "execution_count": 46
        }
      ]
    },
    {
      "cell_type": "code",
      "source": [
        "\n",
        "# Setup loss and optimizer\n",
        "from torch import nn\n",
        "loss_fn = nn.CrossEntropyLoss()\n",
        "optimizer = torch.optim.SGD(model_2.parameters(), lr=0.01)"
      ],
      "metadata": {
        "id": "oCwfOdhJcGVN"
      },
      "execution_count": null,
      "outputs": []
    },
    {
      "cell_type": "code",
      "source": [
        "# Setup metrics\n",
        "from tqdm.auto import tqdm\n",
        "from torchmetrics import Accuracy\n",
        "\n",
        "acc_fn = Accuracy(num_classes=len(fashion_mnist_class_names)).to(device)\n",
        "\n",
        "# Setup training/testing loop\n",
        "epochs = 5\n",
        "for epoch in tqdm(range(epochs)):\n",
        "  train_loss, test_loss_total = 0, 0\n",
        "  train_acc, test_acc = 0, 0\n",
        "\n",
        "  ### Training\n",
        "  model_2.train()\n",
        "  for batch, (X_train, y_train) in enumerate(fashion_mnist_train_dataloader):\n",
        "    X_train, y_train = X_train.to(device), y_train.to(device)\n",
        "\n",
        "    # Forward pass and loss\n",
        "    y_pred = model_2(X_train)\n",
        "    loss = loss_fn(y_pred, y_train)\n",
        "    train_loss += loss\n",
        "    train_acc += acc_fn(y_pred, y_train)\n",
        "\n",
        "    # Backprop and gradient descent\n",
        "    optimizer.zero_grad()\n",
        "    loss.backward()\n",
        "    optimizer.step()\n",
        "\n",
        "  # Adjust the loss/acc (find the loss/acc per epoch)\n",
        "  train_loss /= len(fashion_mnist_train_dataloader)\n",
        "  train_acc /= len(fashion_mnist_train_dataloader)\n",
        "\n",
        "  ### Testing\n",
        "  model_2.eval()\n",
        "  with torch.inference_mode():\n",
        "    for batch, (X_test, y_test) in enumerate(fashion_mnist_test_dataloader):\n",
        "      X_test, y_test = X_test.to(device), y_test.to(device)\n",
        "\n",
        "      # Forward pass and loss\n",
        "      y_pred_test = model_2(X_test)\n",
        "      test_loss = loss_fn(y_pred_test, y_test)\n",
        "      test_loss_total += test_loss\n",
        "\n",
        "      test_acc += acc_fn(y_pred_test, y_test)\n",
        "\n",
        "    # Adjust the loss/acc (find the loss/acc per epoch)\n",
        "    test_loss /= len(fashion_mnist_test_dataloader)\n",
        "    test_acc /= len(fashion_mnist_test_dataloader)\n",
        "\n",
        "  # Print out what's happening\n",
        "  print(f\"Epoch: {epoch} | Train loss: {train_loss:.3f} | Train acc: {train_acc:.2f} | Test loss: {test_loss_total:.3f} | Test acc: {test_acc:.2f}\")"
      ],
      "metadata": {
        "id": "Migvw1gacZsF"
      },
      "execution_count": null,
      "outputs": []
    }
  ]
}